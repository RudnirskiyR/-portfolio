{
 "cells": [
  {
   "cell_type": "code",
   "execution_count": 1,
   "metadata": {
    "slideshow": {
     "slide_type": "skip"
    }
   },
   "outputs": [],
   "source": [
    "import numpy as np\n",
    "from scipy.stats import t\n",
    "from scipy.stats import norm\n",
    "import matplotlib.pyplot as plt\n",
    "from scipy import stats\n",
    "import pandas as pd\n",
    "import io\n",
    "import requests\n",
    "import seaborn as sns\n",
    "import statistics\n",
    "from scipy.stats import pearsonr\n",
    "import pandas_profiling\n",
    "from matplotlib.pyplot import figure\n",
    "import matplotlib as matplotlib\n",
    "%matplotlib inline"
   ]
  },
  {
   "cell_type": "code",
   "execution_count": 2,
   "metadata": {
    "slideshow": {
     "slide_type": "skip"
    }
   },
   "outputs": [],
   "source": [
    "sns.set(rc = {'figure.figsize':(7,5)})\n",
    "sns.set(style=\"whitegrid\")"
   ]
  },
  {
   "cell_type": "code",
   "execution_count": 3,
   "metadata": {
    "slideshow": {
     "slide_type": "skip"
    }
   },
   "outputs": [],
   "source": [
    "order_leads = pd.read_csv('order_leads.csv') \n",
    "sales_team =pd.read_csv('sales_team.csv')\n",
    "invoices =pd.read_csv('invoices.csv')"
   ]
  },
  {
   "cell_type": "markdown",
   "metadata": {
    "slideshow": {
     "slide_type": "skip"
    }
   },
   "source": [
    "<div class=\"alert alert-block alert-info\">\n",
    "<b>Tip:</b> Use blue boxes (alert-info) for tips and notes. \n",
    "If it’s a note, you don’t have to include the word “Note”.\n",
    "</div>"
   ]
  },
  {
   "cell_type": "markdown",
   "metadata": {
    "slideshow": {
     "slide_type": "slide"
    }
   },
   "source": [
    "<div class=\"alert alert-block alert-success\">\n",
    "    \n",
    "Описние задания. <br>\n",
    "Бизнес модель компании следующая:\n",
    "   1. Компания осуществляет заказа\n",
    "   2. Команда продаж помещает заказ в систему\n",
    "   3. Торговые представители пытаются организовать встречу, которая происходит примерно в то время, когда был замечен заказ\n",
    "   4. Торговые представители имеют бюджет расходов и всегда объединяют встречу с едой, за которую они платят\n",
    "\n",
    "<br>\n",
    "</div>\n"
   ]
  },
  {
   "cell_type": "markdown",
   "metadata": {
    "slideshow": {
     "slide_type": "subslide"
    }
   },
   "source": [
    "<div class=\"alert alert-block alert-success\">   \n",
    "    \n",
    "   5. Торговые представители оплачивают свои расходы и передают счета в бухгалтерию для обработки\n",
    "   6. После встречи, как потенциальный клиент решает, согласен ли он с предложенными условиями сделки или нет\n",
    "   7. После решения данные сделке ( заключена или нет) вносятся в систему\n",
    "\n",
    "\n",
    "<font color='blue'>Цель: выяснить каким образом повысить конверсию сделок</font> <br>"
   ]
  },
  {
   "cell_type": "markdown",
   "metadata": {
    "slideshow": {
     "slide_type": "slide"
    }
   },
   "source": [
    "### В рамках данного задания, нам представлены 3 набора данных, с следующими столбацами:"
   ]
  },
  {
   "cell_type": "markdown",
   "metadata": {
    "slideshow": {
     "slide_type": "subslide"
    }
   },
   "source": [
    "\n",
    "#### 1. order_leads - содержит все потенциальные заказы и информацию о конверсии\n",
    "* Order ID - уникальны номер заказ\n",
    "* Company Id - уникальный номер компании, от которой поступил заказ\n",
    "* Company Name - наименование компании\n",
    "* Date - дата, когда заказ был совершен\n",
    "* Order Value - cтоимость заказа \n",
    "* Converted - данные о конверсии в виде 1 и 0 где\n",
    "    * 1 - сделка заключена\n",
    "    * 2 - сделка не состоялась\n"
   ]
  },
  {
   "cell_type": "code",
   "execution_count": 4,
   "metadata": {
    "slideshow": {
     "slide_type": "fragment"
    }
   },
   "outputs": [
    {
     "data": {
      "text/html": [
       "<div>\n",
       "<style scoped>\n",
       "    .dataframe tbody tr th:only-of-type {\n",
       "        vertical-align: middle;\n",
       "    }\n",
       "\n",
       "    .dataframe tbody tr th {\n",
       "        vertical-align: top;\n",
       "    }\n",
       "\n",
       "    .dataframe thead th {\n",
       "        text-align: right;\n",
       "    }\n",
       "</style>\n",
       "<table border=\"1\" class=\"dataframe\">\n",
       "  <thead>\n",
       "    <tr style=\"text-align: right;\">\n",
       "      <th></th>\n",
       "      <th>Order Id</th>\n",
       "      <th>Company Id</th>\n",
       "      <th>Company Name</th>\n",
       "      <th>Date</th>\n",
       "      <th>Order Value</th>\n",
       "      <th>Converted</th>\n",
       "    </tr>\n",
       "  </thead>\n",
       "  <tbody>\n",
       "    <tr>\n",
       "      <th>0</th>\n",
       "      <td>HZSXLI1IS9RGABZW</td>\n",
       "      <td>D0AUXPP07H6AVSGD</td>\n",
       "      <td>Melancholy Social-Role</td>\n",
       "      <td>2017-10-13</td>\n",
       "      <td>6952</td>\n",
       "      <td>0</td>\n",
       "    </tr>\n",
       "    <tr>\n",
       "      <th>1</th>\n",
       "      <td>582WPS3OW8T6YT0R</td>\n",
       "      <td>D0AUXPP07H6AVSGD</td>\n",
       "      <td>Melancholy Social-Role</td>\n",
       "      <td>2017-09-02</td>\n",
       "      <td>7930</td>\n",
       "      <td>0</td>\n",
       "    </tr>\n",
       "  </tbody>\n",
       "</table>\n",
       "</div>"
      ],
      "text/plain": [
       "           Order Id        Company Id            Company Name        Date  \\\n",
       "0  HZSXLI1IS9RGABZW  D0AUXPP07H6AVSGD  Melancholy Social-Role  2017-10-13   \n",
       "1  582WPS3OW8T6YT0R  D0AUXPP07H6AVSGD  Melancholy Social-Role  2017-09-02   \n",
       "\n",
       "   Order Value  Converted  \n",
       "0         6952          0  \n",
       "1         7930          0  "
      ]
     },
     "execution_count": 4,
     "metadata": {},
     "output_type": "execute_result"
    }
   ],
   "source": [
    "order_leads.head(2)"
   ]
  },
  {
   "cell_type": "markdown",
   "metadata": {
    "slideshow": {
     "slide_type": "subslide"
    }
   },
   "source": [
    "#### 2. sales_team - содержит компании и ответственных торговых представителей, работающих с данными компаниями\n",
    "* Sales Rep Id - идентификатор торгового представителя\n",
    "* Sales Rep - имя торгового представителя\n",
    "* Company Id - идентификатор компании, с которой работает торговый представитель \n",
    "* Company Name - название компании   "
   ]
  },
  {
   "cell_type": "code",
   "execution_count": 5,
   "metadata": {
    "slideshow": {
     "slide_type": "fragment"
    }
   },
   "outputs": [
    {
     "data": {
      "text/html": [
       "<div>\n",
       "<style scoped>\n",
       "    .dataframe tbody tr th:only-of-type {\n",
       "        vertical-align: middle;\n",
       "    }\n",
       "\n",
       "    .dataframe tbody tr th {\n",
       "        vertical-align: top;\n",
       "    }\n",
       "\n",
       "    .dataframe thead th {\n",
       "        text-align: right;\n",
       "    }\n",
       "</style>\n",
       "<table border=\"1\" class=\"dataframe\">\n",
       "  <thead>\n",
       "    <tr style=\"text-align: right;\">\n",
       "      <th></th>\n",
       "      <th>Sales Rep</th>\n",
       "      <th>Sales Rep Id</th>\n",
       "      <th>Company Name</th>\n",
       "      <th>Company Id</th>\n",
       "    </tr>\n",
       "  </thead>\n",
       "  <tbody>\n",
       "    <tr>\n",
       "      <th>0</th>\n",
       "      <td>William Taylor</td>\n",
       "      <td>ZTZA0ZLYZR85PTUJ</td>\n",
       "      <td>Melancholy Social-Role</td>\n",
       "      <td>D0AUXPP07H6AVSGD</td>\n",
       "    </tr>\n",
       "    <tr>\n",
       "      <th>1</th>\n",
       "      <td>William Taylor</td>\n",
       "      <td>ZTZA0ZLYZR85PTUJ</td>\n",
       "      <td>Pee-Wee Pigeon</td>\n",
       "      <td>TJW99R4RWH02INII</td>\n",
       "    </tr>\n",
       "  </tbody>\n",
       "</table>\n",
       "</div>"
      ],
      "text/plain": [
       "        Sales Rep      Sales Rep Id            Company Name        Company Id\n",
       "0  William Taylor  ZTZA0ZLYZR85PTUJ  Melancholy Social-Role  D0AUXPP07H6AVSGD\n",
       "1  William Taylor  ZTZA0ZLYZR85PTUJ          Pee-Wee Pigeon  TJW99R4RWH02INII"
      ]
     },
     "execution_count": 5,
     "metadata": {},
     "output_type": "execute_result"
    }
   ],
   "source": [
    "sales_team.head(2)"
   ]
  },
  {
   "cell_type": "markdown",
   "metadata": {
    "slideshow": {
     "slide_type": "subslide"
    }
   },
   "source": [
    "#### 3. invoices - содержит информацию о всречах со счетами за обед и участниками встречи\n",
    "* Meal Id - уникальный номер встречи/ обеда\n",
    "* Company Id - идентификатор компании, с представителями которой осуществляется встреча.\n",
    "* Date of Meal - дата, когда была осуществлена встреча с указанием времени встречи\n",
    "* Participants - участники встречи, со стороны компании\n",
    "* Meal Price - стоимость обеда"
   ]
  },
  {
   "cell_type": "code",
   "execution_count": 6,
   "metadata": {
    "scrolled": true,
    "slideshow": {
     "slide_type": "fragment"
    }
   },
   "outputs": [
    {
     "data": {
      "text/html": [
       "<div>\n",
       "<style scoped>\n",
       "    .dataframe tbody tr th:only-of-type {\n",
       "        vertical-align: middle;\n",
       "    }\n",
       "\n",
       "    .dataframe tbody tr th {\n",
       "        vertical-align: top;\n",
       "    }\n",
       "\n",
       "    .dataframe thead th {\n",
       "        text-align: right;\n",
       "    }\n",
       "</style>\n",
       "<table border=\"1\" class=\"dataframe\">\n",
       "  <thead>\n",
       "    <tr style=\"text-align: right;\">\n",
       "      <th></th>\n",
       "      <th>Meal Id</th>\n",
       "      <th>Company Id</th>\n",
       "      <th>Date of Meal</th>\n",
       "      <th>Participants</th>\n",
       "      <th>Meal Price</th>\n",
       "    </tr>\n",
       "  </thead>\n",
       "  <tbody>\n",
       "    <tr>\n",
       "      <th>0</th>\n",
       "      <td>QBGU1W8BRZZFHYUZ</td>\n",
       "      <td>D0AUXPP07H6AVSGD</td>\n",
       "      <td>2017-10-09 21:00:00</td>\n",
       "      <td>['Violet Medina']</td>\n",
       "      <td>598.0</td>\n",
       "    </tr>\n",
       "    <tr>\n",
       "      <th>1</th>\n",
       "      <td>QFNO07V7P3BTJSDK</td>\n",
       "      <td>D0AUXPP07H6AVSGD</td>\n",
       "      <td>2018-06-07 07:00:00</td>\n",
       "      <td>['Connie Harper']</td>\n",
       "      <td>89.0</td>\n",
       "    </tr>\n",
       "  </tbody>\n",
       "</table>\n",
       "</div>"
      ],
      "text/plain": [
       "            Meal Id        Company Id         Date of Meal       Participants  \\\n",
       "0  QBGU1W8BRZZFHYUZ  D0AUXPP07H6AVSGD  2017-10-09 21:00:00  ['Violet Medina']   \n",
       "1  QFNO07V7P3BTJSDK  D0AUXPP07H6AVSGD  2018-06-07 07:00:00  ['Connie Harper']   \n",
       "\n",
       "   Meal Price  \n",
       "0       598.0  \n",
       "1        89.0  "
      ]
     },
     "execution_count": 6,
     "metadata": {},
     "output_type": "execute_result"
    }
   ],
   "source": [
    "invoices.head(2)"
   ]
  },
  {
   "cell_type": "markdown",
   "metadata": {
    "slideshow": {
     "slide_type": "slide"
    }
   },
   "source": [
    "#### Проверим качество данных"
   ]
  },
  {
   "cell_type": "code",
   "execution_count": 7,
   "metadata": {
    "slideshow": {
     "slide_type": "fragment"
    }
   },
   "outputs": [
    {
     "data": {
      "text/plain": [
       "Company Id      0\n",
       "Company Name    0\n",
       "Sales Rep Id    0\n",
       "Sales Rep       0\n",
       "dtype: int64"
      ]
     },
     "execution_count": 7,
     "metadata": {},
     "output_type": "execute_result"
    }
   ],
   "source": [
    "sales_team.isnull().sum().sort_values(ascending = False).head()"
   ]
  },
  {
   "cell_type": "code",
   "execution_count": 8,
   "metadata": {
    "slideshow": {
     "slide_type": "fragment"
    }
   },
   "outputs": [
    {
     "data": {
      "text/plain": [
       "Converted       0\n",
       "Order Value     0\n",
       "Date            0\n",
       "Company Name    0\n",
       "Company Id      0\n",
       "dtype: int64"
      ]
     },
     "execution_count": 8,
     "metadata": {},
     "output_type": "execute_result"
    }
   ],
   "source": [
    "order_leads.isnull().sum().sort_values(ascending = False).head()"
   ]
  },
  {
   "cell_type": "code",
   "execution_count": 9,
   "metadata": {
    "slideshow": {
     "slide_type": "fragment"
    }
   },
   "outputs": [
    {
     "data": {
      "text/plain": [
       "Meal Price      0\n",
       "Participants    0\n",
       "Date of Meal    0\n",
       "Company Id      0\n",
       "Meal Id         0\n",
       "dtype: int64"
      ]
     },
     "execution_count": 9,
     "metadata": {},
     "output_type": "execute_result"
    }
   ],
   "source": [
    "invoices.isnull().sum().sort_values(ascending = False).head()"
   ]
  },
  {
   "cell_type": "markdown",
   "metadata": {
    "slideshow": {
     "slide_type": "subslide"
    }
   },
   "source": [
    "#### Даннные без потерь и нулевых значений, можно работать"
   ]
  },
  {
   "cell_type": "markdown",
   "metadata": {
    "slideshow": {
     "slide_type": "slide"
    }
   },
   "source": [
    "#### Начнем разбирать каждый наборов данных поотдельности . Попробуем это сделать для того, чтоб выявить неочевидные детали в каждом из них.\n",
    "\n"
   ]
  },
  {
   "cell_type": "markdown",
   "metadata": {
    "slideshow": {
     "slide_type": "subslide"
    }
   },
   "source": [
    "<div class=\"alert alert-block alert-info\">\n",
    "<b> 1.</b> Начнем рассматривать с данных по команде продаж. <br>\n",
    "    Один из вопросов, возникающих при первом взгляде, это с каким кол-вом компаний взаимодействует торговый представитель\"\n",
    "</div>\n",
    "  "
   ]
  },
  {
   "cell_type": "code",
   "execution_count": 10,
   "metadata": {
    "slideshow": {
     "slide_type": "fragment"
    }
   },
   "outputs": [],
   "source": [
    "sales_team_agg = sales_team.groupby('Sales Rep').count()['Company Name'].reset_index()"
   ]
  },
  {
   "cell_type": "code",
   "execution_count": 11,
   "metadata": {
    "slideshow": {
     "slide_type": "fragment"
    }
   },
   "outputs": [
    {
     "data": {
      "text/html": [
       "<div>\n",
       "<style scoped>\n",
       "    .dataframe tbody tr th:only-of-type {\n",
       "        vertical-align: middle;\n",
       "    }\n",
       "\n",
       "    .dataframe tbody tr th {\n",
       "        vertical-align: top;\n",
       "    }\n",
       "\n",
       "    .dataframe thead th {\n",
       "        text-align: right;\n",
       "    }\n",
       "</style>\n",
       "<table border=\"1\" class=\"dataframe\">\n",
       "  <thead>\n",
       "    <tr style=\"text-align: right;\">\n",
       "      <th></th>\n",
       "      <th>Sales Rep</th>\n",
       "      <th>Company Name</th>\n",
       "    </tr>\n",
       "  </thead>\n",
       "  <tbody>\n",
       "    <tr>\n",
       "      <th>0</th>\n",
       "      <td>Aaron Hendrickson</td>\n",
       "      <td>13</td>\n",
       "    </tr>\n",
       "    <tr>\n",
       "      <th>1</th>\n",
       "      <td>Adam Sawyer</td>\n",
       "      <td>16</td>\n",
       "    </tr>\n",
       "    <tr>\n",
       "      <th>2</th>\n",
       "      <td>Adele Kimmel</td>\n",
       "      <td>5</td>\n",
       "    </tr>\n",
       "    <tr>\n",
       "      <th>3</th>\n",
       "      <td>Adrian Daugherty</td>\n",
       "      <td>18</td>\n",
       "    </tr>\n",
       "    <tr>\n",
       "      <th>4</th>\n",
       "      <td>Adrianna Shelton</td>\n",
       "      <td>2</td>\n",
       "    </tr>\n",
       "  </tbody>\n",
       "</table>\n",
       "</div>"
      ],
      "text/plain": [
       "           Sales Rep  Company Name\n",
       "0  Aaron Hendrickson            13\n",
       "1        Adam Sawyer            16\n",
       "2       Adele Kimmel             5\n",
       "3   Adrian Daugherty            18\n",
       "4   Adrianna Shelton             2"
      ]
     },
     "execution_count": 11,
     "metadata": {},
     "output_type": "execute_result"
    }
   ],
   "source": [
    "sales_team_agg.head()"
   ]
  },
  {
   "cell_type": "markdown",
   "metadata": {
    "slideshow": {
     "slide_type": "fragment"
    }
   },
   "source": [
    "Анализирую первые 5 строчек уже видно, что торговый представитель работает не с одной компанией. При том, что и разброс по кол-ву компаний так же присутсвует. <br>\n",
    "Визуализируем распределение"
   ]
  },
  {
   "cell_type": "code",
   "execution_count": 12,
   "metadata": {
    "slideshow": {
     "slide_type": "skip"
    }
   },
   "outputs": [],
   "source": [
    "sns.set(rc = {'figure.figsize':(17,6)})\n",
    "sns.set_style(\"ticks\")"
   ]
  },
  {
   "cell_type": "code",
   "execution_count": 13,
   "metadata": {
    "slideshow": {
     "slide_type": "skip"
    }
   },
   "outputs": [],
   "source": [
    "x = [12.9,12.9]\n",
    "z = [0, 90]\n",
    "y = [6.1,6.1] "
   ]
  },
  {
   "cell_type": "code",
   "execution_count": 14,
   "metadata": {
    "slideshow": {
     "slide_type": "subslide"
    }
   },
   "outputs": [
    {
     "data": {
      "image/png": "[encoded data removed]",
      "text/plain": [
       "<Figure size 1224x432 with 1 Axes>"
      ]
     },
     "metadata": {},
     "output_type": "display_data"
    }
   ],
   "source": [
    "sales_team_agg.hist()\n",
    "plt.plot(x, z,linewidth = 5, color = 'r')\n",
    "plt.plot(y, z,linewidth = 5, color = 'r')\n",
    "plt.show()"
   ]
  },
  {
   "cell_type": "markdown",
   "metadata": {
    "slideshow": {
     "slide_type": "fragment"
    }
   },
   "source": [
    "Распределение далеко от нормального и показывает что большинство торовых представителей работают: <br> \n",
    "1.С большим числом компаний (более 10) <br>\n",
    "2.С малым числом компаний (менее 6) "
   ]
  },
  {
   "cell_type": "markdown",
   "metadata": {
    "slideshow": {
     "slide_type": "slide"
    }
   },
   "source": [
    "<div class=\"alert alert-block alert-info\">\n",
    "<b> 2.</b> Далее рассмотрим данные по заказам. <br>\n",
    "    Первое, что интересно выяснить: процент конверсии и его динамика по датам\n",
    "</div>      "
   ]
  },
  {
   "cell_type": "markdown",
   "metadata": {
    "slideshow": {
     "slide_type": "subslide"
    }
   },
   "source": [
    "Для начала, выполним пару действий, для того чтоб подготовить данные к визуализации. <br>\n",
    "Начнем с проверки дат и их формата"
   ]
  },
  {
   "cell_type": "code",
   "execution_count": 15,
   "metadata": {
    "slideshow": {
     "slide_type": "skip"
    }
   },
   "outputs": [
    {
     "data": {
      "text/plain": [
       "100000"
      ]
     },
     "execution_count": 15,
     "metadata": {},
     "output_type": "execute_result"
    }
   ],
   "source": [
    "len(order_leads['Company Id'])"
   ]
  },
  {
   "cell_type": "code",
   "execution_count": 16,
   "metadata": {
    "slideshow": {
     "slide_type": "fragment"
    }
   },
   "outputs": [
    {
     "data": {
      "text/plain": [
       "str"
      ]
     },
     "execution_count": 16,
     "metadata": {},
     "output_type": "execute_result"
    }
   ],
   "source": [
    "type(order_leads['Date'][1])"
   ]
  },
  {
   "cell_type": "markdown",
   "metadata": {
    "slideshow": {
     "slide_type": "fragment"
    }
   },
   "source": [
    "Формат столбца с датами представлен в виде текстового значения. Необходимо конвертировать "
   ]
  },
  {
   "cell_type": "code",
   "execution_count": 17,
   "metadata": {
    "slideshow": {
     "slide_type": "fragment"
    }
   },
   "outputs": [],
   "source": [
    "order_leads['Date'] = pd.to_datetime(order_leads['Date'], format='%Y-%m-%d').dt.date"
   ]
  },
  {
   "cell_type": "code",
   "execution_count": 18,
   "metadata": {
    "slideshow": {
     "slide_type": "fragment"
    }
   },
   "outputs": [],
   "source": [
    "conversion_by_date= order_leads.groupby(order_leads['Date']).mean()['Converted']"
   ]
  },
  {
   "cell_type": "code",
   "execution_count": 19,
   "metadata": {
    "slideshow": {
     "slide_type": "fragment"
    }
   },
   "outputs": [
    {
     "data": {
      "text/plain": [
       "Date\n",
       "2014-01-01    0.229167\n",
       "Name: Converted, dtype: float64"
      ]
     },
     "execution_count": 19,
     "metadata": {},
     "output_type": "execute_result"
    }
   ],
   "source": [
    "conversion_by_date.head(1)"
   ]
  },
  {
   "cell_type": "code",
   "execution_count": 20,
   "metadata": {
    "slideshow": {
     "slide_type": "skip"
    }
   },
   "outputs": [],
   "source": [
    "sns.set(rc = {'figure.figsize':(17,6)})\n",
    "sns.set_style(\"whitegrid\")"
   ]
  },
  {
   "cell_type": "code",
   "execution_count": 21,
   "metadata": {
    "slideshow": {
     "slide_type": "slide"
    }
   },
   "outputs": [
    {
     "data": {
      "image/png": "[encoded data removed]",
      "text/plain": [
       "<Figure size 1296x432 with 1 Axes>"
      ]
     },
     "metadata": {},
     "output_type": "display_data"
    }
   ],
   "source": [
    "ax =conversion_by_date.rolling(100).mean().plot(figsize=(18,6), title = \"Конверсия по датам\")\n",
    "plt.show()"
   ]
  },
  {
   "cell_type": "markdown",
   "metadata": {
    "slideshow": {
     "slide_type": "fragment"
    }
   },
   "source": [
    "Ух ты, мы наблюдаем существеннное падение конверсии за 2017 год. <br>\n",
    "Попробуем выяснить с чем это связано"
   ]
  },
  {
   "cell_type": "markdown",
   "metadata": {
    "slideshow": {
     "slide_type": "slide"
    }
   },
   "source": [
    "<div class=\"alert alert-block alert-success\">\n",
    "    \n",
    "    \n",
    "    \n",
    "Версий несколько\n",
    "<br> \n",
    "* Измеримые:\n",
    "    1. Падение рынка как такового и как следствие падение выручки и потенциальной выручки у компании.\n",
    "    2. Рост стоимости товара и как следствие снижение числа сделок, но без потерь выручки.\n",
    "    <br> \n",
    "* Факторные:\n",
    "    1. Снижение качества реализуемого товара\n",
    "    2. Приход на рынок конкурента    \n",
    "<br>    \n",
    "<br>\n",
    "</div>"
   ]
  },
  {
   "cell_type": "markdown",
   "metadata": {
    "slideshow": {
     "slide_type": "slide"
    }
   },
   "source": [
    "Ввиду отсутсвия полной информации о компании, ситуации на рынке и реализуемом товаре, представляется возможным проверить только измеримые версии"
   ]
  },
  {
   "cell_type": "markdown",
   "metadata": {
    "slideshow": {
     "slide_type": "subslide"
    }
   },
   "source": [
    "Начнем с оценки выручки:"
   ]
  },
  {
   "cell_type": "code",
   "execution_count": 22,
   "metadata": {
    "slideshow": {
     "slide_type": "fragment"
    }
   },
   "outputs": [],
   "source": [
    "value_by_date= order_leads.groupby(order_leads['Date']).sum()['Order Value']"
   ]
  },
  {
   "cell_type": "code",
   "execution_count": 23,
   "metadata": {
    "slideshow": {
     "slide_type": "fragment"
    }
   },
   "outputs": [
    {
     "data": {
      "text/plain": [
       "Date\n",
       "2014-01-01    228331\n",
       "2014-01-02    293069\n",
       "Name: Order Value, dtype: int64"
      ]
     },
     "execution_count": 23,
     "metadata": {},
     "output_type": "execute_result"
    }
   ],
   "source": [
    "value_by_date.head(2)"
   ]
  },
  {
   "cell_type": "markdown",
   "metadata": {
    "slideshow": {
     "slide_type": "fragment"
    }
   },
   "source": [
    "Визуализируем "
   ]
  },
  {
   "cell_type": "code",
   "execution_count": 24,
   "metadata": {
    "slideshow": {
     "slide_type": "subslide"
    }
   },
   "outputs": [
    {
     "data": {
      "image/png": "[encoded data removed]",
      "text/plain": [
       "<Figure size 1296x432 with 1 Axes>"
      ]
     },
     "metadata": {},
     "output_type": "display_data"
    }
   ],
   "source": [
    "ax =value_by_date.rolling(100).sum().plot(figsize=(18,6), title = \"Суммарная выручка по всем поступившим заказам\")\n",
    "plt.show()"
   ]
  },
  {
   "cell_type": "markdown",
   "metadata": {
    "slideshow": {
     "slide_type": "fragment"
    }
   },
   "source": [
    "Результат удивляет. В 2017 год объем рынка был наибольшим, как следствие версия с падением рынка отпадает."
   ]
  },
  {
   "cell_type": "markdown",
   "metadata": {
    "slideshow": {
     "slide_type": "slide"
    }
   },
   "source": [
    "Остается проверить версию о росте цены"
   ]
  },
  {
   "cell_type": "code",
   "execution_count": 25,
   "metadata": {
    "slideshow": {
     "slide_type": "fragment"
    }
   },
   "outputs": [],
   "source": [
    "cost_by_date= order_leads.groupby(order_leads['Date']).mean()['Order Value']"
   ]
  },
  {
   "cell_type": "code",
   "execution_count": 26,
   "metadata": {
    "slideshow": {
     "slide_type": "fragment"
    }
   },
   "outputs": [
    {
     "data": {
      "text/plain": [
       "Date\n",
       "2014-01-01    4756.895833\n",
       "2014-01-02    5635.942308\n",
       "Name: Order Value, dtype: float64"
      ]
     },
     "execution_count": 26,
     "metadata": {},
     "output_type": "execute_result"
    }
   ],
   "source": [
    "cost_by_date.head(2)"
   ]
  },
  {
   "cell_type": "code",
   "execution_count": 27,
   "metadata": {
    "slideshow": {
     "slide_type": "subslide"
    }
   },
   "outputs": [
    {
     "data": {
      "image/png": "[encoded data removed]",
      "text/plain": [
       "<Figure size 1296x432 with 1 Axes>"
      ]
     },
     "metadata": {},
     "output_type": "display_data"
    }
   ],
   "source": [
    "ax =cost_by_date.rolling(100).sum().plot(figsize=(18,6), title = \"Средняя стоимость заказов\")\n",
    "plt.show()"
   ]
  },
  {
   "cell_type": "markdown",
   "metadata": {
    "slideshow": {
     "slide_type": "fragment"
    }
   },
   "source": [
    "Вопреки всем ожиданиям, наблюдается прирост в стоимости заказов. <br>\n",
    "Вероятно такой прирост может быть связан с закономерным повышением цен ввиду инфляции или иных макроэкономических показателей<br>\n",
    "Очевидно лишь что такой прирост при прежних объемах заказов не мог бы дать прирост в выручке в таком объеме."
   ]
  },
  {
   "cell_type": "markdown",
   "metadata": {
    "slideshow": {
     "slide_type": "slide"
    }
   },
   "source": [
    "Дабы замкнуть эту цепоку, следует проверить что происходило с кол-вом заказов за рассматриваемый период"
   ]
  },
  {
   "cell_type": "code",
   "execution_count": 28,
   "metadata": {
    "slideshow": {
     "slide_type": "fragment"
    }
   },
   "outputs": [],
   "source": [
    "count_by_date= order_leads.groupby(order_leads['Date']).count()['Order Value']"
   ]
  },
  {
   "cell_type": "code",
   "execution_count": 29,
   "metadata": {
    "slideshow": {
     "slide_type": "fragment"
    }
   },
   "outputs": [
    {
     "data": {
      "text/plain": [
       "Date\n",
       "2014-01-01    48\n",
       "2014-01-02    52\n",
       "Name: Order Value, dtype: int64"
      ]
     },
     "execution_count": 29,
     "metadata": {},
     "output_type": "execute_result"
    }
   ],
   "source": [
    "count_by_date.head(2)"
   ]
  },
  {
   "cell_type": "code",
   "execution_count": 30,
   "metadata": {
    "slideshow": {
     "slide_type": "subslide"
    }
   },
   "outputs": [
    {
     "data": {
      "image/png": "[encoded data removed]",
      "text/plain": [
       "<Figure size 1296x432 with 1 Axes>"
      ]
     },
     "metadata": {},
     "output_type": "display_data"
    }
   ],
   "source": [
    "ax =count_by_date= order_leads.groupby(order_leads['Date']).count()['Order Value'].rolling(100).sum().plot(figsize=(18,6), title = \"Средняя стоимость заказов\")\n",
    "plt.show()"
   ]
  },
  {
   "cell_type": "markdown",
   "metadata": {
    "slideshow": {
     "slide_type": "fragment"
    }
   },
   "source": [
    "В данном случае, уже вполне ожидаем рост числа заказов в 2017 году. <br> \n",
    "Итого именно рост числа заказов и стоимости заказов повлияли на рост объема рынка в целом. <br>\n",
    "Но тогда остается неразгаданным вопрос: *\"Что с конверсией, Карл?\"*"
   ]
  },
  {
   "cell_type": "markdown",
   "metadata": {
    "slideshow": {
     "slide_type": "slide"
    }
   },
   "source": [
    "<div class=\"alert alert-block alert-success\">\n",
    "И выводы тут могут быть представлены лишь в догадках. <br>\n",
    "\n",
    "Так как мы наблюдаем достаточно ощутимое повышение спроса на товар, который реализует рассматриваемая компания, падение его качества не может дать столь резкого падения конверсии. При снижении качества это происходило бы более плавно, постепенно. <br>\n",
    "\n",
    "Такой резкий обрыв скорее всего связан с приходом на рынок нового конкурента. <br>\n",
    "\n",
    "<div>"
   ]
  },
  {
   "cell_type": "markdown",
   "metadata": {
    "slideshow": {
     "slide_type": "subslide"
    }
   },
   "source": [
    "<div class=\"alert alert-block alert-success\">\n",
    "    \n",
    "И здесь уже логика прослеживается =>\n",
    " 1. Конкурент пытается отобрать долю рынка, тем самым верятно демпингует его ( не исключено что себе в убыток). Такой механизм работы нацелен на \"покупку\" доли рынка на старте работы.\n",
    " 2. После захвата рынка необходимо выходить на прибыль, ввиду чего закономерен рост цен у конкурента. Но почему конверсия не возвращается? \n",
    " 3. Осуществив повышение цен конкурент  при помощи всевозможных систем лояльности и инструментов присущих данному типу отрасли осуществялет удержание лидов. Данное удержание по видимому и не позволяет рассматриваемой копании вернуть себе конверсию до должного уровня. <br>\n",
    " \n",
    " <div>"
   ]
  },
  {
   "cell_type": "markdown",
   "metadata": {
    "slideshow": {
     "slide_type": "subslide"
    }
   },
   "source": [
    " <div class=\"alert alert-block alert-success\">\n",
    "    <font color='blue'>Значит, в рамках рассматриваемого задания нам необходимо обратить внимание на аспекты связанные с сервисом компании и, как следсвтие, найти решения, которые позволяет его улучшить.</font> \n",
    " <div>"
   ]
  },
  {
   "cell_type": "markdown",
   "metadata": {
    "slideshow": {
     "slide_type": "slide"
    }
   },
   "source": [
    "Вернемся в прежнюю канву исследования. <br>\n",
    "Мы рассмотрели поотдельности данные команды продаж (sales team) и данные по заказам (order leads)"
   ]
  },
  {
   "cell_type": "markdown",
   "metadata": {
    "slideshow": {
     "slide_type": "subslide"
    }
   },
   "source": [
    "<div class=\"alert alert-block alert-info\">\n",
    "<b> 3.</b> Теперь расмотрим данные по счетам на еду. <br>\n",
    "    Посмотрим еще раз из каких данных состоит этот датасет\n",
    "</div>      \n"
   ]
  },
  {
   "cell_type": "markdown",
   "metadata": {
    "slideshow": {
     "slide_type": "subslide"
    }
   },
   "source": [
    "invoices - содержит информацию о всречах со счетами за обед и участниками встречи\n",
    "* Meal Id - уникальный номер встречи/ обеда\n",
    "* Company Id - идентификатор компании, с представителями которой осуществляется встреча.\n",
    "* Date of Meal - дата, когда была осуществлена встреча с указанием времени встречи\n",
    "* Participants - участники встречи, со стороны компании\n",
    "* Meal Price - стоимость обеда"
   ]
  },
  {
   "cell_type": "code",
   "execution_count": 31,
   "metadata": {
    "slideshow": {
     "slide_type": "fragment"
    }
   },
   "outputs": [
    {
     "data": {
      "text/html": [
       "<div>\n",
       "<style scoped>\n",
       "    .dataframe tbody tr th:only-of-type {\n",
       "        vertical-align: middle;\n",
       "    }\n",
       "\n",
       "    .dataframe tbody tr th {\n",
       "        vertical-align: top;\n",
       "    }\n",
       "\n",
       "    .dataframe thead th {\n",
       "        text-align: right;\n",
       "    }\n",
       "</style>\n",
       "<table border=\"1\" class=\"dataframe\">\n",
       "  <thead>\n",
       "    <tr style=\"text-align: right;\">\n",
       "      <th></th>\n",
       "      <th>Meal Id</th>\n",
       "      <th>Company Id</th>\n",
       "      <th>Date of Meal</th>\n",
       "      <th>Participants</th>\n",
       "      <th>Meal Price</th>\n",
       "    </tr>\n",
       "  </thead>\n",
       "  <tbody>\n",
       "    <tr>\n",
       "      <th>0</th>\n",
       "      <td>QBGU1W8BRZZFHYUZ</td>\n",
       "      <td>D0AUXPP07H6AVSGD</td>\n",
       "      <td>2017-10-09 21:00:00</td>\n",
       "      <td>['Violet Medina']</td>\n",
       "      <td>598.0</td>\n",
       "    </tr>\n",
       "    <tr>\n",
       "      <th>1</th>\n",
       "      <td>QFNO07V7P3BTJSDK</td>\n",
       "      <td>D0AUXPP07H6AVSGD</td>\n",
       "      <td>2018-06-07 07:00:00</td>\n",
       "      <td>['Connie Harper']</td>\n",
       "      <td>89.0</td>\n",
       "    </tr>\n",
       "  </tbody>\n",
       "</table>\n",
       "</div>"
      ],
      "text/plain": [
       "            Meal Id        Company Id         Date of Meal       Participants  \\\n",
       "0  QBGU1W8BRZZFHYUZ  D0AUXPP07H6AVSGD  2017-10-09 21:00:00  ['Violet Medina']   \n",
       "1  QFNO07V7P3BTJSDK  D0AUXPP07H6AVSGD  2018-06-07 07:00:00  ['Connie Harper']   \n",
       "\n",
       "   Meal Price  \n",
       "0       598.0  \n",
       "1        89.0  "
      ]
     },
     "execution_count": 31,
     "metadata": {},
     "output_type": "execute_result"
    }
   ],
   "source": [
    "invoices.head(2)"
   ]
  },
  {
   "cell_type": "markdown",
   "metadata": {
    "slideshow": {
     "slide_type": "slide"
    }
   },
   "source": [
    "Первое, что необходимо оценить это участники встречи (Participants) и формат встреч."
   ]
  },
  {
   "cell_type": "code",
   "execution_count": 32,
   "metadata": {
    "slideshow": {
     "slide_type": "fragment"
    }
   },
   "outputs": [
    {
     "name": "stdout",
     "output_type": "stream",
     "text": [
      "Уникальных участников-  27007\n",
      "Всего встреч-  49990\n"
     ]
    }
   ],
   "source": [
    "print(\"Уникальных участников- \", len(pd.unique(invoices['Participants'])))\n",
    "print(\"Всего встреч- \", len(invoices['Participants']))"
   ]
  },
  {
   "cell_type": "markdown",
   "metadata": {
    "slideshow": {
     "slide_type": "fragment"
    }
   },
   "source": [
    "Встреч почти в 2 раза больше, чем участников встреч. <br>\n",
    "Похоже что с некоторыми участниками встречались более чем 1 раз. <br>\n",
    "Посмотрим детальнее:"
   ]
  },
  {
   "cell_type": "code",
   "execution_count": 33,
   "metadata": {
    "slideshow": {
     "slide_type": "fragment"
    }
   },
   "outputs": [
    {
     "data": {
      "text/plain": [
       "Participants\n",
       "['Aaron Boyles']                                                                         4\n",
       "['Aaron Cavender' 'Tammy Valentine' 'Mary Vail' 'Sarah Bearden'\\n 'Steven Thackston']    1\n",
       "['Aaron Diego' 'Harold Perry' 'Bok Walker' 'Maria Keith']                                1\n",
       "['Aaron Fall' 'Jessica Delgado']                                                         1\n",
       "['Aaron Givens' 'Michelle Ruis' 'Keith Carver' 'Juan Smtih']                             1\n",
       "Name: Meal Id, dtype: int64"
      ]
     },
     "execution_count": 33,
     "metadata": {},
     "output_type": "execute_result"
    }
   ],
   "source": [
    "invoices.groupby(invoices['Participants']).count()['Meal Id'].head()"
   ]
  },
  {
   "cell_type": "markdown",
   "metadata": {
    "slideshow": {
     "slide_type": "subslide"
    }
   },
   "source": [
    "Неожиданная информация. Оказывается встречи проходили не только один на один. <br>\n",
    "Интересно выяснить сколько человек, одновременно присутсвовали на встрече."
   ]
  },
  {
   "cell_type": "markdown",
   "metadata": {
    "slideshow": {
     "slide_type": "slide"
    }
   },
   "source": [
    "Но перед этим, дабы в будущем не делать двойную работу ( связанную с анализом влияния показателей в текущем датасете на конверсию) , объеденим набор данных c order leads.<br> Важно оценить как именно это сделать. <br>\n",
    "Единственный показатель, присущий в обоих наборах данных это Company Id"
   ]
  },
  {
   "cell_type": "code",
   "execution_count": 34,
   "metadata": {
    "slideshow": {
     "slide_type": "fragment"
    }
   },
   "outputs": [
    {
     "name": "stdout",
     "output_type": "stream",
     "text": [
      "Кол-во компаний в order_leads =  100000\n",
      "Кол-во компаний в invoices =  49990\n"
     ]
    }
   ],
   "source": [
    "print(\"Кол-во компаний в order_leads = \", len(order_leads['Company Id']))\n",
    "print(\"Кол-во компаний в invoices = \", len(invoices['Company Id']))"
   ]
  },
  {
   "cell_type": "markdown",
   "metadata": {
    "slideshow": {
     "slide_type": "fragment"
    }
   },
   "source": [
    "Очевидно, что если мы объеденим наборы данных через company Id то породим тем самым большое кол-во дубликатов. <br>\n",
    "Выхода нет. Необходимо это сделать и в последующем очистить датасет от дубликатов"
   ]
  },
  {
   "cell_type": "code",
   "execution_count": 35,
   "metadata": {
    "slideshow": {
     "slide_type": "slide"
    }
   },
   "outputs": [],
   "source": [
    "orders_invoices =  pd.merge(order_leads, invoices , how='left', on=['Company Id'])"
   ]
  },
  {
   "cell_type": "code",
   "execution_count": 36,
   "metadata": {
    "slideshow": {
     "slide_type": "fragment"
    }
   },
   "outputs": [
    {
     "data": {
      "text/html": [
       "<div>\n",
       "<style scoped>\n",
       "    .dataframe tbody tr th:only-of-type {\n",
       "        vertical-align: middle;\n",
       "    }\n",
       "\n",
       "    .dataframe tbody tr th {\n",
       "        vertical-align: top;\n",
       "    }\n",
       "\n",
       "    .dataframe thead th {\n",
       "        text-align: right;\n",
       "    }\n",
       "</style>\n",
       "<table border=\"1\" class=\"dataframe\">\n",
       "  <thead>\n",
       "    <tr style=\"text-align: right;\">\n",
       "      <th></th>\n",
       "      <th>Order Id</th>\n",
       "      <th>Company Id</th>\n",
       "      <th>Company Name</th>\n",
       "      <th>Date</th>\n",
       "      <th>Order Value</th>\n",
       "      <th>Converted</th>\n",
       "      <th>Meal Id</th>\n",
       "      <th>Date of Meal</th>\n",
       "      <th>Participants</th>\n",
       "      <th>Meal Price</th>\n",
       "    </tr>\n",
       "  </thead>\n",
       "  <tbody>\n",
       "    <tr>\n",
       "      <th>0</th>\n",
       "      <td>HZSXLI1IS9RGABZW</td>\n",
       "      <td>D0AUXPP07H6AVSGD</td>\n",
       "      <td>Melancholy Social-Role</td>\n",
       "      <td>2017-10-13</td>\n",
       "      <td>6952</td>\n",
       "      <td>0</td>\n",
       "      <td>QBGU1W8BRZZFHYUZ</td>\n",
       "      <td>2017-10-09 21:00:00</td>\n",
       "      <td>['Violet Medina']</td>\n",
       "      <td>598.0</td>\n",
       "    </tr>\n",
       "    <tr>\n",
       "      <th>1</th>\n",
       "      <td>HZSXLI1IS9RGABZW</td>\n",
       "      <td>D0AUXPP07H6AVSGD</td>\n",
       "      <td>Melancholy Social-Role</td>\n",
       "      <td>2017-10-13</td>\n",
       "      <td>6952</td>\n",
       "      <td>0</td>\n",
       "      <td>QFNO07V7P3BTJSDK</td>\n",
       "      <td>2018-06-07 07:00:00</td>\n",
       "      <td>['Connie Harper']</td>\n",
       "      <td>89.0</td>\n",
       "    </tr>\n",
       "    <tr>\n",
       "      <th>2</th>\n",
       "      <td>HZSXLI1IS9RGABZW</td>\n",
       "      <td>D0AUXPP07H6AVSGD</td>\n",
       "      <td>Melancholy Social-Role</td>\n",
       "      <td>2017-10-13</td>\n",
       "      <td>6952</td>\n",
       "      <td>0</td>\n",
       "      <td>ZDQ15BT9LLWUQ6M8</td>\n",
       "      <td>2014-12-18 20:00:00</td>\n",
       "      <td>['Arthur Lopez']</td>\n",
       "      <td>295.0</td>\n",
       "    </tr>\n",
       "    <tr>\n",
       "      <th>3</th>\n",
       "      <td>HZSXLI1IS9RGABZW</td>\n",
       "      <td>D0AUXPP07H6AVSGD</td>\n",
       "      <td>Melancholy Social-Role</td>\n",
       "      <td>2017-10-13</td>\n",
       "      <td>6952</td>\n",
       "      <td>0</td>\n",
       "      <td>GL1ZVDU85Q9EO4TA</td>\n",
       "      <td>2018-03-05 12:00:00</td>\n",
       "      <td>['Violet Medina' 'Arthur Lopez']</td>\n",
       "      <td>193.0</td>\n",
       "    </tr>\n",
       "    <tr>\n",
       "      <th>4</th>\n",
       "      <td>HZSXLI1IS9RGABZW</td>\n",
       "      <td>D0AUXPP07H6AVSGD</td>\n",
       "      <td>Melancholy Social-Role</td>\n",
       "      <td>2017-10-13</td>\n",
       "      <td>6952</td>\n",
       "      <td>0</td>\n",
       "      <td>42GWYA5XD8NVINY3</td>\n",
       "      <td>2017-06-17 08:00:00</td>\n",
       "      <td>['Arthur Lopez']</td>\n",
       "      <td>348.0</td>\n",
       "    </tr>\n",
       "  </tbody>\n",
       "</table>\n",
       "</div>"
      ],
      "text/plain": [
       "           Order Id        Company Id            Company Name        Date  \\\n",
       "0  HZSXLI1IS9RGABZW  D0AUXPP07H6AVSGD  Melancholy Social-Role  2017-10-13   \n",
       "1  HZSXLI1IS9RGABZW  D0AUXPP07H6AVSGD  Melancholy Social-Role  2017-10-13   \n",
       "2  HZSXLI1IS9RGABZW  D0AUXPP07H6AVSGD  Melancholy Social-Role  2017-10-13   \n",
       "3  HZSXLI1IS9RGABZW  D0AUXPP07H6AVSGD  Melancholy Social-Role  2017-10-13   \n",
       "4  HZSXLI1IS9RGABZW  D0AUXPP07H6AVSGD  Melancholy Social-Role  2017-10-13   \n",
       "\n",
       "   Order Value  Converted           Meal Id         Date of Meal  \\\n",
       "0         6952          0  QBGU1W8BRZZFHYUZ  2017-10-09 21:00:00   \n",
       "1         6952          0  QFNO07V7P3BTJSDK  2018-06-07 07:00:00   \n",
       "2         6952          0  ZDQ15BT9LLWUQ6M8  2014-12-18 20:00:00   \n",
       "3         6952          0  GL1ZVDU85Q9EO4TA  2018-03-05 12:00:00   \n",
       "4         6952          0  42GWYA5XD8NVINY3  2017-06-17 08:00:00   \n",
       "\n",
       "                       Participants  Meal Price  \n",
       "0                 ['Violet Medina']       598.0  \n",
       "1                 ['Connie Harper']        89.0  \n",
       "2                  ['Arthur Lopez']       295.0  \n",
       "3  ['Violet Medina' 'Arthur Lopez']       193.0  \n",
       "4                  ['Arthur Lopez']       348.0  "
      ]
     },
     "execution_count": 36,
     "metadata": {},
     "output_type": "execute_result"
    }
   ],
   "source": [
    "orders_invoices.head(5)"
   ]
  },
  {
   "cell_type": "markdown",
   "metadata": {
    "slideshow": {
     "slide_type": "fragment"
    }
   },
   "source": [
    "Уже видны дубликаты. Обратите внимание на столбец Order Id. В нем указан номер заказа и по первоначальным данным он должен быть уникален для каждого заказа. В нашем же случае он повторяется"
   ]
  },
  {
   "cell_type": "markdown",
   "metadata": {
    "slideshow": {
     "slide_type": "slide"
    }
   },
   "source": [
    "Для начала приведем даты в порядок и разделим столбец в котором указаны дата и время трапезы на два отдельных:\n",
    "    * Дата трапезы \n",
    "    * Время трапезы"
   ]
  },
  {
   "cell_type": "code",
   "execution_count": 37,
   "metadata": {
    "slideshow": {
     "slide_type": "fragment"
    }
   },
   "outputs": [
    {
     "data": {
      "text/plain": [
       "str"
      ]
     },
     "execution_count": 37,
     "metadata": {},
     "output_type": "execute_result"
    }
   ],
   "source": [
    "type(orders_invoices['Date of Meal'][1])"
   ]
  },
  {
   "cell_type": "code",
   "execution_count": 38,
   "metadata": {
    "slideshow": {
     "slide_type": "fragment"
    }
   },
   "outputs": [],
   "source": [
    "orders_invoices['Meal_Date'] = pd.to_datetime(orders_invoices['Date of Meal'],format='%Y-%m-%d').dt.date"
   ]
  },
  {
   "cell_type": "code",
   "execution_count": 39,
   "metadata": {
    "slideshow": {
     "slide_type": "fragment"
    }
   },
   "outputs": [
    {
     "data": {
      "text/html": [
       "<div>\n",
       "<style scoped>\n",
       "    .dataframe tbody tr th:only-of-type {\n",
       "        vertical-align: middle;\n",
       "    }\n",
       "\n",
       "    .dataframe tbody tr th {\n",
       "        vertical-align: top;\n",
       "    }\n",
       "\n",
       "    .dataframe thead th {\n",
       "        text-align: right;\n",
       "    }\n",
       "</style>\n",
       "<table border=\"1\" class=\"dataframe\">\n",
       "  <thead>\n",
       "    <tr style=\"text-align: right;\">\n",
       "      <th></th>\n",
       "      <th>Order Id</th>\n",
       "      <th>Company Id</th>\n",
       "      <th>Company Name</th>\n",
       "      <th>Date</th>\n",
       "      <th>Order Value</th>\n",
       "      <th>Converted</th>\n",
       "      <th>Meal Id</th>\n",
       "      <th>Date of Meal</th>\n",
       "      <th>Participants</th>\n",
       "      <th>Meal Price</th>\n",
       "      <th>Meal_Date</th>\n",
       "    </tr>\n",
       "  </thead>\n",
       "  <tbody>\n",
       "    <tr>\n",
       "      <th>0</th>\n",
       "      <td>HZSXLI1IS9RGABZW</td>\n",
       "      <td>D0AUXPP07H6AVSGD</td>\n",
       "      <td>Melancholy Social-Role</td>\n",
       "      <td>2017-10-13</td>\n",
       "      <td>6952</td>\n",
       "      <td>0</td>\n",
       "      <td>QBGU1W8BRZZFHYUZ</td>\n",
       "      <td>2017-10-09 21:00:00</td>\n",
       "      <td>['Violet Medina']</td>\n",
       "      <td>598.0</td>\n",
       "      <td>2017-10-09</td>\n",
       "    </tr>\n",
       "    <tr>\n",
       "      <th>1</th>\n",
       "      <td>HZSXLI1IS9RGABZW</td>\n",
       "      <td>D0AUXPP07H6AVSGD</td>\n",
       "      <td>Melancholy Social-Role</td>\n",
       "      <td>2017-10-13</td>\n",
       "      <td>6952</td>\n",
       "      <td>0</td>\n",
       "      <td>QFNO07V7P3BTJSDK</td>\n",
       "      <td>2018-06-07 07:00:00</td>\n",
       "      <td>['Connie Harper']</td>\n",
       "      <td>89.0</td>\n",
       "      <td>2018-06-07</td>\n",
       "    </tr>\n",
       "  </tbody>\n",
       "</table>\n",
       "</div>"
      ],
      "text/plain": [
       "           Order Id        Company Id            Company Name        Date  \\\n",
       "0  HZSXLI1IS9RGABZW  D0AUXPP07H6AVSGD  Melancholy Social-Role  2017-10-13   \n",
       "1  HZSXLI1IS9RGABZW  D0AUXPP07H6AVSGD  Melancholy Social-Role  2017-10-13   \n",
       "\n",
       "   Order Value  Converted           Meal Id         Date of Meal  \\\n",
       "0         6952          0  QBGU1W8BRZZFHYUZ  2017-10-09 21:00:00   \n",
       "1         6952          0  QFNO07V7P3BTJSDK  2018-06-07 07:00:00   \n",
       "\n",
       "        Participants  Meal Price   Meal_Date  \n",
       "0  ['Violet Medina']       598.0  2017-10-09  \n",
       "1  ['Connie Harper']        89.0  2018-06-07  "
      ]
     },
     "execution_count": 39,
     "metadata": {},
     "output_type": "execute_result"
    }
   ],
   "source": [
    "orders_invoices.head(2)"
   ]
  },
  {
   "cell_type": "code",
   "execution_count": 40,
   "metadata": {
    "slideshow": {
     "slide_type": "slide"
    }
   },
   "outputs": [
    {
     "data": {
      "text/html": [
       "<div>\n",
       "<style scoped>\n",
       "    .dataframe tbody tr th:only-of-type {\n",
       "        vertical-align: middle;\n",
       "    }\n",
       "\n",
       "    .dataframe tbody tr th {\n",
       "        vertical-align: top;\n",
       "    }\n",
       "\n",
       "    .dataframe thead th {\n",
       "        text-align: right;\n",
       "    }\n",
       "</style>\n",
       "<table border=\"1\" class=\"dataframe\">\n",
       "  <thead>\n",
       "    <tr style=\"text-align: right;\">\n",
       "      <th></th>\n",
       "      <th>Order Id</th>\n",
       "      <th>Company Id</th>\n",
       "      <th>Company Name</th>\n",
       "      <th>Date</th>\n",
       "      <th>Order Value</th>\n",
       "      <th>Converted</th>\n",
       "      <th>Meal Id</th>\n",
       "      <th>Date of Meal</th>\n",
       "      <th>Participants</th>\n",
       "      <th>Meal Price</th>\n",
       "      <th>Meal_Date</th>\n",
       "    </tr>\n",
       "  </thead>\n",
       "  <tbody>\n",
       "    <tr>\n",
       "      <th>0</th>\n",
       "      <td>HZSXLI1IS9RGABZW</td>\n",
       "      <td>D0AUXPP07H6AVSGD</td>\n",
       "      <td>Melancholy Social-Role</td>\n",
       "      <td>2017-10-13</td>\n",
       "      <td>6952</td>\n",
       "      <td>0</td>\n",
       "      <td>QBGU1W8BRZZFHYUZ</td>\n",
       "      <td>2017-10-09 21:00:00</td>\n",
       "      <td>['Violet Medina']</td>\n",
       "      <td>598.0</td>\n",
       "      <td>2017-10-09</td>\n",
       "    </tr>\n",
       "    <tr>\n",
       "      <th>1</th>\n",
       "      <td>HZSXLI1IS9RGABZW</td>\n",
       "      <td>D0AUXPP07H6AVSGD</td>\n",
       "      <td>Melancholy Social-Role</td>\n",
       "      <td>2017-10-13</td>\n",
       "      <td>6952</td>\n",
       "      <td>0</td>\n",
       "      <td>QFNO07V7P3BTJSDK</td>\n",
       "      <td>2018-06-07 07:00:00</td>\n",
       "      <td>['Connie Harper']</td>\n",
       "      <td>89.0</td>\n",
       "      <td>2018-06-07</td>\n",
       "    </tr>\n",
       "  </tbody>\n",
       "</table>\n",
       "</div>"
      ],
      "text/plain": [
       "           Order Id        Company Id            Company Name        Date  \\\n",
       "0  HZSXLI1IS9RGABZW  D0AUXPP07H6AVSGD  Melancholy Social-Role  2017-10-13   \n",
       "1  HZSXLI1IS9RGABZW  D0AUXPP07H6AVSGD  Melancholy Social-Role  2017-10-13   \n",
       "\n",
       "   Order Value  Converted           Meal Id         Date of Meal  \\\n",
       "0         6952          0  QBGU1W8BRZZFHYUZ  2017-10-09 21:00:00   \n",
       "1         6952          0  QFNO07V7P3BTJSDK  2018-06-07 07:00:00   \n",
       "\n",
       "        Participants  Meal Price   Meal_Date  \n",
       "0  ['Violet Medina']       598.0  2017-10-09  \n",
       "1  ['Connie Harper']        89.0  2018-06-07  "
      ]
     },
     "execution_count": 40,
     "metadata": {},
     "output_type": "execute_result"
    }
   ],
   "source": [
    "orders_invoices.head(2)"
   ]
  },
  {
   "cell_type": "markdown",
   "metadata": {
    "slideshow": {
     "slide_type": "fragment"
    }
   },
   "source": [
    "Понятно, что теперь мы можем просто избавиться от дубликатов через drop_duplicates().<br>\n",
    "Но в таком случае нет уверенности, что мы удалим верные столбцы, как понять должен ли первый столбец остаться или нет? \n",
    "<br>\n",
    "<br>\n",
    "Очевидно, что используя имеющиеся столбцы мы не сможем точно отделить ложные столбцы от истинных <br>\n",
    "Потому в ходе бесчисленных проб и ошибок, было определено, что присуствуют аномальные значения в разнице между тем, когда был получен заказ и тем когда принят в работу. Сейчас покажу"
   ]
  },
  {
   "cell_type": "markdown",
   "metadata": {
    "slideshow": {
     "slide_type": "slide"
    }
   },
   "source": [
    "У нас есть дата трапезы и дата, когда был осуществлен заказ. Выявим скорость реакции менеджеров"
   ]
  },
  {
   "cell_type": "code",
   "execution_count": 41,
   "metadata": {},
   "outputs": [
    {
     "data": {
      "text/plain": [
       "datetime.date"
      ]
     },
     "execution_count": 41,
     "metadata": {},
     "output_type": "execute_result"
    }
   ],
   "source": [
    "type(orders_invoices['Meal_Date'][1])"
   ]
  },
  {
   "cell_type": "code",
   "execution_count": 42,
   "metadata": {
    "slideshow": {
     "slide_type": "fragment"
    }
   },
   "outputs": [],
   "source": [
    "orders_invoices['Response rate'] = orders_invoices['Date'] - orders_invoices['Meal_Date']"
   ]
  },
  {
   "cell_type": "code",
   "execution_count": 43,
   "metadata": {
    "slideshow": {
     "slide_type": "subslide"
    }
   },
   "outputs": [
    {
     "data": {
      "text/html": [
       "<div>\n",
       "<style scoped>\n",
       "    .dataframe tbody tr th:only-of-type {\n",
       "        vertical-align: middle;\n",
       "    }\n",
       "\n",
       "    .dataframe tbody tr th {\n",
       "        vertical-align: top;\n",
       "    }\n",
       "\n",
       "    .dataframe thead th {\n",
       "        text-align: right;\n",
       "    }\n",
       "</style>\n",
       "<table border=\"1\" class=\"dataframe\">\n",
       "  <thead>\n",
       "    <tr style=\"text-align: right;\">\n",
       "      <th></th>\n",
       "      <th>Order Id</th>\n",
       "      <th>Response rate</th>\n",
       "    </tr>\n",
       "  </thead>\n",
       "  <tbody>\n",
       "    <tr>\n",
       "      <th>0</th>\n",
       "      <td>HZSXLI1IS9RGABZW</td>\n",
       "      <td>4 days</td>\n",
       "    </tr>\n",
       "    <tr>\n",
       "      <th>1</th>\n",
       "      <td>HZSXLI1IS9RGABZW</td>\n",
       "      <td>-237 days</td>\n",
       "    </tr>\n",
       "    <tr>\n",
       "      <th>2</th>\n",
       "      <td>HZSXLI1IS9RGABZW</td>\n",
       "      <td>1030 days</td>\n",
       "    </tr>\n",
       "    <tr>\n",
       "      <th>3</th>\n",
       "      <td>HZSXLI1IS9RGABZW</td>\n",
       "      <td>-143 days</td>\n",
       "    </tr>\n",
       "    <tr>\n",
       "      <th>4</th>\n",
       "      <td>HZSXLI1IS9RGABZW</td>\n",
       "      <td>118 days</td>\n",
       "    </tr>\n",
       "  </tbody>\n",
       "</table>\n",
       "</div>"
      ],
      "text/plain": [
       "           Order Id Response rate\n",
       "0  HZSXLI1IS9RGABZW        4 days\n",
       "1  HZSXLI1IS9RGABZW     -237 days\n",
       "2  HZSXLI1IS9RGABZW     1030 days\n",
       "3  HZSXLI1IS9RGABZW     -143 days\n",
       "4  HZSXLI1IS9RGABZW      118 days"
      ]
     },
     "execution_count": 43,
     "metadata": {},
     "output_type": "execute_result"
    }
   ],
   "source": [
    "orders_invoices[['Order Id','Response rate']].head()"
   ]
  },
  {
   "cell_type": "markdown",
   "metadata": {
    "slideshow": {
     "slide_type": "fragment"
    }
   },
   "source": [
    "Как видно, присутсвуют как различия в 4 дня так и 237 и это все для одного order_id"
   ]
  },
  {
   "cell_type": "markdown",
   "metadata": {
    "slideshow": {
     "slide_type": "fragment"
    }
   },
   "source": [
    "Избавимся от знака минус и преобразуем разницу в днях в число ( так с ним проще работать) "
   ]
  },
  {
   "cell_type": "code",
   "execution_count": 44,
   "metadata": {
    "slideshow": {
     "slide_type": "subslide"
    }
   },
   "outputs": [],
   "source": [
    "orders_invoices['abs_response rate'] = abs(orders_invoices['Response rate'])"
   ]
  },
  {
   "cell_type": "code",
   "execution_count": 45,
   "metadata": {
    "slideshow": {
     "slide_type": "skip"
    }
   },
   "outputs": [],
   "source": [
    "orders_invoices['Response rate'] = (orders_invoices['Response rate'] / np.timedelta64(1, 'D')).astype(int)"
   ]
  },
  {
   "cell_type": "code",
   "execution_count": 46,
   "metadata": {
    "slideshow": {
     "slide_type": "fragment"
    }
   },
   "outputs": [],
   "source": [
    "orders_invoices['abs_response rate'] = (orders_invoices['abs_response rate'] / np.timedelta64(1, 'D')).astype(int)"
   ]
  },
  {
   "cell_type": "code",
   "execution_count": 47,
   "metadata": {
    "slideshow": {
     "slide_type": "fragment"
    }
   },
   "outputs": [
    {
     "data": {
      "text/html": [
       "<div>\n",
       "<style scoped>\n",
       "    .dataframe tbody tr th:only-of-type {\n",
       "        vertical-align: middle;\n",
       "    }\n",
       "\n",
       "    .dataframe tbody tr th {\n",
       "        vertical-align: top;\n",
       "    }\n",
       "\n",
       "    .dataframe thead th {\n",
       "        text-align: right;\n",
       "    }\n",
       "</style>\n",
       "<table border=\"1\" class=\"dataframe\">\n",
       "  <thead>\n",
       "    <tr style=\"text-align: right;\">\n",
       "      <th></th>\n",
       "      <th>Order Id</th>\n",
       "      <th>abs_response rate</th>\n",
       "    </tr>\n",
       "  </thead>\n",
       "  <tbody>\n",
       "    <tr>\n",
       "      <th>0</th>\n",
       "      <td>HZSXLI1IS9RGABZW</td>\n",
       "      <td>4</td>\n",
       "    </tr>\n",
       "    <tr>\n",
       "      <th>1</th>\n",
       "      <td>HZSXLI1IS9RGABZW</td>\n",
       "      <td>237</td>\n",
       "    </tr>\n",
       "  </tbody>\n",
       "</table>\n",
       "</div>"
      ],
      "text/plain": [
       "           Order Id  abs_response rate\n",
       "0  HZSXLI1IS9RGABZW                  4\n",
       "1  HZSXLI1IS9RGABZW                237"
      ]
     },
     "execution_count": 47,
     "metadata": {},
     "output_type": "execute_result"
    }
   ],
   "source": [
    "orders_invoices[['Order Id','abs_response rate']].head(2)"
   ]
  },
  {
   "cell_type": "markdown",
   "metadata": {
    "slideshow": {
     "slide_type": "fragment"
    }
   },
   "source": [
    "Что у нас получилось: <br> Есть заказ и ряд его дубликатов. В каждой строчке присутсвует \"скорость реакции\", т.е кол-во дней, спустя которое был ответ на заказ.\n",
    "Нас интересует строка, в которой \"скорость реакции\" наименьшая. Вероятно тем самым мы удалим какие то заказы, где скорость ответа была спустя 10, 20, 30 или 200 дней, но такие данные скорее относятся к выбросам и в любом случае искажают оценку. <br>\n",
    "Потому, ограничим скорость реакции кол-вом дней"
   ]
  },
  {
   "cell_type": "code",
   "execution_count": 48,
   "metadata": {
    "slideshow": {
     "slide_type": "fragment"
    }
   },
   "outputs": [],
   "source": [
    "orders_with_invoices = orders_invoices[orders_invoices['abs_response rate'] < 7]"
   ]
  },
  {
   "cell_type": "markdown",
   "metadata": {
    "slideshow": {
     "slide_type": "slide"
    }
   },
   "source": [
    "Далее, отсортируем заказы в наборе данных так, чтоб строки с наименьшей скоростью реакции были на первом месте и избавимся от дубликатов, оставив только первые значения"
   ]
  },
  {
   "cell_type": "code",
   "execution_count": 49,
   "metadata": {
    "slideshow": {
     "slide_type": "fragment"
    }
   },
   "outputs": [],
   "source": [
    "orders_with_invoices = orders_with_invoices.loc[(orders_with_invoices['abs_response rate']).sort_values().index]"
   ]
  },
  {
   "cell_type": "code",
   "execution_count": 50,
   "metadata": {
    "slideshow": {
     "slide_type": "fragment"
    }
   },
   "outputs": [],
   "source": [
    "orders_with_invoices = orders_with_invoices.drop_duplicates(subset='Order Id', keep= 'first')"
   ]
  },
  {
   "cell_type": "code",
   "execution_count": 51,
   "metadata": {
    "slideshow": {
     "slide_type": "fragment"
    }
   },
   "outputs": [
    {
     "data": {
      "text/html": [
       "<div>\n",
       "<style scoped>\n",
       "    .dataframe tbody tr th:only-of-type {\n",
       "        vertical-align: middle;\n",
       "    }\n",
       "\n",
       "    .dataframe tbody tr th {\n",
       "        vertical-align: top;\n",
       "    }\n",
       "\n",
       "    .dataframe thead th {\n",
       "        text-align: right;\n",
       "    }\n",
       "</style>\n",
       "<table border=\"1\" class=\"dataframe\">\n",
       "  <thead>\n",
       "    <tr style=\"text-align: right;\">\n",
       "      <th></th>\n",
       "      <th>Order Id</th>\n",
       "      <th>abs_response rate</th>\n",
       "    </tr>\n",
       "  </thead>\n",
       "  <tbody>\n",
       "    <tr>\n",
       "      <th>646059</th>\n",
       "      <td>B1VMMGK37R3EB1XG</td>\n",
       "      <td>0</td>\n",
       "    </tr>\n",
       "    <tr>\n",
       "      <th>945884</th>\n",
       "      <td>Q73TRIMLLO3PAOWI</td>\n",
       "      <td>0</td>\n",
       "    </tr>\n",
       "    <tr>\n",
       "      <th>945869</th>\n",
       "      <td>7DCXH40IG0TVRSLT</td>\n",
       "      <td>0</td>\n",
       "    </tr>\n",
       "    <tr>\n",
       "      <th>251937</th>\n",
       "      <td>FKK7OB6Q5Q8IZL0R</td>\n",
       "      <td>0</td>\n",
       "    </tr>\n",
       "    <tr>\n",
       "      <th>608415</th>\n",
       "      <td>DJWH3GTUMMFAQPK8</td>\n",
       "      <td>0</td>\n",
       "    </tr>\n",
       "  </tbody>\n",
       "</table>\n",
       "</div>"
      ],
      "text/plain": [
       "                Order Id  abs_response rate\n",
       "646059  B1VMMGK37R3EB1XG                  0\n",
       "945884  Q73TRIMLLO3PAOWI                  0\n",
       "945869  7DCXH40IG0TVRSLT                  0\n",
       "251937  FKK7OB6Q5Q8IZL0R                  0\n",
       "608415  DJWH3GTUMMFAQPK8                  0"
      ]
     },
     "execution_count": 51,
     "metadata": {},
     "output_type": "execute_result"
    }
   ],
   "source": [
    "orders_with_invoices[['Order Id','abs_response rate']].head(5)"
   ]
  },
  {
   "cell_type": "markdown",
   "metadata": {
    "slideshow": {
     "slide_type": "slide"
    }
   },
   "source": [
    "Кажется все, но что делать с заказами, в которых отсутсвовали встречи? <br>\n",
    "Для начала определим их:"
   ]
  },
  {
   "cell_type": "markdown",
   "metadata": {
    "slideshow": {
     "slide_type": "fragment"
    }
   },
   "source": [
    "При помощи оператора ~ (НЕ) выявив Order Id отсутсвующие в наборе данных со счетами"
   ]
  },
  {
   "cell_type": "code",
   "execution_count": 52,
   "metadata": {
    "slideshow": {
     "slide_type": "fragment"
    }
   },
   "outputs": [],
   "source": [
    "orders_without_invoices = order_leads[~order_leads['Order Id'].isin(orders_with_invoices['Order Id'].unique())]"
   ]
  },
  {
   "cell_type": "code",
   "execution_count": 53,
   "metadata": {
    "slideshow": {
     "slide_type": "fragment"
    }
   },
   "outputs": [
    {
     "data": {
      "text/html": [
       "<div>\n",
       "<style scoped>\n",
       "    .dataframe tbody tr th:only-of-type {\n",
       "        vertical-align: middle;\n",
       "    }\n",
       "\n",
       "    .dataframe tbody tr th {\n",
       "        vertical-align: top;\n",
       "    }\n",
       "\n",
       "    .dataframe thead th {\n",
       "        text-align: right;\n",
       "    }\n",
       "</style>\n",
       "<table border=\"1\" class=\"dataframe\">\n",
       "  <thead>\n",
       "    <tr style=\"text-align: right;\">\n",
       "      <th></th>\n",
       "      <th>Order Id</th>\n",
       "      <th>Company Id</th>\n",
       "      <th>Company Name</th>\n",
       "      <th>Date</th>\n",
       "      <th>Order Value</th>\n",
       "      <th>Converted</th>\n",
       "    </tr>\n",
       "  </thead>\n",
       "  <tbody>\n",
       "    <tr>\n",
       "      <th>1</th>\n",
       "      <td>582WPS3OW8T6YT0R</td>\n",
       "      <td>D0AUXPP07H6AVSGD</td>\n",
       "      <td>Melancholy Social-Role</td>\n",
       "      <td>2017-09-02</td>\n",
       "      <td>7930</td>\n",
       "      <td>0</td>\n",
       "    </tr>\n",
       "    <tr>\n",
       "      <th>2</th>\n",
       "      <td>KRF65MQZBOYG4Y9T</td>\n",
       "      <td>D0AUXPP07H6AVSGD</td>\n",
       "      <td>Melancholy Social-Role</td>\n",
       "      <td>2016-12-21</td>\n",
       "      <td>5538</td>\n",
       "      <td>1</td>\n",
       "    </tr>\n",
       "  </tbody>\n",
       "</table>\n",
       "</div>"
      ],
      "text/plain": [
       "           Order Id        Company Id            Company Name        Date  \\\n",
       "1  582WPS3OW8T6YT0R  D0AUXPP07H6AVSGD  Melancholy Social-Role  2017-09-02   \n",
       "2  KRF65MQZBOYG4Y9T  D0AUXPP07H6AVSGD  Melancholy Social-Role  2016-12-21   \n",
       "\n",
       "   Order Value  Converted  \n",
       "1         7930          0  \n",
       "2         5538          1  "
      ]
     },
     "execution_count": 53,
     "metadata": {},
     "output_type": "execute_result"
    }
   ],
   "source": [
    "orders_without_invoices.head(2)"
   ]
  },
  {
   "cell_type": "code",
   "execution_count": 54,
   "metadata": {
    "slideshow": {
     "slide_type": "skip"
    }
   },
   "outputs": [
    {
     "data": {
      "text/plain": [
       "53753"
      ]
     },
     "execution_count": 54,
     "metadata": {},
     "output_type": "execute_result"
    }
   ],
   "source": [
    "len(orders_with_invoices)"
   ]
  },
  {
   "cell_type": "code",
   "execution_count": 55,
   "metadata": {
    "slideshow": {
     "slide_type": "skip"
    }
   },
   "outputs": [
    {
     "data": {
      "text/plain": [
       "46247"
      ]
     },
     "execution_count": 55,
     "metadata": {},
     "output_type": "execute_result"
    }
   ],
   "source": [
    "len(orders_without_invoices)"
   ]
  },
  {
   "cell_type": "code",
   "execution_count": 56,
   "metadata": {
    "slideshow": {
     "slide_type": "skip"
    }
   },
   "outputs": [
    {
     "data": {
      "text/plain": [
       "1133041"
      ]
     },
     "execution_count": 56,
     "metadata": {},
     "output_type": "execute_result"
    }
   ],
   "source": [
    "len(orders_invoices)"
   ]
  },
  {
   "cell_type": "markdown",
   "metadata": {
    "slideshow": {
     "slide_type": "slide"
    }
   },
   "source": [
    "И теперь просто добавим их в orders_with_invoices тем самым собрав полный датасет без дубликатов"
   ]
  },
  {
   "cell_type": "code",
   "execution_count": 57,
   "metadata": {
    "slideshow": {
     "slide_type": "fragment"
    }
   },
   "outputs": [],
   "source": [
    "orders_invoices = pd.concat([orders_with_invoices,orders_without_invoices],sort=True)"
   ]
  },
  {
   "cell_type": "markdown",
   "metadata": {
    "slideshow": {
     "slide_type": "fragment"
    }
   },
   "source": [
    "Избавимся от лишних значений ( abs_response rate, название компании и пр) и поменяем столбцы местами для лучшего восприятия"
   ]
  },
  {
   "cell_type": "code",
   "execution_count": 58,
   "metadata": {
    "slideshow": {
     "slide_type": "fragment"
    }
   },
   "outputs": [],
   "source": [
    "orders_invoices = orders_invoices[['Order Id', 'Company Id','Meal Id','Date','Date of Meal','Response rate','Order Value','Meal Price','Participants','Converted']]"
   ]
  },
  {
   "cell_type": "code",
   "execution_count": 59,
   "metadata": {
    "slideshow": {
     "slide_type": "fragment"
    }
   },
   "outputs": [
    {
     "data": {
      "text/html": [
       "<div>\n",
       "<style scoped>\n",
       "    .dataframe tbody tr th:only-of-type {\n",
       "        vertical-align: middle;\n",
       "    }\n",
       "\n",
       "    .dataframe tbody tr th {\n",
       "        vertical-align: top;\n",
       "    }\n",
       "\n",
       "    .dataframe thead th {\n",
       "        text-align: right;\n",
       "    }\n",
       "</style>\n",
       "<table border=\"1\" class=\"dataframe\">\n",
       "  <thead>\n",
       "    <tr style=\"text-align: right;\">\n",
       "      <th></th>\n",
       "      <th>Order Id</th>\n",
       "      <th>Company Id</th>\n",
       "      <th>Meal Id</th>\n",
       "      <th>Date</th>\n",
       "      <th>Date of Meal</th>\n",
       "      <th>Response rate</th>\n",
       "      <th>Order Value</th>\n",
       "      <th>Meal Price</th>\n",
       "      <th>Participants</th>\n",
       "      <th>Converted</th>\n",
       "    </tr>\n",
       "  </thead>\n",
       "  <tbody>\n",
       "    <tr>\n",
       "      <th>646059</th>\n",
       "      <td>B1VMMGK37R3EB1XG</td>\n",
       "      <td>D0XKCT6M62KBFIIG</td>\n",
       "      <td>FZR2LNYLKLGPP0SD</td>\n",
       "      <td>2014-06-04</td>\n",
       "      <td>2014-06-04 22:00:00</td>\n",
       "      <td>0.0</td>\n",
       "      <td>2320</td>\n",
       "      <td>172.0</td>\n",
       "      <td>['Crystal Friel']</td>\n",
       "      <td>0</td>\n",
       "    </tr>\n",
       "  </tbody>\n",
       "</table>\n",
       "</div>"
      ],
      "text/plain": [
       "                Order Id        Company Id           Meal Id        Date  \\\n",
       "646059  B1VMMGK37R3EB1XG  D0XKCT6M62KBFIIG  FZR2LNYLKLGPP0SD  2014-06-04   \n",
       "\n",
       "               Date of Meal  Response rate  Order Value  Meal Price  \\\n",
       "646059  2014-06-04 22:00:00            0.0         2320       172.0   \n",
       "\n",
       "             Participants  Converted  \n",
       "646059  ['Crystal Friel']          0  "
      ]
     },
     "execution_count": 59,
     "metadata": {},
     "output_type": "execute_result"
    }
   ],
   "source": [
    "orders_invoices.head(1)"
   ]
  },
  {
   "cell_type": "markdown",
   "metadata": {
    "slideshow": {
     "slide_type": "fragment"
    }
   },
   "source": [
    "Теперь с этим можно работать"
   ]
  },
  {
   "cell_type": "markdown",
   "metadata": {
    "slideshow": {
     "slide_type": "slide"
    }
   },
   "source": [
    "<div class=\"alert alert-block alert-success\">\n",
    "    \n",
    "Разберем какие данные можно рассмотреть в orders_invoices:\n",
    "* Date of Meal , а именно время трапезы\n",
    "* Response rate и как он влияет на конверсию\n",
    "* Meal Price и как цена обеда отражается на результате сделки \n",
    "* Participant и их число на встрече ( в самом начале мы выяснили что он может быть не один) <br>\n",
    "\n",
    "Звучит как план\n",
    " <div>"
   ]
  },
  {
   "cell_type": "markdown",
   "metadata": {
    "slideshow": {
     "slide_type": "slide"
    }
   },
   "source": [
    "<div class=\"alert alert-block alert-info\">\n",
    "<b> 1.</b>  Начнем с конца. Посмотрим на кол-во и состав участников встречи\n",
    "</div>\n",
    " "
   ]
  },
  {
   "cell_type": "markdown",
   "metadata": {
    "slideshow": {
     "slide_type": "subslide"
    }
   },
   "source": [
    "Чтоб посчитать кол-во участников на каждой встрече, необходимо очистить столбце \"Participants\" от лишних символов"
   ]
  },
  {
   "cell_type": "code",
   "execution_count": 60,
   "metadata": {
    "slideshow": {
     "slide_type": "fragment"
    }
   },
   "outputs": [],
   "source": [
    "orders_invoices['Participants'] = orders_invoices['Participants'].str.replace(\"\\n\", \"\")"
   ]
  },
  {
   "cell_type": "code",
   "execution_count": 61,
   "metadata": {
    "slideshow": {
     "slide_type": "fragment"
    }
   },
   "outputs": [],
   "source": [
    "orders_invoices['Participants'] = orders_invoices['Participants'].str.replace(\"' '\", \";\")"
   ]
  },
  {
   "cell_type": "code",
   "execution_count": 62,
   "metadata": {
    "slideshow": {
     "slide_type": "fragment"
    }
   },
   "outputs": [],
   "source": [
    "orders_invoices['Participants'] = orders_invoices['Participants'].str.replace(\"'\", '')"
   ]
  },
  {
   "cell_type": "code",
   "execution_count": 63,
   "metadata": {
    "slideshow": {
     "slide_type": "fragment"
    }
   },
   "outputs": [],
   "source": [
    "orders_invoices['Participants_num'] = orders_invoices['Participants'].str.split(';').str.len()"
   ]
  },
  {
   "cell_type": "code",
   "execution_count": 64,
   "metadata": {
    "slideshow": {
     "slide_type": "fragment"
    }
   },
   "outputs": [
    {
     "data": {
      "text/html": [
       "<div>\n",
       "<style scoped>\n",
       "    .dataframe tbody tr th:only-of-type {\n",
       "        vertical-align: middle;\n",
       "    }\n",
       "\n",
       "    .dataframe tbody tr th {\n",
       "        vertical-align: top;\n",
       "    }\n",
       "\n",
       "    .dataframe thead th {\n",
       "        text-align: right;\n",
       "    }\n",
       "</style>\n",
       "<table border=\"1\" class=\"dataframe\">\n",
       "  <thead>\n",
       "    <tr style=\"text-align: right;\">\n",
       "      <th></th>\n",
       "      <th>Meal Id</th>\n",
       "      <th>Participants_num</th>\n",
       "    </tr>\n",
       "  </thead>\n",
       "  <tbody>\n",
       "    <tr>\n",
       "      <th>646059</th>\n",
       "      <td>FZR2LNYLKLGPP0SD</td>\n",
       "      <td>1.0</td>\n",
       "    </tr>\n",
       "    <tr>\n",
       "      <th>945884</th>\n",
       "      <td>EENQQ7HS4P0S6C9Z</td>\n",
       "      <td>3.0</td>\n",
       "    </tr>\n",
       "    <tr>\n",
       "      <th>945869</th>\n",
       "      <td>P7IIJGEHC7Y2NB6V</td>\n",
       "      <td>3.0</td>\n",
       "    </tr>\n",
       "  </tbody>\n",
       "</table>\n",
       "</div>"
      ],
      "text/plain": [
       "                 Meal Id  Participants_num\n",
       "646059  FZR2LNYLKLGPP0SD               1.0\n",
       "945884  EENQQ7HS4P0S6C9Z               3.0\n",
       "945869  P7IIJGEHC7Y2NB6V               3.0"
      ]
     },
     "execution_count": 64,
     "metadata": {},
     "output_type": "execute_result"
    }
   ],
   "source": [
    "orders_invoices[['Meal Id','Participants_num']].head(3)"
   ]
  },
  {
   "cell_type": "markdown",
   "metadata": {
    "slideshow": {
     "slide_type": "slide"
    }
   },
   "source": [
    "<div class=\"alert alert-block alert-info\">\n",
    " Любопытная информация, но пока оставим ее без внимания и добавим еще 1 столбец в набор данных <br>\n",
    "    <br>\n",
    "<b> 2.</b>  Время трапезы\n",
    "</div>\n",
    " "
   ]
  },
  {
   "cell_type": "markdown",
   "metadata": {
    "slideshow": {
     "slide_type": "subslide"
    }
   },
   "source": [
    "Изначально, время трапезы представленно в связке с датой.<br> В таком виде с ним неудобно работать. Отделим его от даты"
   ]
  },
  {
   "cell_type": "code",
   "execution_count": 65,
   "metadata": {
    "slideshow": {
     "slide_type": "fragment"
    }
   },
   "outputs": [
    {
     "data": {
      "text/html": [
       "<div>\n",
       "<style scoped>\n",
       "    .dataframe tbody tr th:only-of-type {\n",
       "        vertical-align: middle;\n",
       "    }\n",
       "\n",
       "    .dataframe tbody tr th {\n",
       "        vertical-align: top;\n",
       "    }\n",
       "\n",
       "    .dataframe thead th {\n",
       "        text-align: right;\n",
       "    }\n",
       "</style>\n",
       "<table border=\"1\" class=\"dataframe\">\n",
       "  <thead>\n",
       "    <tr style=\"text-align: right;\">\n",
       "      <th></th>\n",
       "      <th>Meal Id</th>\n",
       "      <th>Date of Meal</th>\n",
       "    </tr>\n",
       "  </thead>\n",
       "  <tbody>\n",
       "    <tr>\n",
       "      <th>646059</th>\n",
       "      <td>FZR2LNYLKLGPP0SD</td>\n",
       "      <td>2014-06-04 22:00:00</td>\n",
       "    </tr>\n",
       "    <tr>\n",
       "      <th>945884</th>\n",
       "      <td>EENQQ7HS4P0S6C9Z</td>\n",
       "      <td>2015-04-22 13:00:00</td>\n",
       "    </tr>\n",
       "  </tbody>\n",
       "</table>\n",
       "</div>"
      ],
      "text/plain": [
       "                 Meal Id         Date of Meal\n",
       "646059  FZR2LNYLKLGPP0SD  2014-06-04 22:00:00\n",
       "945884  EENQQ7HS4P0S6C9Z  2015-04-22 13:00:00"
      ]
     },
     "execution_count": 65,
     "metadata": {},
     "output_type": "execute_result"
    }
   ],
   "source": [
    "orders_invoices[['Meal Id','Date of Meal']].head(2)"
   ]
  },
  {
   "cell_type": "code",
   "execution_count": 66,
   "metadata": {
    "slideshow": {
     "slide_type": "fragment"
    }
   },
   "outputs": [],
   "source": [
    "orders_invoices['Meal Time']= pd.to_datetime(orders_invoices['Date of Meal']).dt.time"
   ]
  },
  {
   "cell_type": "code",
   "execution_count": 67,
   "metadata": {
    "slideshow": {
     "slide_type": "fragment"
    }
   },
   "outputs": [
    {
     "data": {
      "text/html": [
       "<div>\n",
       "<style scoped>\n",
       "    .dataframe tbody tr th:only-of-type {\n",
       "        vertical-align: middle;\n",
       "    }\n",
       "\n",
       "    .dataframe tbody tr th {\n",
       "        vertical-align: top;\n",
       "    }\n",
       "\n",
       "    .dataframe thead th {\n",
       "        text-align: right;\n",
       "    }\n",
       "</style>\n",
       "<table border=\"1\" class=\"dataframe\">\n",
       "  <thead>\n",
       "    <tr style=\"text-align: right;\">\n",
       "      <th></th>\n",
       "      <th>Meal Id</th>\n",
       "      <th>Meal Time</th>\n",
       "      <th>Participants_num</th>\n",
       "    </tr>\n",
       "  </thead>\n",
       "  <tbody>\n",
       "    <tr>\n",
       "      <th>646059</th>\n",
       "      <td>FZR2LNYLKLGPP0SD</td>\n",
       "      <td>22:00:00</td>\n",
       "      <td>1.0</td>\n",
       "    </tr>\n",
       "    <tr>\n",
       "      <th>945884</th>\n",
       "      <td>EENQQ7HS4P0S6C9Z</td>\n",
       "      <td>13:00:00</td>\n",
       "      <td>3.0</td>\n",
       "    </tr>\n",
       "    <tr>\n",
       "      <th>945869</th>\n",
       "      <td>P7IIJGEHC7Y2NB6V</td>\n",
       "      <td>14:00:00</td>\n",
       "      <td>3.0</td>\n",
       "    </tr>\n",
       "    <tr>\n",
       "      <th>251937</th>\n",
       "      <td>YYH1MH2FD0R45PRK</td>\n",
       "      <td>14:00:00</td>\n",
       "      <td>1.0</td>\n",
       "    </tr>\n",
       "    <tr>\n",
       "      <th>608415</th>\n",
       "      <td>PFHCVGPNGM3HDWET</td>\n",
       "      <td>14:00:00</td>\n",
       "      <td>1.0</td>\n",
       "    </tr>\n",
       "  </tbody>\n",
       "</table>\n",
       "</div>"
      ],
      "text/plain": [
       "                 Meal Id Meal Time  Participants_num\n",
       "646059  FZR2LNYLKLGPP0SD  22:00:00               1.0\n",
       "945884  EENQQ7HS4P0S6C9Z  13:00:00               3.0\n",
       "945869  P7IIJGEHC7Y2NB6V  14:00:00               3.0\n",
       "251937  YYH1MH2FD0R45PRK  14:00:00               1.0\n",
       "608415  PFHCVGPNGM3HDWET  14:00:00               1.0"
      ]
     },
     "execution_count": 67,
     "metadata": {},
     "output_type": "execute_result"
    }
   ],
   "source": [
    "orders_invoices[['Meal Id','Meal Time','Participants_num']].head()"
   ]
  },
  {
   "cell_type": "markdown",
   "metadata": {
    "slideshow": {
     "slide_type": "slide"
    }
   },
   "source": [
    "Теперь определим в какое время обычно проходят встречи"
   ]
  },
  {
   "cell_type": "code",
   "execution_count": 68,
   "metadata": {
    "slideshow": {
     "slide_type": "fragment"
    }
   },
   "outputs": [
    {
     "data": {
      "text/plain": [
       "array([datetime.time(22, 0), datetime.time(13, 0), datetime.time(14, 0),\n",
       "       datetime.time(20, 0), datetime.time(7, 0), datetime.time(21, 0),\n",
       "       datetime.time(8, 0), datetime.time(12, 0), datetime.time(9, 0),\n",
       "       NaT], dtype=object)"
      ]
     },
     "execution_count": 68,
     "metadata": {},
     "output_type": "execute_result"
    }
   ],
   "source": [
    "pd.unique(orders_invoices['Meal Time'])"
   ]
  },
  {
   "cell_type": "markdown",
   "metadata": {
    "slideshow": {
     "slide_type": "fragment"
    }
   },
   "source": [
    "Любопытно что вариантов не так уж и много."
   ]
  },
  {
   "cell_type": "markdown",
   "metadata": {
    "slideshow": {
     "slide_type": "slide"
    }
   },
   "source": [
    "Разделим данные интервалы на 4 промежутка:\n",
    "* Завтрак\n",
    "* Обед\n",
    "* Ужин\n",
    "* Отсутсвие трапезы"
   ]
  },
  {
   "cell_type": "code",
   "execution_count": 69,
   "metadata": {
    "slideshow": {
     "slide_type": "skip"
    }
   },
   "outputs": [],
   "source": [
    "orders_invoices['Meal Time'] = orders_invoices['Meal Time'].astype(str)"
   ]
  },
  {
   "cell_type": "code",
   "execution_count": 70,
   "metadata": {
    "slideshow": {
     "slide_type": "subslide"
    }
   },
   "outputs": [],
   "source": [
    "def label_race (row):\n",
    "    if row['Meal Time'] == '07:00:00' :\n",
    "        return 'Breakfast'\n",
    "    if row['Meal Time'] == '08:00:00' :\n",
    "        return 'Breakfast'\n",
    "    if row['Meal Time'] == '09:00:00' :\n",
    "        return 'Breakfast'\n",
    "    if row['Meal Time'] == '12:00:00' :\n",
    "        return 'Lunch'\n",
    "    if row['Meal Time'] == '13:00:00' :\n",
    "        return 'Lunch'\n",
    "    if row['Meal Time'] == '14:00:00' :\n",
    "        return 'Lunch'\n",
    "    if row['Meal Time'] == '20:00:00' :\n",
    "        return 'Dinner'\n",
    "    if row['Meal Time'] == '21:00:00' :\n",
    "        return 'Dinner'\n",
    "    if row['Meal Time'] == '22:00:00' :\n",
    "        return 'Dinner'\n",
    "    if row['Meal Time'] == 'NaT' :\n",
    "        return 'Without Meal'"
   ]
  },
  {
   "cell_type": "code",
   "execution_count": 71,
   "metadata": {
    "slideshow": {
     "slide_type": "subslide"
    }
   },
   "outputs": [],
   "source": [
    "orders_invoices['Meal Type'] = orders_invoices.apply (lambda row: label_race(row), axis=1)"
   ]
  },
  {
   "cell_type": "code",
   "execution_count": 72,
   "metadata": {
    "slideshow": {
     "slide_type": "fragment"
    }
   },
   "outputs": [
    {
     "data": {
      "text/html": [
       "<div>\n",
       "<style scoped>\n",
       "    .dataframe tbody tr th:only-of-type {\n",
       "        vertical-align: middle;\n",
       "    }\n",
       "\n",
       "    .dataframe tbody tr th {\n",
       "        vertical-align: top;\n",
       "    }\n",
       "\n",
       "    .dataframe thead th {\n",
       "        text-align: right;\n",
       "    }\n",
       "</style>\n",
       "<table border=\"1\" class=\"dataframe\">\n",
       "  <thead>\n",
       "    <tr style=\"text-align: right;\">\n",
       "      <th></th>\n",
       "      <th>Meal Id</th>\n",
       "      <th>Meal Time</th>\n",
       "      <th>Meal Type</th>\n",
       "      <th>Participants_num</th>\n",
       "    </tr>\n",
       "  </thead>\n",
       "  <tbody>\n",
       "    <tr>\n",
       "      <th>646059</th>\n",
       "      <td>FZR2LNYLKLGPP0SD</td>\n",
       "      <td>22:00:00</td>\n",
       "      <td>Dinner</td>\n",
       "      <td>1.0</td>\n",
       "    </tr>\n",
       "    <tr>\n",
       "      <th>945884</th>\n",
       "      <td>EENQQ7HS4P0S6C9Z</td>\n",
       "      <td>13:00:00</td>\n",
       "      <td>Lunch</td>\n",
       "      <td>3.0</td>\n",
       "    </tr>\n",
       "    <tr>\n",
       "      <th>945869</th>\n",
       "      <td>P7IIJGEHC7Y2NB6V</td>\n",
       "      <td>14:00:00</td>\n",
       "      <td>Lunch</td>\n",
       "      <td>3.0</td>\n",
       "    </tr>\n",
       "    <tr>\n",
       "      <th>251937</th>\n",
       "      <td>YYH1MH2FD0R45PRK</td>\n",
       "      <td>14:00:00</td>\n",
       "      <td>Lunch</td>\n",
       "      <td>1.0</td>\n",
       "    </tr>\n",
       "    <tr>\n",
       "      <th>608415</th>\n",
       "      <td>PFHCVGPNGM3HDWET</td>\n",
       "      <td>14:00:00</td>\n",
       "      <td>Lunch</td>\n",
       "      <td>1.0</td>\n",
       "    </tr>\n",
       "  </tbody>\n",
       "</table>\n",
       "</div>"
      ],
      "text/plain": [
       "                 Meal Id Meal Time Meal Type  Participants_num\n",
       "646059  FZR2LNYLKLGPP0SD  22:00:00    Dinner               1.0\n",
       "945884  EENQQ7HS4P0S6C9Z  13:00:00     Lunch               3.0\n",
       "945869  P7IIJGEHC7Y2NB6V  14:00:00     Lunch               3.0\n",
       "251937  YYH1MH2FD0R45PRK  14:00:00     Lunch               1.0\n",
       "608415  PFHCVGPNGM3HDWET  14:00:00     Lunch               1.0"
      ]
     },
     "execution_count": 72,
     "metadata": {},
     "output_type": "execute_result"
    }
   ],
   "source": [
    "orders_invoices[['Meal Id','Meal Time','Meal Type','Participants_num']].head()"
   ]
  },
  {
   "cell_type": "markdown",
   "metadata": {
    "slideshow": {
     "slide_type": "slide"
    }
   },
   "source": [
    "<div class=\"alert alert-block alert-info\">\n",
    " Оставим и эти данные пока без внимания. Добавим еще 1 столбец <br>\n",
    "    <br>\n",
    "<b> 3.</b>  Доля стоимости обеда в стоимоти заказа\n",
    "</div>"
   ]
  },
  {
   "cell_type": "markdown",
   "metadata": {
    "slideshow": {
     "slide_type": "subslide"
    }
   },
   "source": [
    "Учитывая, что у нас изначально есть информация о стоимости заказа и стоимости блюда получить данные не составляет труда"
   ]
  },
  {
   "cell_type": "code",
   "execution_count": 73,
   "metadata": {
    "slideshow": {
     "slide_type": "fragment"
    }
   },
   "outputs": [],
   "source": [
    "orders_invoices['Share of value'] =(orders_invoices['Meal Price']/orders_invoices['Order Value'])"
   ]
  },
  {
   "cell_type": "markdown",
   "metadata": {
    "slideshow": {
     "slide_type": "fragment"
    }
   },
   "source": [
    "Представим данные в виде процентов"
   ]
  },
  {
   "cell_type": "code",
   "execution_count": 74,
   "metadata": {
    "slideshow": {
     "slide_type": "fragment"
    }
   },
   "outputs": [],
   "source": [
    "orders_invoices['Share of value'] = round(orders_invoices['Share of value'].astype('float')*100,0) "
   ]
  },
  {
   "cell_type": "code",
   "execution_count": 75,
   "metadata": {
    "slideshow": {
     "slide_type": "fragment"
    }
   },
   "outputs": [
    {
     "data": {
      "text/html": [
       "<div>\n",
       "<style scoped>\n",
       "    .dataframe tbody tr th:only-of-type {\n",
       "        vertical-align: middle;\n",
       "    }\n",
       "\n",
       "    .dataframe tbody tr th {\n",
       "        vertical-align: top;\n",
       "    }\n",
       "\n",
       "    .dataframe thead th {\n",
       "        text-align: right;\n",
       "    }\n",
       "</style>\n",
       "<table border=\"1\" class=\"dataframe\">\n",
       "  <thead>\n",
       "    <tr style=\"text-align: right;\">\n",
       "      <th></th>\n",
       "      <th>Meal Id</th>\n",
       "      <th>Meal Time</th>\n",
       "      <th>Meal Type</th>\n",
       "      <th>Participants_num</th>\n",
       "      <th>Share of value</th>\n",
       "    </tr>\n",
       "  </thead>\n",
       "  <tbody>\n",
       "    <tr>\n",
       "      <th>646059</th>\n",
       "      <td>FZR2LNYLKLGPP0SD</td>\n",
       "      <td>22:00:00</td>\n",
       "      <td>Dinner</td>\n",
       "      <td>1.0</td>\n",
       "      <td>7.0</td>\n",
       "    </tr>\n",
       "    <tr>\n",
       "      <th>945884</th>\n",
       "      <td>EENQQ7HS4P0S6C9Z</td>\n",
       "      <td>13:00:00</td>\n",
       "      <td>Lunch</td>\n",
       "      <td>3.0</td>\n",
       "      <td>9.0</td>\n",
       "    </tr>\n",
       "    <tr>\n",
       "      <th>945869</th>\n",
       "      <td>P7IIJGEHC7Y2NB6V</td>\n",
       "      <td>14:00:00</td>\n",
       "      <td>Lunch</td>\n",
       "      <td>3.0</td>\n",
       "      <td>9.0</td>\n",
       "    </tr>\n",
       "    <tr>\n",
       "      <th>251937</th>\n",
       "      <td>YYH1MH2FD0R45PRK</td>\n",
       "      <td>14:00:00</td>\n",
       "      <td>Lunch</td>\n",
       "      <td>1.0</td>\n",
       "      <td>7.0</td>\n",
       "    </tr>\n",
       "    <tr>\n",
       "      <th>608415</th>\n",
       "      <td>PFHCVGPNGM3HDWET</td>\n",
       "      <td>14:00:00</td>\n",
       "      <td>Lunch</td>\n",
       "      <td>1.0</td>\n",
       "      <td>7.0</td>\n",
       "    </tr>\n",
       "  </tbody>\n",
       "</table>\n",
       "</div>"
      ],
      "text/plain": [
       "                 Meal Id Meal Time Meal Type  Participants_num  Share of value\n",
       "646059  FZR2LNYLKLGPP0SD  22:00:00    Dinner               1.0             7.0\n",
       "945884  EENQQ7HS4P0S6C9Z  13:00:00     Lunch               3.0             9.0\n",
       "945869  P7IIJGEHC7Y2NB6V  14:00:00     Lunch               3.0             9.0\n",
       "251937  YYH1MH2FD0R45PRK  14:00:00     Lunch               1.0             7.0\n",
       "608415  PFHCVGPNGM3HDWET  14:00:00     Lunch               1.0             7.0"
      ]
     },
     "execution_count": 75,
     "metadata": {},
     "output_type": "execute_result"
    }
   ],
   "source": [
    "orders_invoices[['Meal Id','Meal Time','Meal Type','Participants_num','Share of value']].head()"
   ]
  },
  {
   "cell_type": "markdown",
   "metadata": {
    "slideshow": {
     "slide_type": "slide"
    }
   },
   "source": [
    "Избавимся от ненужных данных  и отсортируем столбцы в таблице"
   ]
  },
  {
   "cell_type": "code",
   "execution_count": 76,
   "metadata": {},
   "outputs": [],
   "source": [
    "orders_invoices = orders_invoices[['Response rate','Order Value','Share of value','Meal Price','Meal Type','Participants_num','Converted']]"
   ]
  },
  {
   "cell_type": "code",
   "execution_count": 77,
   "metadata": {
    "slideshow": {
     "slide_type": "fragment"
    }
   },
   "outputs": [
    {
     "data": {
      "text/html": [
       "<div>\n",
       "<style scoped>\n",
       "    .dataframe tbody tr th:only-of-type {\n",
       "        vertical-align: middle;\n",
       "    }\n",
       "\n",
       "    .dataframe tbody tr th {\n",
       "        vertical-align: top;\n",
       "    }\n",
       "\n",
       "    .dataframe thead th {\n",
       "        text-align: right;\n",
       "    }\n",
       "</style>\n",
       "<table border=\"1\" class=\"dataframe\">\n",
       "  <thead>\n",
       "    <tr style=\"text-align: right;\">\n",
       "      <th></th>\n",
       "      <th>Response rate</th>\n",
       "      <th>Order Value</th>\n",
       "      <th>Share of value</th>\n",
       "      <th>Meal Price</th>\n",
       "      <th>Meal Type</th>\n",
       "      <th>Participants_num</th>\n",
       "      <th>Converted</th>\n",
       "    </tr>\n",
       "  </thead>\n",
       "  <tbody>\n",
       "    <tr>\n",
       "      <th>646059</th>\n",
       "      <td>0.0</td>\n",
       "      <td>2320</td>\n",
       "      <td>7.0</td>\n",
       "      <td>172.0</td>\n",
       "      <td>Dinner</td>\n",
       "      <td>1.0</td>\n",
       "      <td>0</td>\n",
       "    </tr>\n",
       "    <tr>\n",
       "      <th>945884</th>\n",
       "      <td>0.0</td>\n",
       "      <td>6183</td>\n",
       "      <td>9.0</td>\n",
       "      <td>532.0</td>\n",
       "      <td>Lunch</td>\n",
       "      <td>3.0</td>\n",
       "      <td>1</td>\n",
       "    </tr>\n",
       "    <tr>\n",
       "      <th>945869</th>\n",
       "      <td>0.0</td>\n",
       "      <td>9031</td>\n",
       "      <td>9.0</td>\n",
       "      <td>768.0</td>\n",
       "      <td>Lunch</td>\n",
       "      <td>3.0</td>\n",
       "      <td>0</td>\n",
       "    </tr>\n",
       "    <tr>\n",
       "      <th>251937</th>\n",
       "      <td>0.0</td>\n",
       "      <td>3158</td>\n",
       "      <td>7.0</td>\n",
       "      <td>227.0</td>\n",
       "      <td>Lunch</td>\n",
       "      <td>1.0</td>\n",
       "      <td>0</td>\n",
       "    </tr>\n",
       "    <tr>\n",
       "      <th>608415</th>\n",
       "      <td>0.0</td>\n",
       "      <td>8890</td>\n",
       "      <td>7.0</td>\n",
       "      <td>631.0</td>\n",
       "      <td>Lunch</td>\n",
       "      <td>1.0</td>\n",
       "      <td>0</td>\n",
       "    </tr>\n",
       "  </tbody>\n",
       "</table>\n",
       "</div>"
      ],
      "text/plain": [
       "        Response rate  Order Value  Share of value  Meal Price Meal Type  \\\n",
       "646059            0.0         2320             7.0       172.0    Dinner   \n",
       "945884            0.0         6183             9.0       532.0     Lunch   \n",
       "945869            0.0         9031             9.0       768.0     Lunch   \n",
       "251937            0.0         3158             7.0       227.0     Lunch   \n",
       "608415            0.0         8890             7.0       631.0     Lunch   \n",
       "\n",
       "        Participants_num  Converted  \n",
       "646059               1.0          0  \n",
       "945884               3.0          1  \n",
       "945869               3.0          0  \n",
       "251937               1.0          0  \n",
       "608415               1.0          0  "
      ]
     },
     "execution_count": 77,
     "metadata": {},
     "output_type": "execute_result"
    }
   ],
   "source": [
    "orders_invoices.head()"
   ]
  },
  {
   "cell_type": "markdown",
   "metadata": {
    "slideshow": {
     "slide_type": "fragment"
    }
   },
   "source": [
    "Получлися набор данных с новыми признаками, анализируя которые можно предложить ряд правил которые позволят увеличить конверсию"
   ]
  },
  {
   "cell_type": "markdown",
   "metadata": {
    "slideshow": {
     "slide_type": "slide"
    }
   },
   "source": [
    "### Начнем"
   ]
  },
  {
   "cell_type": "markdown",
   "metadata": {
    "slideshow": {
     "slide_type": "subslide"
    }
   },
   "source": [
    "<div class=\"alert alert-block alert-success\">\n",
    "<b> 1.</b>  Meal Type   (Вид трапезы)\n",
    "</div>"
   ]
  },
  {
   "cell_type": "markdown",
   "metadata": {
    "slideshow": {
     "slide_type": "subslide"
    }
   },
   "source": [
    "Для начала построим график, показывающи соотношение среднего значения конверсии с временем приема пищи"
   ]
  },
  {
   "cell_type": "code",
   "execution_count": 78,
   "metadata": {
    "slideshow": {
     "slide_type": "fragment"
    }
   },
   "outputs": [
    {
     "data": {
      "image/png": "[encoded data removed]",
      "text/plain": [
       "<Figure size 1224x432 with 1 Axes>"
      ]
     },
     "metadata": {},
     "output_type": "display_data"
    }
   ],
   "source": [
    "sns.barplot(y=\"Converted\", x=\"Meal Type\", data= orders_invoices, orient = 'v')\n",
    "plt.title('Конверсия в зависимости от времени приема пищи')\n",
    "plt.show()"
   ]
  },
  {
   "cell_type": "markdown",
   "metadata": {
    "slideshow": {
     "slide_type": "subslide"
    }
   },
   "source": [
    "Интересно, хоть и немного ожидаемо: <br>\n",
    "* Заказы, которые не сопровождались трапезой имеют наименьшую конверсию\n",
    "* Завтрак и ужин имеют наибольшую конверсию (около 25%)\n",
    "* Обед имеет конверсию чуть меньше ( порядка 24%) \n",
    "\n",
    "Отличия в рамках завтрака, обеда и ужина могут носить характер статистической погрешности. <br>\n",
    "Ключевым является то, что отсутвие трапезы снижают конверсию почти вдвое!"
   ]
  },
  {
   "cell_type": "markdown",
   "metadata": {
    "slideshow": {
     "slide_type": "slide"
    }
   },
   "source": [
    "<div class=\"alert alert-block alert-success\">\n",
    "<b> 2.</b>  Participants_num ( Кол-во участников встречи)\n",
    "</div>"
   ]
  },
  {
   "cell_type": "markdown",
   "metadata": {
    "slideshow": {
     "slide_type": "subslide"
    }
   },
   "source": [
    "Теперь же рассмотри как число участников влияют на итоговую конверсию заказа"
   ]
  },
  {
   "cell_type": "code",
   "execution_count": 79,
   "metadata": {
    "slideshow": {
     "slide_type": "subslide"
    }
   },
   "outputs": [
    {
     "data": {
      "image/png": "[encoded data removed]",
      "text/plain": [
       "<Figure size 1224x432 with 1 Axes>"
      ]
     },
     "metadata": {},
     "output_type": "display_data"
    }
   ],
   "source": [
    "sns.barplot(y=\"Converted\", x=\"Participants_num\", data= orders_invoices, orient = 'v')\n",
    "plt.title('Конверсия в зависимости от числа участников встречи')\n",
    "plt.show()"
   ]
  },
  {
   "cell_type": "markdown",
   "metadata": {
    "slideshow": {
     "slide_type": "subslide"
    }
   },
   "source": [
    "Здесь уже интересней, хоть и первое впечатление разочаровало:\n",
    "* Чем больше человек на встрече, тем ниже конверсия\n",
    "* Но это правило работает только до 5 человек, там конверсия вновь возрастает. <br>\n",
    "Попробуем определить с чем это связано:"
   ]
  },
  {
   "cell_type": "code",
   "execution_count": 80,
   "metadata": {
    "slideshow": {
     "slide_type": "fragment"
    }
   },
   "outputs": [
    {
     "name": "stdout",
     "output_type": "stream",
     "text": [
      "Кол-во встреч с 5-ю участника 1583\n",
      "Всего встреч 53753\n",
      "Доля встреч с 5-ю участниками в общей доле встреч 2.94 %\n"
     ]
    }
   ],
   "source": [
    "print(\"Кол-во встреч с 5-ю участника\",orders_invoices[orders_invoices['Participants_num']== 5].count()['Converted'])\n",
    "print(\"Всего встреч\",orders_invoices[orders_invoices['Participants_num']>0].count()['Converted'])\n",
    "print(\"Доля встреч с 5-ю участниками в общей доле встреч\",round(orders_invoices[orders_invoices['Participants_num']== 5].count()['Converted']/orders_invoices[orders_invoices['Participants_num']>0].count()['Converted']*100,2),\"%\")"
   ]
  },
  {
   "cell_type": "markdown",
   "metadata": {
    "slideshow": {
     "slide_type": "subslide"
    }
   },
   "source": [
    "Ага, встречи с 5-ю участниками составляют менее 3% от общего числа встреч. <br>\n",
    "Исходя из этого будет достаточно сомнительным делать вывод опираясь на столью малую выборку. <br>\n",
    "\n",
    "Сформулируем тезис следующим образом: <br>\n",
    "Чем меньше участников на встрече - тем выше конверсия ( только в случае если вы не устраиваете вечеринку) \n",
    "    "
   ]
  },
  {
   "cell_type": "markdown",
   "metadata": {
    "slideshow": {
     "slide_type": "slide"
    }
   },
   "source": [
    "<div class=\"alert alert-block alert-success\">\n",
    "<b> 3.</b> Response rate (Скорость ответа на заказ)\n",
    "</div>"
   ]
  },
  {
   "cell_type": "markdown",
   "metadata": {
    "slideshow": {
     "slide_type": "subslide"
    }
   },
   "source": [
    "Далее, оценим как влияют ранние/поздние ответы на заказ"
   ]
  },
  {
   "cell_type": "code",
   "execution_count": 81,
   "metadata": {
    "slideshow": {
     "slide_type": "fragment"
    }
   },
   "outputs": [
    {
     "data": {
      "image/png": "[encoded data removed]",
      "text/plain": [
       "<Figure size 1224x432 with 1 Axes>"
      ]
     },
     "metadata": {},
     "output_type": "display_data"
    }
   ],
   "source": [
    "sns.barplot(y=\"Converted\", x=\"Response rate\", data= orders_invoices, orient = 'v')\n",
    "plt.title('Конверсия в зависимости от скорости реакции')\n",
    "plt.show()"
   ]
  },
  {
   "cell_type": "markdown",
   "metadata": {
    "slideshow": {
     "slide_type": "subslide"
    }
   },
   "source": [
    "Достаточно неоднозначно:\n",
    "* Встречи организованные до поступления заказа в систему имеют меньшую конверсию, нежели встречи организованные после. <br>\n",
    "Это можно трактовать как то, что встречи, организованные с целью предложить услугу имеют меньша шансов быть сконвертированы, нежели встречи, организованные с уже заинтересованным покупателем\n",
    "* Наибольшую конверсию встречи организованные в день заказа, либо на 3 и 4-ый день после осуществления заказа\n",
    "* После 5-го дня конвесия существенно падает"
   ]
  },
  {
   "cell_type": "markdown",
   "metadata": {
    "slideshow": {
     "slide_type": "fragment"
    }
   },
   "source": [
    "Исходя из этого: <br>\n",
    "Необходимо снизить кол-во ранних встреч и организовывать встречи не позднее 5-го дня, после поступления заказа в систему"
   ]
  },
  {
   "cell_type": "markdown",
   "metadata": {
    "slideshow": {
     "slide_type": "slide"
    }
   },
   "source": [
    "<div class=\"alert alert-block alert-success\">\n",
    "<b> 4.</b> Share of value (Доля стоимости обеда в стоимости заказа)\n",
    "</div>"
   ]
  },
  {
   "cell_type": "markdown",
   "metadata": {
    "slideshow": {
     "slide_type": "subslide"
    }
   },
   "source": [
    "Так же, интересным будет оценить какую долю в стоимости заказа, должна составлять стоимость обеда для максимизации конверсии"
   ]
  },
  {
   "cell_type": "markdown",
   "metadata": {
    "slideshow": {
     "slide_type": "subslide"
    }
   },
   "source": [
    "Избавимся от выбросов и аномальных значений, ограничив выборку 20%"
   ]
  },
  {
   "cell_type": "code",
   "execution_count": 82,
   "metadata": {
    "slideshow": {
     "slide_type": "fragment"
    }
   },
   "outputs": [],
   "source": [
    "df = orders_invoices[orders_invoices['Share of value'] < 20]"
   ]
  },
  {
   "cell_type": "markdown",
   "metadata": {
    "slideshow": {
     "slide_type": "subslide"
    }
   },
   "source": [
    "Теперь визуализируем данные"
   ]
  },
  {
   "cell_type": "code",
   "execution_count": 83,
   "metadata": {
    "slideshow": {
     "slide_type": "fragment"
    }
   },
   "outputs": [
    {
     "data": {
      "image/png": "[encoded data removed]",
      "text/plain": [
       "<Figure size 1224x432 with 1 Axes>"
      ]
     },
     "metadata": {},
     "output_type": "display_data"
    }
   ],
   "source": [
    "sns.barplot(y=\"Converted\", x=\"Share of value\", data= df, orient = 'v')\n",
    "plt.title('Конверсия в зависимости от стоимости обеда')\n",
    "plt.show()"
   ]
  },
  {
   "cell_type": "markdown",
   "metadata": {
    "slideshow": {
     "slide_type": "subslide"
    }
   },
   "source": [
    "Здесь же все достаточно просто:\n",
    "* Максимальный уровень конверсии достигается при доле в 9-10% от стоимости заказа. <br>\n",
    "* Допустимым является уровень в 6-8%. В таком случае конверсия меньше, но все еще превышает 20%\n",
    "\n",
    "Для полного ответа о наиболее оптимальной доле стоимости обеда в стоимости заказа немаловажным будет оценить рентабельность продуции. Вероятно 9-10% помогут увеличить конверсию, но вместе с тем такие затраты уведут сделку в убыток. "
   ]
  },
  {
   "cell_type": "markdown",
   "metadata": {
    "slideshow": {
     "slide_type": "slide"
    }
   },
   "source": [
    "<div class=\"alert alert-block alert-success\">\n",
    "<b> 5.</b> Company num (Кол-во компаний, с которыми взаимодействует торговый представитель)\n",
    "</div>"
   ]
  },
  {
   "cell_type": "markdown",
   "metadata": {
    "slideshow": {
     "slide_type": "subslide"
    }
   },
   "source": [
    "В самом начале, на этапе рассмотрения набора данных sales_team мы оценивали с каким кол-вом компаний взаимодействует торговый представитель. <br>\n",
    "По итогу удалось определить, что многие торговые представители работают сразу с несколькими компаниями.<br>\n",
    "Напомню:"
   ]
  },
  {
   "cell_type": "code",
   "execution_count": 84,
   "metadata": {
    "slideshow": {
     "slide_type": "subslide"
    }
   },
   "outputs": [
    {
     "data": {
      "text/html": [
       "<div>\n",
       "<style scoped>\n",
       "    .dataframe tbody tr th:only-of-type {\n",
       "        vertical-align: middle;\n",
       "    }\n",
       "\n",
       "    .dataframe tbody tr th {\n",
       "        vertical-align: top;\n",
       "    }\n",
       "\n",
       "    .dataframe thead th {\n",
       "        text-align: right;\n",
       "    }\n",
       "</style>\n",
       "<table border=\"1\" class=\"dataframe\">\n",
       "  <thead>\n",
       "    <tr style=\"text-align: right;\">\n",
       "      <th></th>\n",
       "      <th>Sales Rep</th>\n",
       "      <th>Company Name</th>\n",
       "    </tr>\n",
       "  </thead>\n",
       "  <tbody>\n",
       "    <tr>\n",
       "      <th>0</th>\n",
       "      <td>Aaron Hendrickson</td>\n",
       "      <td>13</td>\n",
       "    </tr>\n",
       "    <tr>\n",
       "      <th>1</th>\n",
       "      <td>Adam Sawyer</td>\n",
       "      <td>16</td>\n",
       "    </tr>\n",
       "    <tr>\n",
       "      <th>2</th>\n",
       "      <td>Adele Kimmel</td>\n",
       "      <td>5</td>\n",
       "    </tr>\n",
       "    <tr>\n",
       "      <th>3</th>\n",
       "      <td>Adrian Daugherty</td>\n",
       "      <td>18</td>\n",
       "    </tr>\n",
       "    <tr>\n",
       "      <th>4</th>\n",
       "      <td>Adrianna Shelton</td>\n",
       "      <td>2</td>\n",
       "    </tr>\n",
       "  </tbody>\n",
       "</table>\n",
       "</div>"
      ],
      "text/plain": [
       "           Sales Rep  Company Name\n",
       "0  Aaron Hendrickson            13\n",
       "1        Adam Sawyer            16\n",
       "2       Adele Kimmel             5\n",
       "3   Adrian Daugherty            18\n",
       "4   Adrianna Shelton             2"
      ]
     },
     "execution_count": 84,
     "metadata": {},
     "output_type": "execute_result"
    }
   ],
   "source": [
    "sales_team_agg.head()"
   ]
  },
  {
   "cell_type": "code",
   "execution_count": 85,
   "metadata": {
    "slideshow": {
     "slide_type": "subslide"
    }
   },
   "outputs": [
    {
     "data": {
      "image/png": "[encoded data removed]",
      "text/plain": [
       "<Figure size 1224x432 with 1 Axes>"
      ]
     },
     "metadata": {},
     "output_type": "display_data"
    }
   ],
   "source": [
    "sales_team_agg.hist()\n",
    "plt.plot(x, z,linewidth = 5, color = 'r')\n",
    "plt.plot(y, z,linewidth = 5, color = 'r')\n",
    "plt.show()"
   ]
  },
  {
   "cell_type": "markdown",
   "metadata": {
    "slideshow": {
     "slide_type": "slide"
    }
   },
   "source": [
    "Теперь же интересно было бы оценить как кол-во компаний, с которыми взаимодействует торговый представитель влияют на конверсию сделки"
   ]
  },
  {
   "cell_type": "markdown",
   "metadata": {
    "slideshow": {
     "slide_type": "subslide"
    }
   },
   "source": [
    "Для начала необходмимо объеденить наборы данных sales_team и order_leads для того , чтоб связать кол-во компаний с показателем конверсии. <br>\n",
    "Здесь, в отличие от предыдущего объединения все намного проще, т.к анализировать будем среднее значение конверсии по нашим торговым представителям. <br>\n",
    "Фактор дублирования по мат.признакам не играет роли"
   ]
  },
  {
   "cell_type": "code",
   "execution_count": 86,
   "metadata": {
    "slideshow": {
     "slide_type": "fragment"
    }
   },
   "outputs": [],
   "source": [
    "team_orders = pd.merge(sales_team,order_leads,on=['Company Id','Company Name'])"
   ]
  },
  {
   "cell_type": "code",
   "execution_count": 87,
   "metadata": {
    "slideshow": {
     "slide_type": "fragment"
    }
   },
   "outputs": [
    {
     "data": {
      "text/html": [
       "<div>\n",
       "<style scoped>\n",
       "    .dataframe tbody tr th:only-of-type {\n",
       "        vertical-align: middle;\n",
       "    }\n",
       "\n",
       "    .dataframe tbody tr th {\n",
       "        vertical-align: top;\n",
       "    }\n",
       "\n",
       "    .dataframe thead th {\n",
       "        text-align: right;\n",
       "    }\n",
       "</style>\n",
       "<table border=\"1\" class=\"dataframe\">\n",
       "  <thead>\n",
       "    <tr style=\"text-align: right;\">\n",
       "      <th></th>\n",
       "      <th>Sales Rep</th>\n",
       "      <th>Sales Rep Id</th>\n",
       "      <th>Company Name</th>\n",
       "      <th>Company Id</th>\n",
       "      <th>Order Id</th>\n",
       "      <th>Date</th>\n",
       "      <th>Order Value</th>\n",
       "      <th>Converted</th>\n",
       "    </tr>\n",
       "  </thead>\n",
       "  <tbody>\n",
       "    <tr>\n",
       "      <th>0</th>\n",
       "      <td>William Taylor</td>\n",
       "      <td>ZTZA0ZLYZR85PTUJ</td>\n",
       "      <td>Melancholy Social-Role</td>\n",
       "      <td>D0AUXPP07H6AVSGD</td>\n",
       "      <td>HZSXLI1IS9RGABZW</td>\n",
       "      <td>2017-10-13</td>\n",
       "      <td>6952</td>\n",
       "      <td>0</td>\n",
       "    </tr>\n",
       "    <tr>\n",
       "      <th>1</th>\n",
       "      <td>William Taylor</td>\n",
       "      <td>ZTZA0ZLYZR85PTUJ</td>\n",
       "      <td>Melancholy Social-Role</td>\n",
       "      <td>D0AUXPP07H6AVSGD</td>\n",
       "      <td>582WPS3OW8T6YT0R</td>\n",
       "      <td>2017-09-02</td>\n",
       "      <td>7930</td>\n",
       "      <td>0</td>\n",
       "    </tr>\n",
       "  </tbody>\n",
       "</table>\n",
       "</div>"
      ],
      "text/plain": [
       "        Sales Rep      Sales Rep Id            Company Name        Company Id  \\\n",
       "0  William Taylor  ZTZA0ZLYZR85PTUJ  Melancholy Social-Role  D0AUXPP07H6AVSGD   \n",
       "1  William Taylor  ZTZA0ZLYZR85PTUJ  Melancholy Social-Role  D0AUXPP07H6AVSGD   \n",
       "\n",
       "           Order Id        Date  Order Value  Converted  \n",
       "0  HZSXLI1IS9RGABZW  2017-10-13         6952          0  \n",
       "1  582WPS3OW8T6YT0R  2017-09-02         7930          0  "
      ]
     },
     "execution_count": 87,
     "metadata": {},
     "output_type": "execute_result"
    }
   ],
   "source": [
    "team_orders.head(2)"
   ]
  },
  {
   "cell_type": "markdown",
   "metadata": {
    "slideshow": {
     "slide_type": "slide"
    }
   },
   "source": [
    "Для начала оценим распределение конверсии по торговым представителям, возможно удасться выявить неоднознаную закономерность"
   ]
  },
  {
   "cell_type": "code",
   "execution_count": 88,
   "metadata": {
    "slideshow": {
     "slide_type": "subslide"
    }
   },
   "outputs": [
    {
     "data": {
      "image/png": "[encoded data removed]",
      "text/plain": [
       "<Figure size 1224x432 with 1 Axes>"
      ]
     },
     "metadata": {},
     "output_type": "display_data"
    }
   ],
   "source": [
    "team_orders.groupby('Sales Rep').mean()['Converted'].hist()\n",
    "plt.show()"
   ]
  },
  {
   "cell_type": "markdown",
   "metadata": {
    "slideshow": {
     "slide_type": "fragment"
    }
   },
   "source": [
    "По итогу наблюдаем нормальное распределение с небольшим эксцессом влево.<br> Наибольшее число торговых представителей работают с конверсией от 15 до 17.5%. <br>\n"
   ]
  },
  {
   "cell_type": "markdown",
   "metadata": {
    "slideshow": {
     "slide_type": "slide"
    }
   },
   "source": [
    "Но кое что интересное мы здесь можем увидеть: <br>\n",
    "Проаналировав ряд признаков выше, мы определи что при соблюдении определенных правил средний коэффицент конверсии в 20% более чем достижим. В данном же случае мы выдим что преобладающее большинство менеджеров его не достигают. <br>\n",
    "Попробуем определить что в работе самих менеджеров позволит увеличить эффективность"
   ]
  },
  {
   "cell_type": "markdown",
   "metadata": {
    "slideshow": {
     "slide_type": "subslide"
    }
   },
   "source": [
    "Для начала осуществим группировку по торговым представителям"
   ]
  },
  {
   "cell_type": "code",
   "execution_count": 89,
   "metadata": {
    "slideshow": {
     "slide_type": "fragment"
    }
   },
   "outputs": [],
   "source": [
    "Company_num_convertion = team_orders.groupby(\"Sales Rep\").agg({\n",
    "    \"Company Name\": pd.Series.nunique,\n",
    "    \"Converted\": np.mean}).reset_index()"
   ]
  },
  {
   "cell_type": "markdown",
   "metadata": {
    "slideshow": {
     "slide_type": "fragment"
    }
   },
   "source": [
    "И переименуем столбец, дабы он не вводил в заблуждение"
   ]
  },
  {
   "cell_type": "code",
   "execution_count": 90,
   "metadata": {
    "slideshow": {
     "slide_type": "fragment"
    }
   },
   "outputs": [],
   "source": [
    "Company_num_convertion.rename(columns={'Company Name': 'Company_num'}, inplace=True)"
   ]
  },
  {
   "cell_type": "code",
   "execution_count": 91,
   "metadata": {
    "slideshow": {
     "slide_type": "fragment"
    }
   },
   "outputs": [
    {
     "data": {
      "text/html": [
       "<div>\n",
       "<style scoped>\n",
       "    .dataframe tbody tr th:only-of-type {\n",
       "        vertical-align: middle;\n",
       "    }\n",
       "\n",
       "    .dataframe tbody tr th {\n",
       "        vertical-align: top;\n",
       "    }\n",
       "\n",
       "    .dataframe thead th {\n",
       "        text-align: right;\n",
       "    }\n",
       "</style>\n",
       "<table border=\"1\" class=\"dataframe\">\n",
       "  <thead>\n",
       "    <tr style=\"text-align: right;\">\n",
       "      <th></th>\n",
       "      <th>Sales Rep</th>\n",
       "      <th>Company_num</th>\n",
       "      <th>Converted</th>\n",
       "    </tr>\n",
       "  </thead>\n",
       "  <tbody>\n",
       "    <tr>\n",
       "      <th>0</th>\n",
       "      <td>Aaron Hendrickson</td>\n",
       "      <td>13</td>\n",
       "      <td>0.157534</td>\n",
       "    </tr>\n",
       "    <tr>\n",
       "      <th>1</th>\n",
       "      <td>Adam Sawyer</td>\n",
       "      <td>16</td>\n",
       "      <td>0.148148</td>\n",
       "    </tr>\n",
       "    <tr>\n",
       "      <th>2</th>\n",
       "      <td>Adele Kimmel</td>\n",
       "      <td>5</td>\n",
       "      <td>0.173913</td>\n",
       "    </tr>\n",
       "    <tr>\n",
       "      <th>3</th>\n",
       "      <td>Adrian Daugherty</td>\n",
       "      <td>18</td>\n",
       "      <td>0.138211</td>\n",
       "    </tr>\n",
       "    <tr>\n",
       "      <th>4</th>\n",
       "      <td>Adrianna Shelton</td>\n",
       "      <td>2</td>\n",
       "      <td>0.216216</td>\n",
       "    </tr>\n",
       "  </tbody>\n",
       "</table>\n",
       "</div>"
      ],
      "text/plain": [
       "           Sales Rep  Company_num  Converted\n",
       "0  Aaron Hendrickson           13   0.157534\n",
       "1        Adam Sawyer           16   0.148148\n",
       "2       Adele Kimmel            5   0.173913\n",
       "3   Adrian Daugherty           18   0.138211\n",
       "4   Adrianna Shelton            2   0.216216"
      ]
     },
     "execution_count": 91,
     "metadata": {},
     "output_type": "execute_result"
    }
   ],
   "source": [
    "Company_num_convertion.head(5)"
   ]
  },
  {
   "cell_type": "markdown",
   "metadata": {
    "slideshow": {
     "slide_type": "slide"
    }
   },
   "source": [
    "Далее, нам необходимо понять при каком кол-ве компаний конверсия наибольшая<br> \n",
    "НО немаловажным будет определить не максимальное достижимое значение конверсии, а максимально частое достижимое наибольшей конверсии <br>\n",
    "Т.е случаи когда <br>\n",
    "100 из 150 торговых представителей в среднем работают с конверсией в 20% нас интересует больше нежели <br>\n",
    " 20 из 150, работающих с конверсией в 25% а оставшиеся с конверсией в 10%\n"
   ]
  },
  {
   "cell_type": "markdown",
   "metadata": {
    "slideshow": {
     "slide_type": "subslide"
    }
   },
   "source": [
    "Потому добавим в набор данных еще показатель среднеквадратичного отклонения. <br> Для этого необходимо немного видоизменить набор данных"
   ]
  },
  {
   "cell_type": "code",
   "execution_count": 92,
   "metadata": {
    "slideshow": {
     "slide_type": "fragment"
    }
   },
   "outputs": [],
   "source": [
    "df_= Company_num_convertion.groupby(['Company_num']).Converted.agg({'std', 'mean'}).reset_index()"
   ]
  },
  {
   "cell_type": "code",
   "execution_count": 106,
   "metadata": {
    "slideshow": {
     "slide_type": "fragment"
    }
   },
   "outputs": [
    {
     "data": {
      "text/html": [
       "<div>\n",
       "<style scoped>\n",
       "    .dataframe tbody tr th:only-of-type {\n",
       "        vertical-align: middle;\n",
       "    }\n",
       "\n",
       "    .dataframe tbody tr th {\n",
       "        vertical-align: top;\n",
       "    }\n",
       "\n",
       "    .dataframe thead th {\n",
       "        text-align: right;\n",
       "    }\n",
       "</style>\n",
       "<table border=\"1\" class=\"dataframe\">\n",
       "  <thead>\n",
       "    <tr style=\"text-align: right;\">\n",
       "      <th></th>\n",
       "      <th>Company_num</th>\n",
       "      <th>mean</th>\n",
       "      <th>std</th>\n",
       "    </tr>\n",
       "  </thead>\n",
       "  <tbody>\n",
       "    <tr>\n",
       "      <th>0</th>\n",
       "      <td>1</td>\n",
       "      <td>0.191610</td>\n",
       "      <td>0.081873</td>\n",
       "    </tr>\n",
       "    <tr>\n",
       "      <th>1</th>\n",
       "      <td>2</td>\n",
       "      <td>0.210302</td>\n",
       "      <td>0.056405</td>\n",
       "    </tr>\n",
       "    <tr>\n",
       "      <th>2</th>\n",
       "      <td>3</td>\n",
       "      <td>0.196716</td>\n",
       "      <td>0.065544</td>\n",
       "    </tr>\n",
       "    <tr>\n",
       "      <th>3</th>\n",
       "      <td>4</td>\n",
       "      <td>0.202562</td>\n",
       "      <td>0.034171</td>\n",
       "    </tr>\n",
       "    <tr>\n",
       "      <th>4</th>\n",
       "      <td>5</td>\n",
       "      <td>0.194920</td>\n",
       "      <td>0.042252</td>\n",
       "    </tr>\n",
       "    <tr>\n",
       "      <th>5</th>\n",
       "      <td>6</td>\n",
       "      <td>0.191427</td>\n",
       "      <td>0.040364</td>\n",
       "    </tr>\n",
       "    <tr>\n",
       "      <th>6</th>\n",
       "      <td>7</td>\n",
       "      <td>0.195505</td>\n",
       "      <td>0.032706</td>\n",
       "    </tr>\n",
       "    <tr>\n",
       "      <th>7</th>\n",
       "      <td>8</td>\n",
       "      <td>0.195512</td>\n",
       "      <td>0.026234</td>\n",
       "    </tr>\n",
       "    <tr>\n",
       "      <th>8</th>\n",
       "      <td>9</td>\n",
       "      <td>0.191260</td>\n",
       "      <td>0.029156</td>\n",
       "    </tr>\n",
       "    <tr>\n",
       "      <th>9</th>\n",
       "      <td>10</td>\n",
       "      <td>0.179160</td>\n",
       "      <td>0.022579</td>\n",
       "    </tr>\n",
       "    <tr>\n",
       "      <th>10</th>\n",
       "      <td>11</td>\n",
       "      <td>0.172445</td>\n",
       "      <td>0.028843</td>\n",
       "    </tr>\n",
       "    <tr>\n",
       "      <th>11</th>\n",
       "      <td>12</td>\n",
       "      <td>0.171645</td>\n",
       "      <td>0.021837</td>\n",
       "    </tr>\n",
       "    <tr>\n",
       "      <th>12</th>\n",
       "      <td>13</td>\n",
       "      <td>0.170961</td>\n",
       "      <td>0.021042</td>\n",
       "    </tr>\n",
       "    <tr>\n",
       "      <th>13</th>\n",
       "      <td>14</td>\n",
       "      <td>0.158220</td>\n",
       "      <td>0.016452</td>\n",
       "    </tr>\n",
       "    <tr>\n",
       "      <th>14</th>\n",
       "      <td>15</td>\n",
       "      <td>0.158345</td>\n",
       "      <td>0.018302</td>\n",
       "    </tr>\n",
       "  </tbody>\n",
       "</table>\n",
       "</div>"
      ],
      "text/plain": [
       "    Company_num      mean       std\n",
       "0             1  0.191610  0.081873\n",
       "1             2  0.210302  0.056405\n",
       "2             3  0.196716  0.065544\n",
       "3             4  0.202562  0.034171\n",
       "4             5  0.194920  0.042252\n",
       "5             6  0.191427  0.040364\n",
       "6             7  0.195505  0.032706\n",
       "7             8  0.195512  0.026234\n",
       "8             9  0.191260  0.029156\n",
       "9            10  0.179160  0.022579\n",
       "10           11  0.172445  0.028843\n",
       "11           12  0.171645  0.021837\n",
       "12           13  0.170961  0.021042\n",
       "13           14  0.158220  0.016452\n",
       "14           15  0.158345  0.018302"
      ]
     },
     "execution_count": 106,
     "metadata": {},
     "output_type": "execute_result"
    }
   ],
   "source": [
    "df_.head(15)"
   ]
  },
  {
   "cell_type": "code",
   "execution_count": 107,
   "metadata": {
    "slideshow": {
     "slide_type": "subslide"
    }
   },
   "outputs": [
    {
     "data": {
      "text/html": [
       "<div>\n",
       "<style scoped>\n",
       "    .dataframe tbody tr th:only-of-type {\n",
       "        vertical-align: middle;\n",
       "    }\n",
       "\n",
       "    .dataframe tbody tr th {\n",
       "        vertical-align: top;\n",
       "    }\n",
       "\n",
       "    .dataframe thead th {\n",
       "        text-align: right;\n",
       "    }\n",
       "</style>\n",
       "<table border=\"1\" class=\"dataframe\">\n",
       "  <thead>\n",
       "    <tr style=\"text-align: right;\">\n",
       "      <th></th>\n",
       "      <th>Company_num</th>\n",
       "      <th>mean</th>\n",
       "      <th>std</th>\n",
       "    </tr>\n",
       "  </thead>\n",
       "  <tbody>\n",
       "    <tr>\n",
       "      <th>0</th>\n",
       "      <td>1</td>\n",
       "      <td>0.191610</td>\n",
       "      <td>0.081873</td>\n",
       "    </tr>\n",
       "    <tr>\n",
       "      <th>1</th>\n",
       "      <td>2</td>\n",
       "      <td>0.210302</td>\n",
       "      <td>0.056405</td>\n",
       "    </tr>\n",
       "    <tr>\n",
       "      <th>2</th>\n",
       "      <td>3</td>\n",
       "      <td>0.196716</td>\n",
       "      <td>0.065544</td>\n",
       "    </tr>\n",
       "    <tr>\n",
       "      <th>3</th>\n",
       "      <td>4</td>\n",
       "      <td>0.202562</td>\n",
       "      <td>0.034171</td>\n",
       "    </tr>\n",
       "    <tr>\n",
       "      <th>4</th>\n",
       "      <td>5</td>\n",
       "      <td>0.194920</td>\n",
       "      <td>0.042252</td>\n",
       "    </tr>\n",
       "    <tr>\n",
       "      <th>5</th>\n",
       "      <td>6</td>\n",
       "      <td>0.191427</td>\n",
       "      <td>0.040364</td>\n",
       "    </tr>\n",
       "    <tr>\n",
       "      <th>6</th>\n",
       "      <td>7</td>\n",
       "      <td>0.195505</td>\n",
       "      <td>0.032706</td>\n",
       "    </tr>\n",
       "    <tr>\n",
       "      <th>7</th>\n",
       "      <td>8</td>\n",
       "      <td>0.195512</td>\n",
       "      <td>0.026234</td>\n",
       "    </tr>\n",
       "    <tr>\n",
       "      <th>8</th>\n",
       "      <td>9</td>\n",
       "      <td>0.191260</td>\n",
       "      <td>0.029156</td>\n",
       "    </tr>\n",
       "    <tr>\n",
       "      <th>9</th>\n",
       "      <td>10</td>\n",
       "      <td>0.179160</td>\n",
       "      <td>0.022579</td>\n",
       "    </tr>\n",
       "  </tbody>\n",
       "</table>\n",
       "</div>"
      ],
      "text/plain": [
       "   Company_num      mean       std\n",
       "0            1  0.191610  0.081873\n",
       "1            2  0.210302  0.056405\n",
       "2            3  0.196716  0.065544\n",
       "3            4  0.202562  0.034171\n",
       "4            5  0.194920  0.042252\n",
       "5            6  0.191427  0.040364\n",
       "6            7  0.195505  0.032706\n",
       "7            8  0.195512  0.026234\n",
       "8            9  0.191260  0.029156\n",
       "9           10  0.179160  0.022579"
      ]
     },
     "execution_count": 107,
     "metadata": {},
     "output_type": "execute_result"
    }
   ],
   "source": [
    "df_.head(10)"
   ]
  },
  {
   "cell_type": "markdown",
   "metadata": {
    "slideshow": {
     "slide_type": "fragment"
    }
   },
   "source": [
    "Разберем детальней: Наибольшая конверсия (в среднем) достигается при взаимодействии с 4-мя компаниями (20.2%), но при этом отклонение составляет  0.034. Т.е это тот случай когда данные распределены в обе стороны и при работе с 4-мя компания может достигаться как высокая конверсия в 20% так и предельно низкая.<br> Иными словами это тот случай когда 130 из 150 торговых представителей могут работать с конверсией в 10%"
   ]
  },
  {
   "cell_type": "markdown",
   "metadata": {
    "slideshow": {
     "slide_type": "subslide"
    }
   },
   "source": [
    "Попробуем определить число компаний с меньшим отклонением"
   ]
  },
  {
   "cell_type": "code",
   "execution_count": 108,
   "metadata": {
    "scrolled": true,
    "slideshow": {
     "slide_type": "subslide"
    }
   },
   "outputs": [
    {
     "data": {
      "text/html": [
       "<div>\n",
       "<style scoped>\n",
       "    .dataframe tbody tr th:only-of-type {\n",
       "        vertical-align: middle;\n",
       "    }\n",
       "\n",
       "    .dataframe tbody tr th {\n",
       "        vertical-align: top;\n",
       "    }\n",
       "\n",
       "    .dataframe thead th {\n",
       "        text-align: right;\n",
       "    }\n",
       "</style>\n",
       "<table border=\"1\" class=\"dataframe\">\n",
       "  <thead>\n",
       "    <tr style=\"text-align: right;\">\n",
       "      <th></th>\n",
       "      <th>Company_num</th>\n",
       "      <th>mean</th>\n",
       "      <th>std</th>\n",
       "    </tr>\n",
       "  </thead>\n",
       "  <tbody>\n",
       "    <tr>\n",
       "      <th>0</th>\n",
       "      <td>1</td>\n",
       "      <td>0.191610</td>\n",
       "      <td>0.081873</td>\n",
       "    </tr>\n",
       "    <tr>\n",
       "      <th>1</th>\n",
       "      <td>2</td>\n",
       "      <td>0.210302</td>\n",
       "      <td>0.056405</td>\n",
       "    </tr>\n",
       "    <tr>\n",
       "      <th>2</th>\n",
       "      <td>3</td>\n",
       "      <td>0.196716</td>\n",
       "      <td>0.065544</td>\n",
       "    </tr>\n",
       "    <tr>\n",
       "      <th>3</th>\n",
       "      <td>4</td>\n",
       "      <td>0.202562</td>\n",
       "      <td>0.034171</td>\n",
       "    </tr>\n",
       "    <tr>\n",
       "      <th>4</th>\n",
       "      <td>5</td>\n",
       "      <td>0.194920</td>\n",
       "      <td>0.042252</td>\n",
       "    </tr>\n",
       "    <tr>\n",
       "      <th>5</th>\n",
       "      <td>6</td>\n",
       "      <td>0.191427</td>\n",
       "      <td>0.040364</td>\n",
       "    </tr>\n",
       "    <tr>\n",
       "      <th>6</th>\n",
       "      <td>7</td>\n",
       "      <td>0.195505</td>\n",
       "      <td>0.032706</td>\n",
       "    </tr>\n",
       "    <tr>\n",
       "      <th>7</th>\n",
       "      <td>8</td>\n",
       "      <td>0.195512</td>\n",
       "      <td>0.026234</td>\n",
       "    </tr>\n",
       "    <tr>\n",
       "      <th>8</th>\n",
       "      <td>9</td>\n",
       "      <td>0.191260</td>\n",
       "      <td>0.029156</td>\n",
       "    </tr>\n",
       "    <tr>\n",
       "      <th>9</th>\n",
       "      <td>10</td>\n",
       "      <td>0.179160</td>\n",
       "      <td>0.022579</td>\n",
       "    </tr>\n",
       "    <tr>\n",
       "      <th>10</th>\n",
       "      <td>11</td>\n",
       "      <td>0.172445</td>\n",
       "      <td>0.028843</td>\n",
       "    </tr>\n",
       "    <tr>\n",
       "      <th>11</th>\n",
       "      <td>12</td>\n",
       "      <td>0.171645</td>\n",
       "      <td>0.021837</td>\n",
       "    </tr>\n",
       "    <tr>\n",
       "      <th>12</th>\n",
       "      <td>13</td>\n",
       "      <td>0.170961</td>\n",
       "      <td>0.021042</td>\n",
       "    </tr>\n",
       "    <tr>\n",
       "      <th>13</th>\n",
       "      <td>14</td>\n",
       "      <td>0.158220</td>\n",
       "      <td>0.016452</td>\n",
       "    </tr>\n",
       "    <tr>\n",
       "      <th>14</th>\n",
       "      <td>15</td>\n",
       "      <td>0.158345</td>\n",
       "      <td>0.018302</td>\n",
       "    </tr>\n",
       "    <tr>\n",
       "      <th>15</th>\n",
       "      <td>16</td>\n",
       "      <td>0.152542</td>\n",
       "      <td>0.015175</td>\n",
       "    </tr>\n",
       "    <tr>\n",
       "      <th>16</th>\n",
       "      <td>17</td>\n",
       "      <td>0.151746</td>\n",
       "      <td>0.021738</td>\n",
       "    </tr>\n",
       "    <tr>\n",
       "      <th>17</th>\n",
       "      <td>18</td>\n",
       "      <td>0.145088</td>\n",
       "      <td>0.018479</td>\n",
       "    </tr>\n",
       "  </tbody>\n",
       "</table>\n",
       "</div>"
      ],
      "text/plain": [
       "    Company_num      mean       std\n",
       "0             1  0.191610  0.081873\n",
       "1             2  0.210302  0.056405\n",
       "2             3  0.196716  0.065544\n",
       "3             4  0.202562  0.034171\n",
       "4             5  0.194920  0.042252\n",
       "5             6  0.191427  0.040364\n",
       "6             7  0.195505  0.032706\n",
       "7             8  0.195512  0.026234\n",
       "8             9  0.191260  0.029156\n",
       "9            10  0.179160  0.022579\n",
       "10           11  0.172445  0.028843\n",
       "11           12  0.171645  0.021837\n",
       "12           13  0.170961  0.021042\n",
       "13           14  0.158220  0.016452\n",
       "14           15  0.158345  0.018302\n",
       "15           16  0.152542  0.015175\n",
       "16           17  0.151746  0.021738\n",
       "17           18  0.145088  0.018479"
      ]
     },
     "execution_count": 108,
     "metadata": {},
     "output_type": "execute_result"
    }
   ],
   "source": [
    "df_"
   ]
  },
  {
   "cell_type": "markdown",
   "metadata": {
    "slideshow": {
     "slide_type": "fragment"
    }
   },
   "source": [
    "Можно увидеть, что наименьший \"разброс\" (среднеквадратичное отклонение) у торговых представителей работающих с 16 компаниями. <br> Но при этом средний показатель конверсии составляет 15%. Неплохая диверсификация рисков, но попробуем найти золотую середину"
   ]
  },
  {
   "cell_type": "markdown",
   "metadata": {
    "slideshow": {
     "slide_type": "slide"
    }
   },
   "source": [
    "И в данном случае \"золотой серединой\" является число компаний 8 и 9."
   ]
  },
  {
   "cell_type": "code",
   "execution_count": 98,
   "metadata": {
    "slideshow": {
     "slide_type": "fragment"
    }
   },
   "outputs": [
    {
     "data": {
      "text/html": [
       "<div>\n",
       "<style scoped>\n",
       "    .dataframe tbody tr th:only-of-type {\n",
       "        vertical-align: middle;\n",
       "    }\n",
       "\n",
       "    .dataframe tbody tr th {\n",
       "        vertical-align: top;\n",
       "    }\n",
       "\n",
       "    .dataframe thead th {\n",
       "        text-align: right;\n",
       "    }\n",
       "</style>\n",
       "<table border=\"1\" class=\"dataframe\">\n",
       "  <thead>\n",
       "    <tr style=\"text-align: right;\">\n",
       "      <th></th>\n",
       "      <th>Company_num</th>\n",
       "      <th>mean</th>\n",
       "      <th>std</th>\n",
       "    </tr>\n",
       "  </thead>\n",
       "  <tbody>\n",
       "    <tr>\n",
       "      <th>5</th>\n",
       "      <td>6</td>\n",
       "      <td>0.191427</td>\n",
       "      <td>0.040364</td>\n",
       "    </tr>\n",
       "    <tr>\n",
       "      <th>6</th>\n",
       "      <td>7</td>\n",
       "      <td>0.195505</td>\n",
       "      <td>0.032706</td>\n",
       "    </tr>\n",
       "    <tr>\n",
       "      <th>7</th>\n",
       "      <td>8</td>\n",
       "      <td>0.195512</td>\n",
       "      <td>0.026234</td>\n",
       "    </tr>\n",
       "    <tr>\n",
       "      <th>8</th>\n",
       "      <td>9</td>\n",
       "      <td>0.191260</td>\n",
       "      <td>0.029156</td>\n",
       "    </tr>\n",
       "    <tr>\n",
       "      <th>9</th>\n",
       "      <td>10</td>\n",
       "      <td>0.179160</td>\n",
       "      <td>0.022579</td>\n",
       "    </tr>\n",
       "    <tr>\n",
       "      <th>10</th>\n",
       "      <td>11</td>\n",
       "      <td>0.172445</td>\n",
       "      <td>0.028843</td>\n",
       "    </tr>\n",
       "    <tr>\n",
       "      <th>11</th>\n",
       "      <td>12</td>\n",
       "      <td>0.171645</td>\n",
       "      <td>0.021837</td>\n",
       "    </tr>\n",
       "  </tbody>\n",
       "</table>\n",
       "</div>"
      ],
      "text/plain": [
       "    Company_num      mean       std\n",
       "5             6  0.191427  0.040364\n",
       "6             7  0.195505  0.032706\n",
       "7             8  0.195512  0.026234\n",
       "8             9  0.191260  0.029156\n",
       "9            10  0.179160  0.022579\n",
       "10           11  0.172445  0.028843\n",
       "11           12  0.171645  0.021837"
      ]
     },
     "execution_count": 98,
     "metadata": {},
     "output_type": "execute_result"
    }
   ],
   "source": [
    "df_[5:12]"
   ]
  },
  {
   "cell_type": "markdown",
   "metadata": {
    "slideshow": {
     "slide_type": "fragment"
    }
   },
   "source": [
    "У торговых представителей работающих с данным числом компаний лучшее соотношение средней конверсии и \"разброса\".\n",
    "* После 7 конверсия незначительно снижается но существенно падает значение \"разброса\"\n",
    "* После 9 конвесия падает существенно"
   ]
  },
  {
   "cell_type": "markdown",
   "metadata": {
    "slideshow": {
     "slide_type": "slide"
    }
   },
   "source": [
    "Закрепим данный вывод, рассмотрев визуализацию данных"
   ]
  },
  {
   "cell_type": "code",
   "execution_count": 105,
   "metadata": {
    "slideshow": {
     "slide_type": "subslide"
    }
   },
   "outputs": [
    {
     "data": {
      "image/png": "[encoded data removed]",
      "text/plain": [
       "<Figure size 1224x648 with 1 Axes>"
      ]
     },
     "metadata": {},
     "output_type": "display_data"
    }
   ],
   "source": [
    "sns.boxplot(x= Com_num, y=Con_rate,data=Company_num_convertion)\n",
    "plt.xlabel('Кол-во компаний')\n",
    "plt.ylabel('Конверсия')\n",
    "plt.title('Корреляционная зависимость конверсии от кол-ва компаний')\n",
    "plt.xticks(np.arange(0, 20, step=1))\n",
    "plt.grid(True)\n",
    "plt.show()"
   ]
  },
  {
   "cell_type": "markdown",
   "metadata": {
    "slideshow": {
     "slide_type": "subslide"
    }
   },
   "source": [
    "На графике можно найти подтверждение сформлированным выводам:\n",
    "* По мере увеличения числа аккаунтов ширина боксплота уменьшается, т.е уменьшается и тот самый разброс по возможному проценту конверсии.\n",
    "Так в случае с 3-мя аккаунтами возможна конверсия как и почти 25% так и менее 15%п при среднем значении в 19% и это все еще не учитывая выбросы.\n",
    "* По мере увеличения числа аккаунтов можно наблюдать как боксплот приобретает все более \"сплюснутый\" вид, но при это и значение средней конверсии падает.\n",
    "\n",
    "Выгоднее всего смотритя число в 8 и 9 акканутов. Данное число имеет достаточно низкий разброс при высоком уровне конверсии.\n",
    "При увеличении числа аккаунтов конверсия резко падает, а при снижении сущесвтенно возрастает размах\n",
    "    "
   ]
  },
  {
   "cell_type": "markdown",
   "metadata": {
    "slideshow": {
     "slide_type": "skip"
    }
   },
   "source": [
    "По мере увеличения числа аккаунтов \"пик\" графика заостряется, что означает, что торговый представитель работает в более узком \"размахе \" конверсии. <br>\n",
    "Но при этом немаловажно наблюдать и за смещением пика относительно центра графика ( показатель конверсии в 20%). <br>\n",
    "Чем больше график смещен от центра , тем ниже средний показатель конверсии.<br>\n",
    "Потому в данном случае нам наиболее интересен вытянутый график, большая часть которого находится правее центра"
   ]
  },
  {
   "cell_type": "markdown",
   "metadata": {
    "slideshow": {
     "slide_type": "skip"
    }
   },
   "source": [
    "Попробуем представить визуализацию в другом виде"
   ]
  },
  {
   "cell_type": "code",
   "execution_count": 100,
   "metadata": {
    "slideshow": {
     "slide_type": "skip"
    }
   },
   "outputs": [],
   "source": [
    "Com_num = Company_num_convertion['Company_num']\n",
    "Con_rate = Company_num_convertion['Converted']\n"
   ]
  },
  {
   "cell_type": "code",
   "execution_count": 101,
   "metadata": {
    "slideshow": {
     "slide_type": "skip"
    }
   },
   "outputs": [],
   "source": [
    "sns.set(rc = {'figure.figsize':(17,9)})\n",
    "sns.set_style(\"whitegrid\")"
   ]
  },
  {
   "cell_type": "code",
   "execution_count": 103,
   "metadata": {
    "slideshow": {
     "slide_type": "skip"
    }
   },
   "outputs": [
    {
     "data": {
      "image/png": "[encoded data removed]",
      "text/plain": [
       "<Figure size 1224x648 with 1 Axes>"
      ]
     },
     "metadata": {},
     "output_type": "display_data"
    }
   ],
   "source": [
    "sns.regplot(x= Com_num, y=Con_rate,data=Company_num_convertion, fit_reg=True)\n",
    "plt.xlabel('Кол-во компаний')\n",
    "plt.ylabel('Конверсия')\n",
    "plt.title('Корреляционная зависимость конверсии от кол-ва компаний')\n",
    "plt.xticks(np.arange(0, 20, step=1))\n",
    "plt.grid(True)\n",
    "plt.show()"
   ]
  },
  {
   "cell_type": "markdown",
   "metadata": {
    "slideshow": {
     "slide_type": "skip"
    }
   },
   "source": [
    "На данном графике каждая точка обозначает каждую сделку.<br>\n",
    "И тут уже можно наблюдать что при малом числе аккаунтов точки распределены от конверсии в 5% до 35%, при том лишь малая их часть составляет 20% <br>\n",
    "По мере увеличения числа компаний мы наблюдаем что точки все чаще располагаются ближе к центру т.е снижается разброс показателя конверсия. <br>\n",
    "И так же, отчетливо видно, что при 8-9-ти компания большинство точек ( случаев) находятся выше линии регрессии, имея достаочно малый размах."
   ]
  },
  {
   "cell_type": "markdown",
   "metadata": {
    "slideshow": {
     "slide_type": "slide"
    }
   },
   "source": [
    "<div class=\"alert alert-block alert-success\">\n",
    "\n",
    "### Подведем итоги\n",
    "\n",
    "<div>"
   ]
  },
  {
   "cell_type": "markdown",
   "metadata": {
    "slideshow": {
     "slide_type": "subslide"
    }
   },
   "source": [
    "Проанализировав представленные данные удалось сформировать ряд правил, которые позволят повысить уровень конверсии:"
   ]
  },
  {
   "cell_type": "markdown",
   "metadata": {
    "slideshow": {
     "slide_type": "subslide"
    }
   },
   "source": [
    "1. Каждый заказ обязательно должен сопровождаться трапезой. <br> \n",
    "Наличие трапезы удваивает конверсию\n",
    "2. Наивысшая конверсия достигается в случае, когда стоимость трапезы составляет 9-10% от стоимости заказа. Допустимой является доля в 6% , но все что ниже существенно снижает конверсию\n",
    "3. Лучше всего проводить встречи 1 на 1. В таком случае показатель конверсии максимален\n",
    "4. Не стоит устраивать встречи, до того как осуществлен заказ, это негативно влияет на конверсию.\n",
    "5. Торговым представителям стоит работать с 8-9 компаниями. Данное число компаний позволит добиться наиболее оптимальных показателей"
   ]
  }
 ],
 "metadata": {
  "celltoolbar": "Slideshow",
  "kernelspec": {
   "display_name": "Python 3",
   "language": "python",
   "name": "python3"
  },
  "language_info": {
   "codemirror_mode": {
    "name": "ipython",
    "version": 3
   },
   "file_extension": ".py",
   "mimetype": "text/x-python",
   "name": "python",
   "nbconvert_exporter": "python",
   "pygments_lexer": "ipython3",
   "version": "3.7.3"
  }
 },
 "nbformat": 4,
 "nbformat_minor": 2
}
