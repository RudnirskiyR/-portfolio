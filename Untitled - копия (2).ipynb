{
 "cells": [
  {
   "cell_type": "code",
   "execution_count": 338,
   "metadata": {
    "slideshow": {
     "slide_type": "skip"
    }
   },
   "outputs": [],
   "source": [
    "import numpy as np\n",
    "from scipy.stats import t\n",
    "from scipy.stats import norm\n",
    "import matplotlib.pyplot as plt\n",
    "from scipy import stats\n",
    "import pandas as pd\n",
    "import io\n",
    "import requests\n",
    "import seaborn as sns\n",
    "import statistics\n",
    "from scipy.stats import pearsonr\n",
    "import pandas_profiling\n",
    "from matplotlib.pyplot import figure\n",
    "import matplotlib as matplotlib\n",
    "%matplotlib inline"
   ]
  },
  {
   "cell_type": "code",
   "execution_count": 339,
   "metadata": {
    "slideshow": {
     "slide_type": "skip"
    }
   },
   "outputs": [],
   "source": [
    "sns.set(rc = {'figure.figsize':(7,5)})\n",
    "sns.set(style=\"whitegrid\")"
   ]
  },
  {
   "cell_type": "code",
   "execution_count": 340,
   "metadata": {
    "slideshow": {
     "slide_type": "skip"
    }
   },
   "outputs": [],
   "source": [
    "order_leads = pd.read_csv('order_leads.csv') \n",
    "sales_team =pd.read_csv('sales_team.csv')\n",
    "invoices =pd.read_csv('invoices.csv')"
   ]
  },
  {
   "cell_type": "markdown",
   "metadata": {
    "slideshow": {
     "slide_type": "skip"
    }
   },
   "source": [
    "<div class=\"alert alert-block alert-info\">\n",
    "<b>Tip:</b> Use blue boxes (alert-info) for tips and notes. \n",
    "If it’s a note, you don’t have to include the word “Note”.\n",
    "</div>"
   ]
  },
  {
   "cell_type": "markdown",
   "metadata": {
    "slideshow": {
     "slide_type": "slide"
    }
   },
   "source": [
    "<div class=\"alert alert-block alert-success\">\n",
    "    \n",
    "### Описние задания.\n",
    "#### Бизнес модель компании следующая:\n",
    "   1. Компания осуществляет заказа\n",
    "   2. Команда продаж помещает заказ в систему\n",
    "   3. Торговые представители пытаются организовать встречу, которая происходит примерно в то время, когда был замечен заказ\n",
    "   4. Торговые представители имеют бюджет расходов и всегда объединяют встречу с едой, за которую они платят\n",
    "\n",
    "<br>\n",
    "</div>\n"
   ]
  },
  {
   "cell_type": "markdown",
   "metadata": {
    "slideshow": {
     "slide_type": "subslide"
    }
   },
   "source": [
    "<div class=\"alert alert-block alert-success\">   \n",
    "    \n",
    "   5. Торговые представители оплачивают свои расходы и передают счета в бухгалтерию для обработки\n",
    "   6. После встречи, как потенциальный клиент решает, согласен ли он с предложенными условиями сделки или нет\n",
    "   7. После решения данные сделке ( заключена или нет) вносятся в систему\n",
    "\n",
    "\n",
    "<font color='blue'>Цель: выяснить каким образом повысить конверсию сделок</font> <br>"
   ]
  },
  {
   "cell_type": "markdown",
   "metadata": {
    "slideshow": {
     "slide_type": "slide"
    }
   },
   "source": [
    "### В рамках данного задания, нам представлены 3 набора данных, с следующими столбацами:"
   ]
  },
  {
   "cell_type": "markdown",
   "metadata": {
    "slideshow": {
     "slide_type": "subslide"
    }
   },
   "source": [
    "\n",
    "#### 1. order_leads - содержит все потенциальные заказы и информацию о конверсии\n",
    "    * Order ID - уникальны номер заказ\n",
    "    * Company Id - уникальный номер компании, от которой поступил заказ\n",
    "    * Company Name - наименование компании\n",
    "    * Date - дата, когда заказ был совершен\n",
    "    * Order Value - cтоимость заказа \n",
    "    * Converted - данные о конверсии в виде 1 и 0 где\n",
    "        * 1 - сделка заключена\n",
    "        * 2 - сделка не состоялась\n"
   ]
  },
  {
   "cell_type": "code",
   "execution_count": 341,
   "metadata": {
    "slideshow": {
     "slide_type": "fragment"
    }
   },
   "outputs": [
    {
     "data": {
      "text/html": [
       "<div>\n",
       "<style scoped>\n",
       "    .dataframe tbody tr th:only-of-type {\n",
       "        vertical-align: middle;\n",
       "    }\n",
       "\n",
       "    .dataframe tbody tr th {\n",
       "        vertical-align: top;\n",
       "    }\n",
       "\n",
       "    .dataframe thead th {\n",
       "        text-align: right;\n",
       "    }\n",
       "</style>\n",
       "<table border=\"1\" class=\"dataframe\">\n",
       "  <thead>\n",
       "    <tr style=\"text-align: right;\">\n",
       "      <th></th>\n",
       "      <th>Order Id</th>\n",
       "      <th>Company Id</th>\n",
       "      <th>Company Name</th>\n",
       "      <th>Date</th>\n",
       "      <th>Order Value</th>\n",
       "      <th>Converted</th>\n",
       "    </tr>\n",
       "  </thead>\n",
       "  <tbody>\n",
       "    <tr>\n",
       "      <th>0</th>\n",
       "      <td>HZSXLI1IS9RGABZW</td>\n",
       "      <td>D0AUXPP07H6AVSGD</td>\n",
       "      <td>Melancholy Social-Role</td>\n",
       "      <td>2017-10-13</td>\n",
       "      <td>6952</td>\n",
       "      <td>0</td>\n",
       "    </tr>\n",
       "    <tr>\n",
       "      <th>1</th>\n",
       "      <td>582WPS3OW8T6YT0R</td>\n",
       "      <td>D0AUXPP07H6AVSGD</td>\n",
       "      <td>Melancholy Social-Role</td>\n",
       "      <td>2017-09-02</td>\n",
       "      <td>7930</td>\n",
       "      <td>0</td>\n",
       "    </tr>\n",
       "  </tbody>\n",
       "</table>\n",
       "</div>"
      ],
      "text/plain": [
       "           Order Id        Company Id            Company Name        Date  \\\n",
       "0  HZSXLI1IS9RGABZW  D0AUXPP07H6AVSGD  Melancholy Social-Role  2017-10-13   \n",
       "1  582WPS3OW8T6YT0R  D0AUXPP07H6AVSGD  Melancholy Social-Role  2017-09-02   \n",
       "\n",
       "   Order Value  Converted  \n",
       "0         6952          0  \n",
       "1         7930          0  "
      ]
     },
     "execution_count": 341,
     "metadata": {},
     "output_type": "execute_result"
    }
   ],
   "source": [
    "order_leads.head(2)"
   ]
  },
  {
   "cell_type": "markdown",
   "metadata": {
    "slideshow": {
     "slide_type": "subslide"
    }
   },
   "source": [
    "#### 2. sales_team - содержит компании и ответственных торговых представителей, работающих с данными компаниями\n",
    "    * Sales Rep Id - идентификатор торгового представителя\n",
    "    * Sales Rep - имя торгового представителя\n",
    "    * Company Id - идентификатор компании, с которой работает торговый представитель \n",
    "    * Company Name - название компании   "
   ]
  },
  {
   "cell_type": "code",
   "execution_count": 342,
   "metadata": {
    "slideshow": {
     "slide_type": "fragment"
    }
   },
   "outputs": [
    {
     "data": {
      "text/html": [
       "<div>\n",
       "<style scoped>\n",
       "    .dataframe tbody tr th:only-of-type {\n",
       "        vertical-align: middle;\n",
       "    }\n",
       "\n",
       "    .dataframe tbody tr th {\n",
       "        vertical-align: top;\n",
       "    }\n",
       "\n",
       "    .dataframe thead th {\n",
       "        text-align: right;\n",
       "    }\n",
       "</style>\n",
       "<table border=\"1\" class=\"dataframe\">\n",
       "  <thead>\n",
       "    <tr style=\"text-align: right;\">\n",
       "      <th></th>\n",
       "      <th>Sales Rep</th>\n",
       "      <th>Sales Rep Id</th>\n",
       "      <th>Company Name</th>\n",
       "      <th>Company Id</th>\n",
       "    </tr>\n",
       "  </thead>\n",
       "  <tbody>\n",
       "    <tr>\n",
       "      <th>0</th>\n",
       "      <td>William Taylor</td>\n",
       "      <td>ZTZA0ZLYZR85PTUJ</td>\n",
       "      <td>Melancholy Social-Role</td>\n",
       "      <td>D0AUXPP07H6AVSGD</td>\n",
       "    </tr>\n",
       "    <tr>\n",
       "      <th>1</th>\n",
       "      <td>William Taylor</td>\n",
       "      <td>ZTZA0ZLYZR85PTUJ</td>\n",
       "      <td>Pee-Wee Pigeon</td>\n",
       "      <td>TJW99R4RWH02INII</td>\n",
       "    </tr>\n",
       "  </tbody>\n",
       "</table>\n",
       "</div>"
      ],
      "text/plain": [
       "        Sales Rep      Sales Rep Id            Company Name        Company Id\n",
       "0  William Taylor  ZTZA0ZLYZR85PTUJ  Melancholy Social-Role  D0AUXPP07H6AVSGD\n",
       "1  William Taylor  ZTZA0ZLYZR85PTUJ          Pee-Wee Pigeon  TJW99R4RWH02INII"
      ]
     },
     "execution_count": 342,
     "metadata": {},
     "output_type": "execute_result"
    }
   ],
   "source": [
    "sales_team.head(2)"
   ]
  },
  {
   "cell_type": "markdown",
   "metadata": {
    "slideshow": {
     "slide_type": "subslide"
    }
   },
   "source": [
    "#### 3. invoices - содержит информацию о всречах со счетами за обед и участниками встречи\n",
    "    * Meal Id - уникальный номер встречи/ обеда\n",
    "    * Company Id - идентификатор компании, с представителями которой осуществляется встреча.\n",
    "    * Date of Meal - дата, когда была осуществлена встреча с указанием времени встречи\n",
    "    * Participants - участники встречи, со стороны компании\n",
    "    * Meal Price - стоимость обеда"
   ]
  },
  {
   "cell_type": "code",
   "execution_count": 343,
   "metadata": {
    "scrolled": true,
    "slideshow": {
     "slide_type": "fragment"
    }
   },
   "outputs": [
    {
     "data": {
      "text/html": [
       "<div>\n",
       "<style scoped>\n",
       "    .dataframe tbody tr th:only-of-type {\n",
       "        vertical-align: middle;\n",
       "    }\n",
       "\n",
       "    .dataframe tbody tr th {\n",
       "        vertical-align: top;\n",
       "    }\n",
       "\n",
       "    .dataframe thead th {\n",
       "        text-align: right;\n",
       "    }\n",
       "</style>\n",
       "<table border=\"1\" class=\"dataframe\">\n",
       "  <thead>\n",
       "    <tr style=\"text-align: right;\">\n",
       "      <th></th>\n",
       "      <th>Meal Id</th>\n",
       "      <th>Company Id</th>\n",
       "      <th>Date of Meal</th>\n",
       "      <th>Participants</th>\n",
       "      <th>Meal Price</th>\n",
       "    </tr>\n",
       "  </thead>\n",
       "  <tbody>\n",
       "    <tr>\n",
       "      <th>0</th>\n",
       "      <td>QBGU1W8BRZZFHYUZ</td>\n",
       "      <td>D0AUXPP07H6AVSGD</td>\n",
       "      <td>2017-10-09 21:00:00</td>\n",
       "      <td>['Violet Medina']</td>\n",
       "      <td>598.0</td>\n",
       "    </tr>\n",
       "    <tr>\n",
       "      <th>1</th>\n",
       "      <td>QFNO07V7P3BTJSDK</td>\n",
       "      <td>D0AUXPP07H6AVSGD</td>\n",
       "      <td>2018-06-07 07:00:00</td>\n",
       "      <td>['Connie Harper']</td>\n",
       "      <td>89.0</td>\n",
       "    </tr>\n",
       "  </tbody>\n",
       "</table>\n",
       "</div>"
      ],
      "text/plain": [
       "            Meal Id        Company Id         Date of Meal       Participants  \\\n",
       "0  QBGU1W8BRZZFHYUZ  D0AUXPP07H6AVSGD  2017-10-09 21:00:00  ['Violet Medina']   \n",
       "1  QFNO07V7P3BTJSDK  D0AUXPP07H6AVSGD  2018-06-07 07:00:00  ['Connie Harper']   \n",
       "\n",
       "   Meal Price  \n",
       "0       598.0  \n",
       "1        89.0  "
      ]
     },
     "execution_count": 343,
     "metadata": {},
     "output_type": "execute_result"
    }
   ],
   "source": [
    "invoices.head(2)"
   ]
  },
  {
   "cell_type": "markdown",
   "metadata": {
    "slideshow": {
     "slide_type": "slide"
    }
   },
   "source": [
    "#### Проверим качество данных"
   ]
  },
  {
   "cell_type": "code",
   "execution_count": 344,
   "metadata": {
    "slideshow": {
     "slide_type": "fragment"
    }
   },
   "outputs": [
    {
     "data": {
      "text/plain": [
       "Company Id      0\n",
       "Company Name    0\n",
       "Sales Rep Id    0\n",
       "Sales Rep       0\n",
       "dtype: int64"
      ]
     },
     "execution_count": 344,
     "metadata": {},
     "output_type": "execute_result"
    }
   ],
   "source": [
    "sales_team.isnull().sum().sort_values(ascending = False).head()"
   ]
  },
  {
   "cell_type": "code",
   "execution_count": 345,
   "metadata": {
    "slideshow": {
     "slide_type": "fragment"
    }
   },
   "outputs": [
    {
     "data": {
      "text/plain": [
       "Converted       0\n",
       "Order Value     0\n",
       "Date            0\n",
       "Company Name    0\n",
       "Company Id      0\n",
       "dtype: int64"
      ]
     },
     "execution_count": 345,
     "metadata": {},
     "output_type": "execute_result"
    }
   ],
   "source": [
    "order_leads.isnull().sum().sort_values(ascending = False).head()"
   ]
  },
  {
   "cell_type": "code",
   "execution_count": 346,
   "metadata": {
    "slideshow": {
     "slide_type": "fragment"
    }
   },
   "outputs": [
    {
     "data": {
      "text/plain": [
       "Meal Price      0\n",
       "Participants    0\n",
       "Date of Meal    0\n",
       "Company Id      0\n",
       "Meal Id         0\n",
       "dtype: int64"
      ]
     },
     "execution_count": 346,
     "metadata": {},
     "output_type": "execute_result"
    }
   ],
   "source": [
    "invoices.isnull().sum().sort_values(ascending = False).head()"
   ]
  },
  {
   "cell_type": "markdown",
   "metadata": {
    "slideshow": {
     "slide_type": "subslide"
    }
   },
   "source": [
    "#### Даннные без потерь и нулевых значений, можно работать"
   ]
  },
  {
   "cell_type": "markdown",
   "metadata": {
    "slideshow": {
     "slide_type": "slide"
    }
   },
   "source": [
    "#### Для начала разберем каждый наборов данных поотдельности . Попробуем это сделать для того, чтоб выявить неочевидные детали в каждом из них.\n",
    "\n"
   ]
  },
  {
   "cell_type": "markdown",
   "metadata": {
    "slideshow": {
     "slide_type": "subslide"
    }
   },
   "source": [
    "<div class=\"alert alert-block alert-info\">\n",
    "<b> 1.</b> Начнем рассматривать с данных по команде продаж. <br>\n",
    "    Один из вопросов, возникающих при первом взгляде, это с каким кол-вом компаний взаимодействует торговый представитель\"\n",
    "</div>\n",
    "  "
   ]
  },
  {
   "cell_type": "code",
   "execution_count": 347,
   "metadata": {
    "slideshow": {
     "slide_type": "fragment"
    }
   },
   "outputs": [],
   "source": [
    "df = sales_team.groupby('Sales Rep').count()['Company Name'].reset_index()"
   ]
  },
  {
   "cell_type": "code",
   "execution_count": 348,
   "metadata": {
    "slideshow": {
     "slide_type": "fragment"
    }
   },
   "outputs": [
    {
     "data": {
      "text/html": [
       "<div>\n",
       "<style scoped>\n",
       "    .dataframe tbody tr th:only-of-type {\n",
       "        vertical-align: middle;\n",
       "    }\n",
       "\n",
       "    .dataframe tbody tr th {\n",
       "        vertical-align: top;\n",
       "    }\n",
       "\n",
       "    .dataframe thead th {\n",
       "        text-align: right;\n",
       "    }\n",
       "</style>\n",
       "<table border=\"1\" class=\"dataframe\">\n",
       "  <thead>\n",
       "    <tr style=\"text-align: right;\">\n",
       "      <th></th>\n",
       "      <th>Sales Rep</th>\n",
       "      <th>Company Name</th>\n",
       "    </tr>\n",
       "  </thead>\n",
       "  <tbody>\n",
       "    <tr>\n",
       "      <th>0</th>\n",
       "      <td>Aaron Hendrickson</td>\n",
       "      <td>13</td>\n",
       "    </tr>\n",
       "    <tr>\n",
       "      <th>1</th>\n",
       "      <td>Adam Sawyer</td>\n",
       "      <td>16</td>\n",
       "    </tr>\n",
       "    <tr>\n",
       "      <th>2</th>\n",
       "      <td>Adele Kimmel</td>\n",
       "      <td>5</td>\n",
       "    </tr>\n",
       "    <tr>\n",
       "      <th>3</th>\n",
       "      <td>Adrian Daugherty</td>\n",
       "      <td>18</td>\n",
       "    </tr>\n",
       "    <tr>\n",
       "      <th>4</th>\n",
       "      <td>Adrianna Shelton</td>\n",
       "      <td>2</td>\n",
       "    </tr>\n",
       "  </tbody>\n",
       "</table>\n",
       "</div>"
      ],
      "text/plain": [
       "           Sales Rep  Company Name\n",
       "0  Aaron Hendrickson            13\n",
       "1        Adam Sawyer            16\n",
       "2       Adele Kimmel             5\n",
       "3   Adrian Daugherty            18\n",
       "4   Adrianna Shelton             2"
      ]
     },
     "execution_count": 348,
     "metadata": {},
     "output_type": "execute_result"
    }
   ],
   "source": [
    "df.head()"
   ]
  },
  {
   "cell_type": "markdown",
   "metadata": {
    "slideshow": {
     "slide_type": "fragment"
    }
   },
   "source": [
    "Анализирую первые 5 строчек уже видно, что торговый представитель работает не с одной компанией. При том, что и разброс по кол-ву компаний так же присутсвует. <br>\n",
    "Визуализируем распределение"
   ]
  },
  {
   "cell_type": "code",
   "execution_count": 349,
   "metadata": {
    "slideshow": {
     "slide_type": "skip"
    }
   },
   "outputs": [],
   "source": [
    "sns.set(rc = {'figure.figsize':(17,6)})\n",
    "sns.set_style(\"ticks\")"
   ]
  },
  {
   "cell_type": "code",
   "execution_count": 350,
   "metadata": {
    "slideshow": {
     "slide_type": "skip"
    }
   },
   "outputs": [],
   "source": [
    "x = [12.9,12.9]\n",
    "z = [0, 90]\n",
    "y = [6.1,6.1] "
   ]
  },
  {
   "cell_type": "code",
   "execution_count": 351,
   "metadata": {
    "slideshow": {
     "slide_type": "subslide"
    }
   },
   "outputs": [
    {
     "data": {
      "image/png": "[encoded data removed]",
      "text/plain": [
       "<Figure size 1224x432 with 1 Axes>"
      ]
     },
     "metadata": {},
     "output_type": "display_data"
    }
   ],
   "source": [
    "df.hist()\n",
    "plt.plot(x, z,linewidth = 5, color = 'r')\n",
    "plt.plot(y, z,linewidth = 5, color = 'r')\n",
    "plt.show()"
   ]
  },
  {
   "cell_type": "markdown",
   "metadata": {
    "slideshow": {
     "slide_type": "fragment"
    }
   },
   "source": [
    "Распределение далеко от нормального и показывает что большинство торовых представителей работают: <br> \n",
    "1.С большим числом компаний (более 10) <br>\n",
    "2.С малым числом компаний (менее 6) "
   ]
  },
  {
   "cell_type": "markdown",
   "metadata": {
    "slideshow": {
     "slide_type": "slide"
    }
   },
   "source": [
    "<div class=\"alert alert-block alert-info\">\n",
    "<b> 2.</b> Далее рассмотрим данные по заказам. <br>\n",
    "    Первое, что интересно выяснить: процент конверсии и его динамика по датам\n",
    "</div>      "
   ]
  },
  {
   "cell_type": "markdown",
   "metadata": {
    "slideshow": {
     "slide_type": "subslide"
    }
   },
   "source": [
    "Для начала, выполним пару действий, для того чтоб подготовить данные к визуализации. <br>\n",
    "Начнем с проверки дат и их формата"
   ]
  },
  {
   "cell_type": "code",
   "execution_count": 352,
   "metadata": {
    "slideshow": {
     "slide_type": "skip"
    }
   },
   "outputs": [
    {
     "data": {
      "text/plain": [
       "100000"
      ]
     },
     "execution_count": 352,
     "metadata": {},
     "output_type": "execute_result"
    }
   ],
   "source": [
    "len(order_leads['Company Id'])"
   ]
  },
  {
   "cell_type": "code",
   "execution_count": 353,
   "metadata": {
    "slideshow": {
     "slide_type": "fragment"
    }
   },
   "outputs": [
    {
     "data": {
      "text/plain": [
       "str"
      ]
     },
     "execution_count": 353,
     "metadata": {},
     "output_type": "execute_result"
    }
   ],
   "source": [
    "type(order_leads['Date'][1])"
   ]
  },
  {
   "cell_type": "markdown",
   "metadata": {
    "slideshow": {
     "slide_type": "fragment"
    }
   },
   "source": [
    "Формат столбца с датами представлен в виде текстового значения. Необходимо конвертировать "
   ]
  },
  {
   "cell_type": "code",
   "execution_count": 354,
   "metadata": {
    "slideshow": {
     "slide_type": "fragment"
    }
   },
   "outputs": [],
   "source": [
    "order_leads['Date'] = pd.to_datetime(order_leads['Date'], format='%Y-%m-%d')"
   ]
  },
  {
   "cell_type": "code",
   "execution_count": 355,
   "metadata": {
    "slideshow": {
     "slide_type": "fragment"
    }
   },
   "outputs": [],
   "source": [
    "conversion_by_date= order_leads.groupby(order_leads['Date']).mean()['Converted']"
   ]
  },
  {
   "cell_type": "code",
   "execution_count": 356,
   "metadata": {
    "slideshow": {
     "slide_type": "fragment"
    }
   },
   "outputs": [
    {
     "data": {
      "text/plain": [
       "Date\n",
       "2014-01-01    0.229167\n",
       "Name: Converted, dtype: float64"
      ]
     },
     "execution_count": 356,
     "metadata": {},
     "output_type": "execute_result"
    }
   ],
   "source": [
    "conversion_by_date.head(1)"
   ]
  },
  {
   "cell_type": "code",
   "execution_count": 357,
   "metadata": {
    "slideshow": {
     "slide_type": "skip"
    }
   },
   "outputs": [],
   "source": [
    "sns.set(rc = {'figure.figsize':(17,6)})\n",
    "sns.set_style(\"whitegrid\")"
   ]
  },
  {
   "cell_type": "code",
   "execution_count": 358,
   "metadata": {
    "slideshow": {
     "slide_type": "slide"
    }
   },
   "outputs": [
    {
     "data": {
      "image/png": "[encoded data removed]",
      "text/plain": [
       "<Figure size 1296x432 with 1 Axes>"
      ]
     },
     "metadata": {},
     "output_type": "display_data"
    }
   ],
   "source": [
    "ax =conversion_by_date.rolling(100).mean().plot(figsize=(18,6), title = \"Конверсия по датам\")\n",
    "plt.show()"
   ]
  },
  {
   "cell_type": "markdown",
   "metadata": {
    "slideshow": {
     "slide_type": "fragment"
    }
   },
   "source": [
    "Ух ты, мы наблюдаем существеннное падение конверсии за 2017 год. <br>\n",
    "Попробуем выяснить с чем это связано"
   ]
  },
  {
   "cell_type": "markdown",
   "metadata": {
    "slideshow": {
     "slide_type": "slide"
    }
   },
   "source": [
    "<div class=\"alert alert-block alert-success\">\n",
    "    \n",
    "    \n",
    "    \n",
    "Версий несколько\n",
    "<br> \n",
    "* Измеримые:\n",
    "    1. Падение рынка как такового и как следствие падение выручки и потенциальной выручки у компании.\n",
    "    2. Рост стоимости товара и как следствие снижение числа сделок, но без потерь выручки.\n",
    "    <br> \n",
    "* Факторные:\n",
    "    1. Снижение качества реализуемого товара\n",
    "    2. Приход на рынок конкурента    \n",
    "<br>    \n",
    "<br>\n",
    "</div>"
   ]
  },
  {
   "cell_type": "markdown",
   "metadata": {
    "slideshow": {
     "slide_type": "slide"
    }
   },
   "source": [
    "Ввиду отсутсвия полной информации о компании, ситуации на рынке и реализуемом товаре, представляется возможным проверить только измеримые версии"
   ]
  },
  {
   "cell_type": "markdown",
   "metadata": {
    "slideshow": {
     "slide_type": "subslide"
    }
   },
   "source": [
    "Начнем с оценки выручки:"
   ]
  },
  {
   "cell_type": "code",
   "execution_count": 359,
   "metadata": {
    "slideshow": {
     "slide_type": "fragment"
    }
   },
   "outputs": [],
   "source": [
    "value_by_date= order_leads.groupby(order_leads['Date']).sum()['Order Value']"
   ]
  },
  {
   "cell_type": "code",
   "execution_count": 360,
   "metadata": {
    "slideshow": {
     "slide_type": "fragment"
    }
   },
   "outputs": [
    {
     "data": {
      "text/plain": [
       "Date\n",
       "2014-01-01    228331\n",
       "2014-01-02    293069\n",
       "Name: Order Value, dtype: int64"
      ]
     },
     "execution_count": 360,
     "metadata": {},
     "output_type": "execute_result"
    }
   ],
   "source": [
    "value_by_date.head(2)"
   ]
  },
  {
   "cell_type": "markdown",
   "metadata": {
    "slideshow": {
     "slide_type": "fragment"
    }
   },
   "source": [
    "Визуализируем "
   ]
  },
  {
   "cell_type": "code",
   "execution_count": 361,
   "metadata": {
    "slideshow": {
     "slide_type": "subslide"
    }
   },
   "outputs": [
    {
     "data": {
      "image/png": "[encoded data removed]",
      "text/plain": [
       "<Figure size 1296x432 with 1 Axes>"
      ]
     },
     "metadata": {},
     "output_type": "display_data"
    }
   ],
   "source": [
    "ax =value_by_date.rolling(100).sum().plot(figsize=(18,6), title = \"Суммарная выручка по всем поступившим заказам\")\n",
    "plt.show()"
   ]
  },
  {
   "cell_type": "markdown",
   "metadata": {
    "slideshow": {
     "slide_type": "fragment"
    }
   },
   "source": [
    "Результат удивляет. В 2017 год объем рынка был наибольшим, как следствие версия с падением рынка отпадает."
   ]
  },
  {
   "cell_type": "markdown",
   "metadata": {
    "slideshow": {
     "slide_type": "slide"
    }
   },
   "source": [
    "Остается проверить версию о росте цены"
   ]
  },
  {
   "cell_type": "code",
   "execution_count": 362,
   "metadata": {
    "slideshow": {
     "slide_type": "fragment"
    }
   },
   "outputs": [],
   "source": [
    "cost_by_date= order_leads.groupby(order_leads['Date']).mean()['Order Value']"
   ]
  },
  {
   "cell_type": "code",
   "execution_count": 363,
   "metadata": {
    "slideshow": {
     "slide_type": "fragment"
    }
   },
   "outputs": [
    {
     "data": {
      "text/plain": [
       "Date\n",
       "2014-01-01    4756.895833\n",
       "2014-01-02    5635.942308\n",
       "Name: Order Value, dtype: float64"
      ]
     },
     "execution_count": 363,
     "metadata": {},
     "output_type": "execute_result"
    }
   ],
   "source": [
    "cost_by_date.head(2)"
   ]
  },
  {
   "cell_type": "code",
   "execution_count": 364,
   "metadata": {
    "slideshow": {
     "slide_type": "subslide"
    }
   },
   "outputs": [
    {
     "data": {
      "image/png": "[encoded data removed]",
      "text/plain": [
       "<Figure size 1296x432 with 1 Axes>"
      ]
     },
     "metadata": {},
     "output_type": "display_data"
    }
   ],
   "source": [
    "ax =cost_by_date.rolling(100).sum().plot(figsize=(18,6), title = \"Средняя стоимость заказов\")\n",
    "plt.show()"
   ]
  },
  {
   "cell_type": "markdown",
   "metadata": {
    "slideshow": {
     "slide_type": "fragment"
    }
   },
   "source": [
    "Вопреки всем ожиданиям, наблюдается прирост в стоимости заказов. <br>\n",
    "Вероятно такой прирост может быть связан с закономерным повышением цен ввиду инфляции или иных макроэкономических показателей<br>\n",
    "Очевидно лишь что такой прирост при прежних объемах заказов не мог бы дать прирост в выручке в таком объеме."
   ]
  },
  {
   "cell_type": "markdown",
   "metadata": {
    "slideshow": {
     "slide_type": "slide"
    }
   },
   "source": [
    "Дабы замкнуть эту цепоку, следует проверить что происходило с кол-вом заказов за рассматриваемый период"
   ]
  },
  {
   "cell_type": "code",
   "execution_count": 365,
   "metadata": {
    "slideshow": {
     "slide_type": "fragment"
    }
   },
   "outputs": [],
   "source": [
    "count_by_date= order_leads.groupby(order_leads['Date']).count()['Order Value']"
   ]
  },
  {
   "cell_type": "code",
   "execution_count": 366,
   "metadata": {
    "slideshow": {
     "slide_type": "fragment"
    }
   },
   "outputs": [
    {
     "data": {
      "text/plain": [
       "Date\n",
       "2014-01-01    48\n",
       "2014-01-02    52\n",
       "Name: Order Value, dtype: int64"
      ]
     },
     "execution_count": 366,
     "metadata": {},
     "output_type": "execute_result"
    }
   ],
   "source": [
    "count_by_date.head(2)"
   ]
  },
  {
   "cell_type": "code",
   "execution_count": 367,
   "metadata": {
    "slideshow": {
     "slide_type": "subslide"
    }
   },
   "outputs": [
    {
     "data": {
      "image/png": "[encoded data removed]",
      "text/plain": [
       "<Figure size 1296x432 with 1 Axes>"
      ]
     },
     "metadata": {},
     "output_type": "display_data"
    }
   ],
   "source": [
    "ax =count_by_date= order_leads.groupby(order_leads['Date']).count()['Order Value'].rolling(100).sum().plot(figsize=(18,6), title = \"Средняя стоимость заказов\")\n",
    "plt.show()"
   ]
  },
  {
   "cell_type": "markdown",
   "metadata": {
    "slideshow": {
     "slide_type": "fragment"
    }
   },
   "source": [
    "В данном случае, уже вполне ожидаем рост числа заказов в 2017 году. <br> \n",
    "Итого именно рост числа заказов и стоимости заказов повлияли на рост объема рынка в целом. <br>\n",
    "Но тогда остается неразгаданным вопрос: *\"Что с конверсией Карл?\"*"
   ]
  },
  {
   "cell_type": "markdown",
   "metadata": {
    "slideshow": {
     "slide_type": "slide"
    }
   },
   "source": [
    "<div class=\"alert alert-block alert-success\">\n",
    "И выводы тут могут быть представлены лишь в догадках. <br>\n",
    "\n",
    "Так как мы наблюдаем достаточно ощутимое повышение спроса на товар, который реализует рассматриваемая компания, падение его качества не может дать столь резкого падения конверсии. При снижении качества это происходило бы более плавно, постепенно. <br>\n",
    "\n",
    "Такой резкий обрыв скорее всего связан с приходом на рынок нового конкурента. <br>\n",
    "\n",
    "<div>"
   ]
  },
  {
   "cell_type": "markdown",
   "metadata": {
    "slideshow": {
     "slide_type": "subslide"
    }
   },
   "source": [
    "<div class=\"alert alert-block alert-success\">\n",
    "    \n",
    "И здесь уже логика прослеживается =>\n",
    " 1. Конкурент пытается отобрать долю рынка, тем самым верятно демпингует его ( не исключено что себе в убыток). Такой механизм работы нацелен на \"покупку\" доли рынка на старте работы.\n",
    " 2. После захвата рынка необходимо выходить на прибыль, ввиду чего закономерен рост цен у конкурента. Но почему конверсия не возвращается? \n",
    " 3. Осуществив повышение цен конкурент  при помощи всевозможных систем лояльности и инструментов присущих данному типу отрасли осуществялет удержание лидов. Данное удержание по видимому и не позволяет рассматриваемой копании вернуть себе конверсию до должного уровня. <br>\n",
    " \n",
    " <div>"
   ]
  },
  {
   "cell_type": "markdown",
   "metadata": {
    "slideshow": {
     "slide_type": "subslide"
    }
   },
   "source": [
    " <div class=\"alert alert-block alert-success\">\n",
    "    <font color='blue'>Значит, в рамках рассматриваемого задания нам необходимо обратить внимание на аспекты связанные с сервисом компании и, как следсвтие, найти решения, которые позволяет его улучшить.</font> \n",
    " <div>"
   ]
  },
  {
   "cell_type": "markdown",
   "metadata": {
    "slideshow": {
     "slide_type": "slide"
    }
   },
   "source": [
    "Вернемся в прежнюю канву исследования. <br>\n",
    "Мы рассмотрели поотдельности данные команды продаж (sales team) и данные по заказам (order leads)"
   ]
  },
  {
   "cell_type": "markdown",
   "metadata": {
    "slideshow": {
     "slide_type": "subslide"
    }
   },
   "source": [
    "<div class=\"alert alert-block alert-info\">\n",
    "<b> 3.</b> Теперь расмотрим данные по счетам на еду. <br>\n",
    "    Посмотрим еще раз из каких данных состоит этот датасет\n",
    "</div>      "
   ]
  },
  {
   "cell_type": "markdown",
   "metadata": {
    "slideshow": {
     "slide_type": "subslide"
    }
   },
   "source": [
    "invoices - содержит информацию о всречах со счетами за обед и участниками встречи\n",
    "* Meal Id - уникальный номер встречи/ обеда\n",
    "* Company Id - идентификатор компании, с представителями которой осуществляется встреча.\n",
    "* Date of Meal - дата, когда была осуществлена встреча с указанием времени встречи\n",
    "* Participants - участники встречи, со стороны компании\n",
    "* Meal Price - стоимость обеда"
   ]
  },
  {
   "cell_type": "code",
   "execution_count": 368,
   "metadata": {
    "slideshow": {
     "slide_type": "fragment"
    }
   },
   "outputs": [
    {
     "data": {
      "text/html": [
       "<div>\n",
       "<style scoped>\n",
       "    .dataframe tbody tr th:only-of-type {\n",
       "        vertical-align: middle;\n",
       "    }\n",
       "\n",
       "    .dataframe tbody tr th {\n",
       "        vertical-align: top;\n",
       "    }\n",
       "\n",
       "    .dataframe thead th {\n",
       "        text-align: right;\n",
       "    }\n",
       "</style>\n",
       "<table border=\"1\" class=\"dataframe\">\n",
       "  <thead>\n",
       "    <tr style=\"text-align: right;\">\n",
       "      <th></th>\n",
       "      <th>Meal Id</th>\n",
       "      <th>Company Id</th>\n",
       "      <th>Date of Meal</th>\n",
       "      <th>Participants</th>\n",
       "      <th>Meal Price</th>\n",
       "    </tr>\n",
       "  </thead>\n",
       "  <tbody>\n",
       "    <tr>\n",
       "      <th>0</th>\n",
       "      <td>QBGU1W8BRZZFHYUZ</td>\n",
       "      <td>D0AUXPP07H6AVSGD</td>\n",
       "      <td>2017-10-09 21:00:00</td>\n",
       "      <td>['Violet Medina']</td>\n",
       "      <td>598.0</td>\n",
       "    </tr>\n",
       "    <tr>\n",
       "      <th>1</th>\n",
       "      <td>QFNO07V7P3BTJSDK</td>\n",
       "      <td>D0AUXPP07H6AVSGD</td>\n",
       "      <td>2018-06-07 07:00:00</td>\n",
       "      <td>['Connie Harper']</td>\n",
       "      <td>89.0</td>\n",
       "    </tr>\n",
       "  </tbody>\n",
       "</table>\n",
       "</div>"
      ],
      "text/plain": [
       "            Meal Id        Company Id         Date of Meal       Participants  \\\n",
       "0  QBGU1W8BRZZFHYUZ  D0AUXPP07H6AVSGD  2017-10-09 21:00:00  ['Violet Medina']   \n",
       "1  QFNO07V7P3BTJSDK  D0AUXPP07H6AVSGD  2018-06-07 07:00:00  ['Connie Harper']   \n",
       "\n",
       "   Meal Price  \n",
       "0       598.0  \n",
       "1        89.0  "
      ]
     },
     "execution_count": 368,
     "metadata": {},
     "output_type": "execute_result"
    }
   ],
   "source": [
    "invoices.head(2)"
   ]
  },
  {
   "cell_type": "markdown",
   "metadata": {
    "slideshow": {
     "slide_type": "slide"
    }
   },
   "source": [
    "Первое, что необходимо оценить это участники встречи (Participants) и формат встреч."
   ]
  },
  {
   "cell_type": "code",
   "execution_count": 369,
   "metadata": {
    "slideshow": {
     "slide_type": "fragment"
    }
   },
   "outputs": [
    {
     "name": "stdout",
     "output_type": "stream",
     "text": [
      "Уникальных участников-  27007\n",
      "Всего встреч-  49990\n"
     ]
    }
   ],
   "source": [
    "print(\"Уникальных участников- \", len(pd.unique(invoices['Participants'])))\n",
    "print(\"Всего встреч- \", len(invoices['Participants']))"
   ]
  },
  {
   "cell_type": "markdown",
   "metadata": {
    "slideshow": {
     "slide_type": "fragment"
    }
   },
   "source": [
    "Встреч почти в 2 раза больше, чем участников встреч. <br>\n",
    "Похоже что с некоторыми участниками встречались более чем 1 раз. <br>\n",
    "Посмотрим детальнее:"
   ]
  },
  {
   "cell_type": "code",
   "execution_count": 370,
   "metadata": {
    "slideshow": {
     "slide_type": "fragment"
    }
   },
   "outputs": [
    {
     "data": {
      "text/plain": [
       "Participants\n",
       "['Aaron Boyles']                                                                         4\n",
       "['Aaron Cavender' 'Tammy Valentine' 'Mary Vail' 'Sarah Bearden'\\n 'Steven Thackston']    1\n",
       "['Aaron Diego' 'Harold Perry' 'Bok Walker' 'Maria Keith']                                1\n",
       "['Aaron Fall' 'Jessica Delgado']                                                         1\n",
       "['Aaron Givens' 'Michelle Ruis' 'Keith Carver' 'Juan Smtih']                             1\n",
       "Name: Meal Id, dtype: int64"
      ]
     },
     "execution_count": 370,
     "metadata": {},
     "output_type": "execute_result"
    }
   ],
   "source": [
    "invoices.groupby(invoices['Participants']).count()['Meal Id'].head()"
   ]
  },
  {
   "cell_type": "markdown",
   "metadata": {
    "slideshow": {
     "slide_type": "subslide"
    }
   },
   "source": [
    "Неожиданная информация. Оказывается встречи проходили не только один на один. <br>\n",
    "Интересно выяснить сколько человек, одновременно присутсвовали на встрече."
   ]
  },
  {
   "cell_type": "markdown",
   "metadata": {
    "slideshow": {
     "slide_type": "slide"
    }
   },
   "source": [
    "Но перед этим, дабы в будущем не делать двойную работу ( связанную с анализом влияния показателей в текущем датасете на конверсию) , объеденим набор данных c order leads.<br> Важно оценить как именно это сделать. <br>\n",
    "Единственный показатель, присущий в обоих наборах данных это Company Id"
   ]
  },
  {
   "cell_type": "code",
   "execution_count": 371,
   "metadata": {
    "slideshow": {
     "slide_type": "fragment"
    }
   },
   "outputs": [
    {
     "name": "stdout",
     "output_type": "stream",
     "text": [
      "Кол-во компаний в order_leads =  100000\n",
      "Кол-во компаний в invoices =  49990\n"
     ]
    }
   ],
   "source": [
    "print(\"Кол-во компаний в order_leads = \", len(order_leads['Company Id']))\n",
    "print(\"Кол-во компаний в invoices = \", len(invoices['Company Id']))"
   ]
  },
  {
   "cell_type": "markdown",
   "metadata": {
    "slideshow": {
     "slide_type": "fragment"
    }
   },
   "source": [
    "Очевидно, что если мы объеденим наборы данных через company Id то породим тем самым большое кол-во дубликатов. <br>\n",
    "Выхода нет. Необходимо это сделать и в последующем очистить датасет от дубликатов"
   ]
  },
  {
   "cell_type": "code",
   "execution_count": 372,
   "metadata": {
    "slideshow": {
     "slide_type": "slide"
    }
   },
   "outputs": [],
   "source": [
    "orders_invoices =  pd.merge(order_leads, invoices , how='left', on=['Company Id'])"
   ]
  },
  {
   "cell_type": "code",
   "execution_count": 373,
   "metadata": {
    "slideshow": {
     "slide_type": "fragment"
    }
   },
   "outputs": [
    {
     "data": {
      "text/html": [
       "<div>\n",
       "<style scoped>\n",
       "    .dataframe tbody tr th:only-of-type {\n",
       "        vertical-align: middle;\n",
       "    }\n",
       "\n",
       "    .dataframe tbody tr th {\n",
       "        vertical-align: top;\n",
       "    }\n",
       "\n",
       "    .dataframe thead th {\n",
       "        text-align: right;\n",
       "    }\n",
       "</style>\n",
       "<table border=\"1\" class=\"dataframe\">\n",
       "  <thead>\n",
       "    <tr style=\"text-align: right;\">\n",
       "      <th></th>\n",
       "      <th>Order Id</th>\n",
       "      <th>Company Id</th>\n",
       "      <th>Company Name</th>\n",
       "      <th>Date</th>\n",
       "      <th>Order Value</th>\n",
       "      <th>Converted</th>\n",
       "      <th>Meal Id</th>\n",
       "      <th>Date of Meal</th>\n",
       "      <th>Participants</th>\n",
       "      <th>Meal Price</th>\n",
       "    </tr>\n",
       "  </thead>\n",
       "  <tbody>\n",
       "    <tr>\n",
       "      <th>0</th>\n",
       "      <td>HZSXLI1IS9RGABZW</td>\n",
       "      <td>D0AUXPP07H6AVSGD</td>\n",
       "      <td>Melancholy Social-Role</td>\n",
       "      <td>2017-10-13</td>\n",
       "      <td>6952</td>\n",
       "      <td>0</td>\n",
       "      <td>QBGU1W8BRZZFHYUZ</td>\n",
       "      <td>2017-10-09 21:00:00</td>\n",
       "      <td>['Violet Medina']</td>\n",
       "      <td>598.0</td>\n",
       "    </tr>\n",
       "    <tr>\n",
       "      <th>1</th>\n",
       "      <td>HZSXLI1IS9RGABZW</td>\n",
       "      <td>D0AUXPP07H6AVSGD</td>\n",
       "      <td>Melancholy Social-Role</td>\n",
       "      <td>2017-10-13</td>\n",
       "      <td>6952</td>\n",
       "      <td>0</td>\n",
       "      <td>QFNO07V7P3BTJSDK</td>\n",
       "      <td>2018-06-07 07:00:00</td>\n",
       "      <td>['Connie Harper']</td>\n",
       "      <td>89.0</td>\n",
       "    </tr>\n",
       "  </tbody>\n",
       "</table>\n",
       "</div>"
      ],
      "text/plain": [
       "           Order Id        Company Id            Company Name       Date  \\\n",
       "0  HZSXLI1IS9RGABZW  D0AUXPP07H6AVSGD  Melancholy Social-Role 2017-10-13   \n",
       "1  HZSXLI1IS9RGABZW  D0AUXPP07H6AVSGD  Melancholy Social-Role 2017-10-13   \n",
       "\n",
       "   Order Value  Converted           Meal Id         Date of Meal  \\\n",
       "0         6952          0  QBGU1W8BRZZFHYUZ  2017-10-09 21:00:00   \n",
       "1         6952          0  QFNO07V7P3BTJSDK  2018-06-07 07:00:00   \n",
       "\n",
       "        Participants  Meal Price  \n",
       "0  ['Violet Medina']       598.0  \n",
       "1  ['Connie Harper']        89.0  "
      ]
     },
     "execution_count": 373,
     "metadata": {},
     "output_type": "execute_result"
    }
   ],
   "source": [
    "orders_invoices.head(2)"
   ]
  },
  {
   "cell_type": "markdown",
   "metadata": {
    "slideshow": {
     "slide_type": "fragment"
    }
   },
   "source": [
    "Уже видны дубликаты. Обратите внимание на столбец Order Id. В нем указан номер заказа и по первоначальным данным он должен быть уникален для каждого заказа. В нашем же случае он повторяется"
   ]
  },
  {
   "cell_type": "markdown",
   "metadata": {
    "slideshow": {
     "slide_type": "slide"
    }
   },
   "source": [
    "Для начала приведем даты в порядок и разделим столбец в котором указаны дата и время трапезы на два отдельных:\n",
    "    * Дата трапезы \n",
    "    * Время трапезы"
   ]
  },
  {
   "cell_type": "code",
   "execution_count": 383,
   "metadata": {
    "slideshow": {
     "slide_type": "fragment"
    }
   },
   "outputs": [
    {
     "data": {
      "text/plain": [
       "str"
      ]
     },
     "execution_count": 383,
     "metadata": {},
     "output_type": "execute_result"
    }
   ],
   "source": [
    "type(orders_invoices['Date of Meal'][1])"
   ]
  },
  {
   "cell_type": "code",
   "execution_count": 377,
   "metadata": {
    "slideshow": {
     "slide_type": "fragment"
    }
   },
   "outputs": [],
   "source": [
    "orders_invoices['Meal_Date'] = pd.to_datetime(orders_invoices['Date of Meal'],format='%Y-%m-%d').dt.date"
   ]
  },
  {
   "cell_type": "code",
   "execution_count": 379,
   "metadata": {
    "slideshow": {
     "slide_type": "fragment"
    }
   },
   "outputs": [
    {
     "data": {
      "text/html": [
       "<div>\n",
       "<style scoped>\n",
       "    .dataframe tbody tr th:only-of-type {\n",
       "        vertical-align: middle;\n",
       "    }\n",
       "\n",
       "    .dataframe tbody tr th {\n",
       "        vertical-align: top;\n",
       "    }\n",
       "\n",
       "    .dataframe thead th {\n",
       "        text-align: right;\n",
       "    }\n",
       "</style>\n",
       "<table border=\"1\" class=\"dataframe\">\n",
       "  <thead>\n",
       "    <tr style=\"text-align: right;\">\n",
       "      <th></th>\n",
       "      <th>Order Id</th>\n",
       "      <th>Company Id</th>\n",
       "      <th>Company Name</th>\n",
       "      <th>Date</th>\n",
       "      <th>Order Value</th>\n",
       "      <th>Converted</th>\n",
       "      <th>Meal Id</th>\n",
       "      <th>Date of Meal</th>\n",
       "      <th>Participants</th>\n",
       "      <th>Meal Price</th>\n",
       "      <th>Meal_Date</th>\n",
       "    </tr>\n",
       "  </thead>\n",
       "  <tbody>\n",
       "    <tr>\n",
       "      <th>0</th>\n",
       "      <td>HZSXLI1IS9RGABZW</td>\n",
       "      <td>D0AUXPP07H6AVSGD</td>\n",
       "      <td>Melancholy Social-Role</td>\n",
       "      <td>2017-10-13</td>\n",
       "      <td>6952</td>\n",
       "      <td>0</td>\n",
       "      <td>QBGU1W8BRZZFHYUZ</td>\n",
       "      <td>2017-10-09 21:00:00</td>\n",
       "      <td>['Violet Medina']</td>\n",
       "      <td>598.0</td>\n",
       "      <td>2017-10-09</td>\n",
       "    </tr>\n",
       "    <tr>\n",
       "      <th>1</th>\n",
       "      <td>HZSXLI1IS9RGABZW</td>\n",
       "      <td>D0AUXPP07H6AVSGD</td>\n",
       "      <td>Melancholy Social-Role</td>\n",
       "      <td>2017-10-13</td>\n",
       "      <td>6952</td>\n",
       "      <td>0</td>\n",
       "      <td>QFNO07V7P3BTJSDK</td>\n",
       "      <td>2018-06-07 07:00:00</td>\n",
       "      <td>['Connie Harper']</td>\n",
       "      <td>89.0</td>\n",
       "      <td>2018-06-07</td>\n",
       "    </tr>\n",
       "  </tbody>\n",
       "</table>\n",
       "</div>"
      ],
      "text/plain": [
       "           Order Id        Company Id            Company Name        Date  \\\n",
       "0  HZSXLI1IS9RGABZW  D0AUXPP07H6AVSGD  Melancholy Social-Role  2017-10-13   \n",
       "1  HZSXLI1IS9RGABZW  D0AUXPP07H6AVSGD  Melancholy Social-Role  2017-10-13   \n",
       "\n",
       "   Order Value  Converted           Meal Id         Date of Meal  \\\n",
       "0         6952          0  QBGU1W8BRZZFHYUZ  2017-10-09 21:00:00   \n",
       "1         6952          0  QFNO07V7P3BTJSDK  2018-06-07 07:00:00   \n",
       "\n",
       "        Participants  Meal Price   Meal_Date  \n",
       "0  ['Violet Medina']       598.0  2017-10-09  \n",
       "1  ['Connie Harper']        89.0  2018-06-07  "
      ]
     },
     "execution_count": 379,
     "metadata": {},
     "output_type": "execute_result"
    }
   ],
   "source": [
    "orders_invoices.head(2)"
   ]
  },
  {
   "cell_type": "code",
   "execution_count": 386,
   "metadata": {
    "slideshow": {
     "slide_type": "slide"
    }
   },
   "outputs": [
    {
     "data": {
      "text/html": [
       "<div>\n",
       "<style scoped>\n",
       "    .dataframe tbody tr th:only-of-type {\n",
       "        vertical-align: middle;\n",
       "    }\n",
       "\n",
       "    .dataframe tbody tr th {\n",
       "        vertical-align: top;\n",
       "    }\n",
       "\n",
       "    .dataframe thead th {\n",
       "        text-align: right;\n",
       "    }\n",
       "</style>\n",
       "<table border=\"1\" class=\"dataframe\">\n",
       "  <thead>\n",
       "    <tr style=\"text-align: right;\">\n",
       "      <th></th>\n",
       "      <th>Order Id</th>\n",
       "      <th>Company Id</th>\n",
       "      <th>Company Name</th>\n",
       "      <th>Date</th>\n",
       "      <th>Order Value</th>\n",
       "      <th>Converted</th>\n",
       "      <th>Meal Id</th>\n",
       "      <th>Date of Meal</th>\n",
       "      <th>Participants</th>\n",
       "      <th>Meal Price</th>\n",
       "      <th>Meal_Date</th>\n",
       "      <th>Response rate</th>\n",
       "    </tr>\n",
       "  </thead>\n",
       "  <tbody>\n",
       "    <tr>\n",
       "      <th>0</th>\n",
       "      <td>HZSXLI1IS9RGABZW</td>\n",
       "      <td>D0AUXPP07H6AVSGD</td>\n",
       "      <td>Melancholy Social-Role</td>\n",
       "      <td>2017-10-13</td>\n",
       "      <td>6952</td>\n",
       "      <td>0</td>\n",
       "      <td>QBGU1W8BRZZFHYUZ</td>\n",
       "      <td>2017-10-09 21:00:00</td>\n",
       "      <td>['Violet Medina']</td>\n",
       "      <td>598.0</td>\n",
       "      <td>2017-10-09</td>\n",
       "      <td>4 days</td>\n",
       "    </tr>\n",
       "    <tr>\n",
       "      <th>1</th>\n",
       "      <td>HZSXLI1IS9RGABZW</td>\n",
       "      <td>D0AUXPP07H6AVSGD</td>\n",
       "      <td>Melancholy Social-Role</td>\n",
       "      <td>2017-10-13</td>\n",
       "      <td>6952</td>\n",
       "      <td>0</td>\n",
       "      <td>QFNO07V7P3BTJSDK</td>\n",
       "      <td>2018-06-07 07:00:00</td>\n",
       "      <td>['Connie Harper']</td>\n",
       "      <td>89.0</td>\n",
       "      <td>2018-06-07</td>\n",
       "      <td>-237 days</td>\n",
       "    </tr>\n",
       "  </tbody>\n",
       "</table>\n",
       "</div>"
      ],
      "text/plain": [
       "           Order Id        Company Id            Company Name        Date  \\\n",
       "0  HZSXLI1IS9RGABZW  D0AUXPP07H6AVSGD  Melancholy Social-Role  2017-10-13   \n",
       "1  HZSXLI1IS9RGABZW  D0AUXPP07H6AVSGD  Melancholy Social-Role  2017-10-13   \n",
       "\n",
       "   Order Value  Converted           Meal Id         Date of Meal  \\\n",
       "0         6952          0  QBGU1W8BRZZFHYUZ  2017-10-09 21:00:00   \n",
       "1         6952          0  QFNO07V7P3BTJSDK  2018-06-07 07:00:00   \n",
       "\n",
       "        Participants  Meal Price   Meal_Date Response rate  \n",
       "0  ['Violet Medina']       598.0  2017-10-09        4 days  \n",
       "1  ['Connie Harper']        89.0  2018-06-07     -237 days  "
      ]
     },
     "execution_count": 386,
     "metadata": {},
     "output_type": "execute_result"
    }
   ],
   "source": [
    "orders_invoices.head(2)"
   ]
  },
  {
   "cell_type": "markdown",
   "metadata": {
    "slideshow": {
     "slide_type": "fragment"
    }
   },
   "source": [
    "Понятно, что теперь мы можем просто избавиться от дубликатов через drop_duplicates().<br>\n",
    "Но в таком случае нет уверенности, что мы удалим верные столбцы, как понять должен ли первый столбец остаться или нет? \n",
    "<br>\n",
    "<br>\n",
    "Очевидно, что используя имеющиеся столбцы мы не сможем точно отделить ложные столбцы от истинных <br>\n",
    "Потому в ходе бесчисленных проб и ошибок, было определено, что присуствуют аномальные значения в разнице между тем, когда был получен заказ и тем когда принят в работу. Сейчас покажу"
   ]
  },
  {
   "cell_type": "markdown",
   "metadata": {
    "slideshow": {
     "slide_type": "slide"
    }
   },
   "source": [
    "У нас есть дата трапезы и дата, когда был осуществлен заказ. Выявим скорость реакции менеджеров"
   ]
  },
  {
   "cell_type": "code",
   "execution_count": 384,
   "metadata": {
    "slideshow": {
     "slide_type": "fragment"
    }
   },
   "outputs": [],
   "source": [
    "orders_invoices['Response rate'] = orders_invoices['Date']- orders_invoices['Meal_Date']"
   ]
  },
  {
   "cell_type": "code",
   "execution_count": 422,
   "metadata": {
    "slideshow": {
     "slide_type": "subslide"
    }
   },
   "outputs": [
    {
     "data": {
      "text/html": [
       "<div>\n",
       "<style scoped>\n",
       "    .dataframe tbody tr th:only-of-type {\n",
       "        vertical-align: middle;\n",
       "    }\n",
       "\n",
       "    .dataframe tbody tr th {\n",
       "        vertical-align: top;\n",
       "    }\n",
       "\n",
       "    .dataframe thead th {\n",
       "        text-align: right;\n",
       "    }\n",
       "</style>\n",
       "<table border=\"1\" class=\"dataframe\">\n",
       "  <thead>\n",
       "    <tr style=\"text-align: right;\">\n",
       "      <th></th>\n",
       "      <th>Order Id</th>\n",
       "      <th>Response rate</th>\n",
       "    </tr>\n",
       "  </thead>\n",
       "  <tbody>\n",
       "    <tr>\n",
       "      <th>0</th>\n",
       "      <td>HZSXLI1IS9RGABZW</td>\n",
       "      <td>4 days</td>\n",
       "    </tr>\n",
       "    <tr>\n",
       "      <th>1</th>\n",
       "      <td>HZSXLI1IS9RGABZW</td>\n",
       "      <td>-237 days</td>\n",
       "    </tr>\n",
       "  </tbody>\n",
       "</table>\n",
       "</div>"
      ],
      "text/plain": [
       "           Order Id Response rate\n",
       "0  HZSXLI1IS9RGABZW        4 days\n",
       "1  HZSXLI1IS9RGABZW     -237 days"
      ]
     },
     "execution_count": 422,
     "metadata": {},
     "output_type": "execute_result"
    }
   ],
   "source": [
    "orders_invoices[['Order Id','Response rate']].head(2)"
   ]
  },
  {
   "cell_type": "markdown",
   "metadata": {
    "slideshow": {
     "slide_type": "fragment"
    }
   },
   "source": [
    "Как видно, присутсвуют как различия в 4 дня так и 237 и это все для одного order_id"
   ]
  },
  {
   "cell_type": "markdown",
   "metadata": {
    "slideshow": {
     "slide_type": "fragment"
    }
   },
   "source": [
    "Избавимся от знака минус и преобразуем разницу в днях в число ( так с ним проще работать) "
   ]
  },
  {
   "cell_type": "code",
   "execution_count": 392,
   "metadata": {
    "slideshow": {
     "slide_type": "subslide"
    }
   },
   "outputs": [],
   "source": [
    "orders_invoices['abs_response rate'] = abs(orders_invoices['Response rate'])"
   ]
  },
  {
   "cell_type": "code",
   "execution_count": 393,
   "metadata": {
    "slideshow": {
     "slide_type": "fragment"
    }
   },
   "outputs": [],
   "source": [
    "orders_invoices['abs_response rate'] = (orders_invoices['abs_response rate'] / np.timedelta64(1, 'D')).astype(int)"
   ]
  },
  {
   "cell_type": "code",
   "execution_count": 426,
   "metadata": {
    "slideshow": {
     "slide_type": "fragment"
    }
   },
   "outputs": [
    {
     "data": {
      "text/html": [
       "<div>\n",
       "<style scoped>\n",
       "    .dataframe tbody tr th:only-of-type {\n",
       "        vertical-align: middle;\n",
       "    }\n",
       "\n",
       "    .dataframe tbody tr th {\n",
       "        vertical-align: top;\n",
       "    }\n",
       "\n",
       "    .dataframe thead th {\n",
       "        text-align: right;\n",
       "    }\n",
       "</style>\n",
       "<table border=\"1\" class=\"dataframe\">\n",
       "  <thead>\n",
       "    <tr style=\"text-align: right;\">\n",
       "      <th></th>\n",
       "      <th>Order Id</th>\n",
       "      <th>abs_response rate</th>\n",
       "    </tr>\n",
       "  </thead>\n",
       "  <tbody>\n",
       "    <tr>\n",
       "      <th>0</th>\n",
       "      <td>HZSXLI1IS9RGABZW</td>\n",
       "      <td>4</td>\n",
       "    </tr>\n",
       "    <tr>\n",
       "      <th>1</th>\n",
       "      <td>HZSXLI1IS9RGABZW</td>\n",
       "      <td>237</td>\n",
       "    </tr>\n",
       "    <tr>\n",
       "      <th>2</th>\n",
       "      <td>HZSXLI1IS9RGABZW</td>\n",
       "      <td>1030</td>\n",
       "    </tr>\n",
       "  </tbody>\n",
       "</table>\n",
       "</div>"
      ],
      "text/plain": [
       "           Order Id  abs_response rate\n",
       "0  HZSXLI1IS9RGABZW                  4\n",
       "1  HZSXLI1IS9RGABZW                237\n",
       "2  HZSXLI1IS9RGABZW               1030"
      ]
     },
     "execution_count": 426,
     "metadata": {},
     "output_type": "execute_result"
    }
   ],
   "source": [
    "orders_invoices[['Order Id','abs_response rate']].head(3)"
   ]
  },
  {
   "cell_type": "markdown",
   "metadata": {
    "slideshow": {
     "slide_type": "fragment"
    }
   },
   "source": [
    "Что у нас получилось: <br> Есть заказ и ряд его дубликатов. В каждой строчке присутсвует \"скорость реакции\", т.е кол-во дней, спустя которое был ответ на заказ.\n",
    "Нас интересует строка, в которой \"скорость реакции\" наименьшая. Вероятно тем самым мы удалим какие то заказы, где скорость ответа была спустя 10, 20, 30 или 200 дней, но такие данные скорее относятся к выбросам и в любом случае искажают оценку. <br>\n",
    "Потому, ограничим скорость реакции кол-вом дней"
   ]
  },
  {
   "cell_type": "code",
   "execution_count": 427,
   "metadata": {
    "slideshow": {
     "slide_type": "fragment"
    }
   },
   "outputs": [],
   "source": [
    "orders_with_invoices = orders_invoices[orders_invoices['abs_response rate'] < 5]"
   ]
  },
  {
   "cell_type": "markdown",
   "metadata": {
    "slideshow": {
     "slide_type": "slide"
    }
   },
   "source": [
    "Далее, отсортируем заказы в наборе данных так, чтоб строки с наименьшей скоростью реакции были на первом месте и избавимся от дубликатов, оставив только первые значения"
   ]
  },
  {
   "cell_type": "code",
   "execution_count": 419,
   "metadata": {
    "slideshow": {
     "slide_type": "fragment"
    }
   },
   "outputs": [],
   "source": [
    "orders_with_invoices = orders_with_invoices.loc[(orders_with_invoices['abs_response rate']).sort_values().index]"
   ]
  },
  {
   "cell_type": "code",
   "execution_count": 431,
   "metadata": {
    "slideshow": {
     "slide_type": "fragment"
    }
   },
   "outputs": [],
   "source": [
    "orders_with_invoices = orders_with_invoices.drop_duplicates(subset='Order Id', keep= 'first')"
   ]
  },
  {
   "cell_type": "code",
   "execution_count": 432,
   "metadata": {
    "slideshow": {
     "slide_type": "fragment"
    }
   },
   "outputs": [
    {
     "data": {
      "text/html": [
       "<div>\n",
       "<style scoped>\n",
       "    .dataframe tbody tr th:only-of-type {\n",
       "        vertical-align: middle;\n",
       "    }\n",
       "\n",
       "    .dataframe tbody tr th {\n",
       "        vertical-align: top;\n",
       "    }\n",
       "\n",
       "    .dataframe thead th {\n",
       "        text-align: right;\n",
       "    }\n",
       "</style>\n",
       "<table border=\"1\" class=\"dataframe\">\n",
       "  <thead>\n",
       "    <tr style=\"text-align: right;\">\n",
       "      <th></th>\n",
       "      <th>Order Id</th>\n",
       "      <th>abs_response rate</th>\n",
       "    </tr>\n",
       "  </thead>\n",
       "  <tbody>\n",
       "    <tr>\n",
       "      <th>0</th>\n",
       "      <td>HZSXLI1IS9RGABZW</td>\n",
       "      <td>4</td>\n",
       "    </tr>\n",
       "    <tr>\n",
       "      <th>37</th>\n",
       "      <td>N3EDZ5V1WGSWW828</td>\n",
       "      <td>4</td>\n",
       "    </tr>\n",
       "    <tr>\n",
       "      <th>74</th>\n",
       "      <td>7V1CDIHQAPCGRJZ2</td>\n",
       "      <td>1</td>\n",
       "    </tr>\n",
       "    <tr>\n",
       "      <th>123</th>\n",
       "      <td>E0WXT40V40H1VH8E</td>\n",
       "      <td>3</td>\n",
       "    </tr>\n",
       "    <tr>\n",
       "      <th>148</th>\n",
       "      <td>7YGQCAR5C119J7NC</td>\n",
       "      <td>2</td>\n",
       "    </tr>\n",
       "  </tbody>\n",
       "</table>\n",
       "</div>"
      ],
      "text/plain": [
       "             Order Id  abs_response rate\n",
       "0    HZSXLI1IS9RGABZW                  4\n",
       "37   N3EDZ5V1WGSWW828                  4\n",
       "74   7V1CDIHQAPCGRJZ2                  1\n",
       "123  E0WXT40V40H1VH8E                  3\n",
       "148  7YGQCAR5C119J7NC                  2"
      ]
     },
     "execution_count": 432,
     "metadata": {},
     "output_type": "execute_result"
    }
   ],
   "source": [
    "orders_with_invoices[['Order Id','abs_response rate']].head(5)"
   ]
  },
  {
   "cell_type": "markdown",
   "metadata": {
    "slideshow": {
     "slide_type": "slide"
    }
   },
   "source": [
    "Кажется все, но что делать с заказами, в которых отсутсвовали встречи? <br>\n",
    "Для начала определим их:"
   ]
  },
  {
   "cell_type": "code",
   "execution_count": 406,
   "metadata": {
    "slideshow": {
     "slide_type": "fragment"
    }
   },
   "outputs": [],
   "source": [
    "orders_without_invoices = order_leads[order_leads['Order Id'].isin(orders_with_invoices['Order Id'].unique())]"
   ]
  },
  {
   "cell_type": "code",
   "execution_count": 408,
   "metadata": {
    "slideshow": {
     "slide_type": "fragment"
    }
   },
   "outputs": [
    {
     "data": {
      "text/html": [
       "<div>\n",
       "<style scoped>\n",
       "    .dataframe tbody tr th:only-of-type {\n",
       "        vertical-align: middle;\n",
       "    }\n",
       "\n",
       "    .dataframe tbody tr th {\n",
       "        vertical-align: top;\n",
       "    }\n",
       "\n",
       "    .dataframe thead th {\n",
       "        text-align: right;\n",
       "    }\n",
       "</style>\n",
       "<table border=\"1\" class=\"dataframe\">\n",
       "  <thead>\n",
       "    <tr style=\"text-align: right;\">\n",
       "      <th></th>\n",
       "      <th>Order Id</th>\n",
       "      <th>Company Id</th>\n",
       "      <th>Company Name</th>\n",
       "      <th>Date</th>\n",
       "      <th>Order Value</th>\n",
       "      <th>Converted</th>\n",
       "    </tr>\n",
       "  </thead>\n",
       "  <tbody>\n",
       "    <tr>\n",
       "      <th>0</th>\n",
       "      <td>HZSXLI1IS9RGABZW</td>\n",
       "      <td>D0AUXPP07H6AVSGD</td>\n",
       "      <td>Melancholy Social-Role</td>\n",
       "      <td>2017-10-13</td>\n",
       "      <td>6952</td>\n",
       "      <td>0</td>\n",
       "    </tr>\n",
       "    <tr>\n",
       "      <th>3</th>\n",
       "      <td>N3EDZ5V1WGSWW828</td>\n",
       "      <td>D0AUXPP07H6AVSGD</td>\n",
       "      <td>Melancholy Social-Role</td>\n",
       "      <td>2018-06-03</td>\n",
       "      <td>1113</td>\n",
       "      <td>0</td>\n",
       "    </tr>\n",
       "  </tbody>\n",
       "</table>\n",
       "</div>"
      ],
      "text/plain": [
       "           Order Id        Company Id            Company Name       Date  \\\n",
       "0  HZSXLI1IS9RGABZW  D0AUXPP07H6AVSGD  Melancholy Social-Role 2017-10-13   \n",
       "3  N3EDZ5V1WGSWW828  D0AUXPP07H6AVSGD  Melancholy Social-Role 2018-06-03   \n",
       "\n",
       "   Order Value  Converted  \n",
       "0         6952          0  \n",
       "3         1113          0  "
      ]
     },
     "execution_count": 408,
     "metadata": {},
     "output_type": "execute_result"
    }
   ],
   "source": [
    "orders_without_invoices.head(2)"
   ]
  },
  {
   "cell_type": "markdown",
   "metadata": {
    "slideshow": {
     "slide_type": "slide"
    }
   },
   "source": [
    "И теперь просто добавим их в orders_with_invoices тем самым собрав полный датасет без дубликатов"
   ]
  },
  {
   "cell_type": "code",
   "execution_count": 437,
   "metadata": {
    "slideshow": {
     "slide_type": "fragment"
    }
   },
   "outputs": [],
   "source": [
    "orders_invoices = pd.concat([orders_with_invoices,orders_without_invoices],sort=True)"
   ]
  },
  {
   "cell_type": "markdown",
   "metadata": {
    "slideshow": {
     "slide_type": "fragment"
    }
   },
   "source": [
    "Избавимся от лишних значений ( abs_response rate, название компании и пр) и поменяем столбцы местами для лучшего восприятия"
   ]
  },
  {
   "cell_type": "code",
   "execution_count": 441,
   "metadata": {
    "slideshow": {
     "slide_type": "fragment"
    }
   },
   "outputs": [],
   "source": [
    "orders_invoices = orders_invoices[['Order Id', 'Company Id','Meal Id','Date','Date of Meal','Response rate','Order Value','Meal Price','Participants','Converted']]"
   ]
  },
  {
   "cell_type": "code",
   "execution_count": 443,
   "metadata": {
    "slideshow": {
     "slide_type": "fragment"
    }
   },
   "outputs": [
    {
     "data": {
      "text/html": [
       "<div>\n",
       "<style scoped>\n",
       "    .dataframe tbody tr th:only-of-type {\n",
       "        vertical-align: middle;\n",
       "    }\n",
       "\n",
       "    .dataframe tbody tr th {\n",
       "        vertical-align: top;\n",
       "    }\n",
       "\n",
       "    .dataframe thead th {\n",
       "        text-align: right;\n",
       "    }\n",
       "</style>\n",
       "<table border=\"1\" class=\"dataframe\">\n",
       "  <thead>\n",
       "    <tr style=\"text-align: right;\">\n",
       "      <th></th>\n",
       "      <th>Order Id</th>\n",
       "      <th>Company Id</th>\n",
       "      <th>Meal Id</th>\n",
       "      <th>Date</th>\n",
       "      <th>Date of Meal</th>\n",
       "      <th>Response rate</th>\n",
       "      <th>Order Value</th>\n",
       "      <th>Meal Price</th>\n",
       "      <th>Participants</th>\n",
       "      <th>Converted</th>\n",
       "    </tr>\n",
       "  </thead>\n",
       "  <tbody>\n",
       "    <tr>\n",
       "      <th>0</th>\n",
       "      <td>HZSXLI1IS9RGABZW</td>\n",
       "      <td>D0AUXPP07H6AVSGD</td>\n",
       "      <td>QBGU1W8BRZZFHYUZ</td>\n",
       "      <td>2017-10-13</td>\n",
       "      <td>2017-10-09 21:00:00</td>\n",
       "      <td>4 days</td>\n",
       "      <td>6952</td>\n",
       "      <td>598.0</td>\n",
       "      <td>['Violet Medina']</td>\n",
       "      <td>0</td>\n",
       "    </tr>\n",
       "  </tbody>\n",
       "</table>\n",
       "</div>"
      ],
      "text/plain": [
       "           Order Id        Company Id           Meal Id        Date  \\\n",
       "0  HZSXLI1IS9RGABZW  D0AUXPP07H6AVSGD  QBGU1W8BRZZFHYUZ  2017-10-13   \n",
       "\n",
       "          Date of Meal Response rate  Order Value  Meal Price  \\\n",
       "0  2017-10-09 21:00:00        4 days         6952       598.0   \n",
       "\n",
       "        Participants  Converted  \n",
       "0  ['Violet Medina']          0  "
      ]
     },
     "execution_count": 443,
     "metadata": {},
     "output_type": "execute_result"
    }
   ],
   "source": [
    "orders_invoices.head(1)"
   ]
  },
  {
   "cell_type": "markdown",
   "metadata": {
    "slideshow": {
     "slide_type": "fragment"
    }
   },
   "source": [
    "Теперь с этим можно работать"
   ]
  },
  {
   "cell_type": "markdown",
   "metadata": {
    "slideshow": {
     "slide_type": "skip"
    }
   },
   "source": [
    "#### 1. Для начала посчитает кол-во участником .Чтоб посчитать кол-во участников на каждой встрече, необходимо очистить столбце \"Participants\" от лишних символов"
   ]
  },
  {
   "cell_type": "code",
   "execution_count": 847,
   "metadata": {
    "slideshow": {
     "slide_type": "skip"
    }
   },
   "outputs": [],
   "source": [
    "orders_invoices['Participants'] = orders_invoices['Participants'].str.replace(\"\\n\", \"\")"
   ]
  },
  {
   "cell_type": "code",
   "execution_count": 848,
   "metadata": {
    "slideshow": {
     "slide_type": "skip"
    }
   },
   "outputs": [],
   "source": [
    "orders_invoices['Participants'] = orders_invoices['Participants'].str.replace(\"' '\", \";\")"
   ]
  },
  {
   "cell_type": "code",
   "execution_count": 849,
   "metadata": {
    "slideshow": {
     "slide_type": "skip"
    }
   },
   "outputs": [],
   "source": [
    "orders_invoices['Participants'] = orders_invoices['Participants'].str.replace(\"'\", '')"
   ]
  },
  {
   "cell_type": "code",
   "execution_count": 850,
   "metadata": {
    "slideshow": {
     "slide_type": "skip"
    }
   },
   "outputs": [],
   "source": [
    "orders_invoices['Participants_num'] = orders_invoices['Participants'].str.split(';').str.len()"
   ]
  },
  {
   "cell_type": "code",
   "execution_count": 851,
   "metadata": {
    "slideshow": {
     "slide_type": "skip"
    }
   },
   "outputs": [
    {
     "data": {
      "text/html": [
       "<div>\n",
       "<style scoped>\n",
       "    .dataframe tbody tr th:only-of-type {\n",
       "        vertical-align: middle;\n",
       "    }\n",
       "\n",
       "    .dataframe tbody tr th {\n",
       "        vertical-align: top;\n",
       "    }\n",
       "\n",
       "    .dataframe thead th {\n",
       "        text-align: right;\n",
       "    }\n",
       "</style>\n",
       "<table border=\"1\" class=\"dataframe\">\n",
       "  <thead>\n",
       "    <tr style=\"text-align: right;\">\n",
       "      <th></th>\n",
       "      <th>Company Id</th>\n",
       "      <th>Company Name</th>\n",
       "      <th>Converted</th>\n",
       "      <th>Date</th>\n",
       "      <th>Date of Meal</th>\n",
       "      <th>Meal Id</th>\n",
       "      <th>Meal Price</th>\n",
       "      <th>Order Id</th>\n",
       "      <th>Order Value</th>\n",
       "      <th>Participants</th>\n",
       "      <th>Response rate</th>\n",
       "      <th>Participants_num</th>\n",
       "    </tr>\n",
       "  </thead>\n",
       "  <tbody>\n",
       "    <tr>\n",
       "      <th>0</th>\n",
       "      <td>7PKOF5CFWIDLZ2IQ</td>\n",
       "      <td>Sorry Kleiber</td>\n",
       "      <td>0</td>\n",
       "      <td>2014-03-18</td>\n",
       "      <td>2014-03-16 13:00:00</td>\n",
       "      <td>JFAVGRX6FER1FCHS</td>\n",
       "      <td>259.0</td>\n",
       "      <td>001WR17EJ3DM5718</td>\n",
       "      <td>3284</td>\n",
       "      <td>[Gertrude Whitesell]</td>\n",
       "      <td>2 days</td>\n",
       "      <td>1</td>\n",
       "    </tr>\n",
       "    <tr>\n",
       "      <th>1</th>\n",
       "      <td>S2QFKE57NAO9S6C1</td>\n",
       "      <td>Boon Bones</td>\n",
       "      <td>0</td>\n",
       "      <td>2015-01-02</td>\n",
       "      <td>2015-01-05 22:00:00</td>\n",
       "      <td>NS6QKASRY9CXP6M2</td>\n",
       "      <td>620.0</td>\n",
       "      <td>002CUFNK5F5QTIZ7</td>\n",
       "      <td>7383</td>\n",
       "      <td>[Elsie Pax;Erna Theus;Carolyn Walker]</td>\n",
       "      <td>-3 days</td>\n",
       "      <td>3</td>\n",
       "    </tr>\n",
       "  </tbody>\n",
       "</table>\n",
       "</div>"
      ],
      "text/plain": [
       "         Company Id   Company Name  Converted        Date  \\\n",
       "0  7PKOF5CFWIDLZ2IQ  Sorry Kleiber          0  2014-03-18   \n",
       "1  S2QFKE57NAO9S6C1     Boon Bones          0  2015-01-02   \n",
       "\n",
       "          Date of Meal           Meal Id  Meal Price          Order Id  \\\n",
       "0  2014-03-16 13:00:00  JFAVGRX6FER1FCHS       259.0  001WR17EJ3DM5718   \n",
       "1  2015-01-05 22:00:00  NS6QKASRY9CXP6M2       620.0  002CUFNK5F5QTIZ7   \n",
       "\n",
       "   Order Value                           Participants Response rate  \\\n",
       "0         3284                   [Gertrude Whitesell]        2 days   \n",
       "1         7383  [Elsie Pax;Erna Theus;Carolyn Walker]       -3 days   \n",
       "\n",
       "   Participants_num  \n",
       "0                 1  \n",
       "1                 3  "
      ]
     },
     "execution_count": 851,
     "metadata": {},
     "output_type": "execute_result"
    }
   ],
   "source": [
    "orders_invoices.head(2)"
   ]
  },
  {
   "cell_type": "code",
   "execution_count": 852,
   "metadata": {
    "slideshow": {
     "slide_type": "skip"
    }
   },
   "outputs": [
    {
     "data": {
      "text/plain": [
       "Participants_num\n",
       "1    405.199507\n",
       "2    404.318517\n",
       "3    406.192838\n",
       "4    413.968147\n",
       "5    414.801262\n",
       "Name: Meal Price, dtype: float64"
      ]
     },
     "execution_count": 852,
     "metadata": {},
     "output_type": "execute_result"
    }
   ],
   "source": [
    "orders_invoices.groupby(orders_invoices['Participants_num']).mean().head()['Meal Price']"
   ]
  },
  {
   "cell_type": "markdown",
   "metadata": {
    "slideshow": {
     "slide_type": "skip"
    }
   },
   "source": [
    "##### Тут видно, что стоимость ужина в среднем всегда одинакова, независимо от числа клиентов, выявим затраты на 1-го человека"
   ]
  },
  {
   "cell_type": "code",
   "execution_count": 853,
   "metadata": {
    "slideshow": {
     "slide_type": "skip"
    }
   },
   "outputs": [],
   "source": [
    "orders_invoices['Meal Cost per 1'] = orders_invoices['Meal Price']/orders_invoices['Participants_num']"
   ]
  },
  {
   "cell_type": "code",
   "execution_count": 854,
   "metadata": {
    "slideshow": {
     "slide_type": "skip"
    }
   },
   "outputs": [
    {
     "data": {
      "text/html": [
       "<div>\n",
       "<style scoped>\n",
       "    .dataframe tbody tr th:only-of-type {\n",
       "        vertical-align: middle;\n",
       "    }\n",
       "\n",
       "    .dataframe tbody tr th {\n",
       "        vertical-align: top;\n",
       "    }\n",
       "\n",
       "    .dataframe thead th {\n",
       "        text-align: right;\n",
       "    }\n",
       "</style>\n",
       "<table border=\"1\" class=\"dataframe\">\n",
       "  <thead>\n",
       "    <tr style=\"text-align: right;\">\n",
       "      <th></th>\n",
       "      <th>Company Id</th>\n",
       "      <th>Company Name</th>\n",
       "      <th>Converted</th>\n",
       "      <th>Date</th>\n",
       "      <th>Date of Meal</th>\n",
       "      <th>Meal Id</th>\n",
       "      <th>Meal Price</th>\n",
       "      <th>Order Id</th>\n",
       "      <th>Order Value</th>\n",
       "      <th>Participants</th>\n",
       "      <th>Response rate</th>\n",
       "      <th>Participants_num</th>\n",
       "      <th>Meal Cost per 1</th>\n",
       "    </tr>\n",
       "  </thead>\n",
       "  <tbody>\n",
       "    <tr>\n",
       "      <th>0</th>\n",
       "      <td>7PKOF5CFWIDLZ2IQ</td>\n",
       "      <td>Sorry Kleiber</td>\n",
       "      <td>0</td>\n",
       "      <td>2014-03-18</td>\n",
       "      <td>2014-03-16 13:00:00</td>\n",
       "      <td>JFAVGRX6FER1FCHS</td>\n",
       "      <td>259.0</td>\n",
       "      <td>001WR17EJ3DM5718</td>\n",
       "      <td>3284</td>\n",
       "      <td>[Gertrude Whitesell]</td>\n",
       "      <td>2 days</td>\n",
       "      <td>1</td>\n",
       "      <td>259.000000</td>\n",
       "    </tr>\n",
       "    <tr>\n",
       "      <th>1</th>\n",
       "      <td>S2QFKE57NAO9S6C1</td>\n",
       "      <td>Boon Bones</td>\n",
       "      <td>0</td>\n",
       "      <td>2015-01-02</td>\n",
       "      <td>2015-01-05 22:00:00</td>\n",
       "      <td>NS6QKASRY9CXP6M2</td>\n",
       "      <td>620.0</td>\n",
       "      <td>002CUFNK5F5QTIZ7</td>\n",
       "      <td>7383</td>\n",
       "      <td>[Elsie Pax;Erna Theus;Carolyn Walker]</td>\n",
       "      <td>-3 days</td>\n",
       "      <td>3</td>\n",
       "      <td>206.666667</td>\n",
       "    </tr>\n",
       "  </tbody>\n",
       "</table>\n",
       "</div>"
      ],
      "text/plain": [
       "         Company Id   Company Name  Converted        Date  \\\n",
       "0  7PKOF5CFWIDLZ2IQ  Sorry Kleiber          0  2014-03-18   \n",
       "1  S2QFKE57NAO9S6C1     Boon Bones          0  2015-01-02   \n",
       "\n",
       "          Date of Meal           Meal Id  Meal Price          Order Id  \\\n",
       "0  2014-03-16 13:00:00  JFAVGRX6FER1FCHS       259.0  001WR17EJ3DM5718   \n",
       "1  2015-01-05 22:00:00  NS6QKASRY9CXP6M2       620.0  002CUFNK5F5QTIZ7   \n",
       "\n",
       "   Order Value                           Participants Response rate  \\\n",
       "0         3284                   [Gertrude Whitesell]        2 days   \n",
       "1         7383  [Elsie Pax;Erna Theus;Carolyn Walker]       -3 days   \n",
       "\n",
       "   Participants_num  Meal Cost per 1  \n",
       "0                 1       259.000000  \n",
       "1                 3       206.666667  "
      ]
     },
     "execution_count": 854,
     "metadata": {},
     "output_type": "execute_result"
    }
   ],
   "source": [
    "orders_invoices.head(2)"
   ]
  },
  {
   "cell_type": "markdown",
   "metadata": {
    "slideshow": {
     "slide_type": "skip"
    }
   },
   "source": [
    "Перед тем как проводить дальнейший анализ, добавил еще 1 параметр в таблицу - время встречи"
   ]
  },
  {
   "cell_type": "code",
   "execution_count": 855,
   "metadata": {
    "slideshow": {
     "slide_type": "skip"
    }
   },
   "outputs": [],
   "source": [
    "orders_invoices['Meal Time']= pd.to_datetime(orders_invoices['Date of Meal']).dt.time"
   ]
  },
  {
   "cell_type": "markdown",
   "metadata": {
    "slideshow": {
     "slide_type": "skip"
    }
   },
   "source": [
    "https://stackoverflow.com/questions/37801321/python-pandas-convert-string-to-time-only"
   ]
  },
  {
   "cell_type": "code",
   "execution_count": 856,
   "metadata": {
    "slideshow": {
     "slide_type": "skip"
    }
   },
   "outputs": [
    {
     "data": {
      "text/plain": [
       "array([datetime.time(13, 0), datetime.time(22, 0), datetime.time(7, 0),\n",
       "       datetime.time(12, 0), datetime.time(14, 0), datetime.time(20, 0),\n",
       "       datetime.time(8, 0), datetime.time(9, 0), datetime.time(21, 0),\n",
       "       NaT], dtype=object)"
      ]
     },
     "execution_count": 856,
     "metadata": {},
     "output_type": "execute_result"
    }
   ],
   "source": [
    "pd.unique(orders_invoices['Meal Time'])"
   ]
  },
  {
   "cell_type": "markdown",
   "metadata": {
    "slideshow": {
     "slide_type": "skip"
    }
   },
   "source": [
    "описать на что ссылаюсь при определении интервалов"
   ]
  },
  {
   "cell_type": "code",
   "execution_count": 857,
   "metadata": {
    "slideshow": {
     "slide_type": "skip"
    }
   },
   "outputs": [],
   "source": [
    "orders_invoices['Meal Time'] = orders_invoices['Meal Time'].astype(str)"
   ]
  },
  {
   "cell_type": "code",
   "execution_count": 858,
   "metadata": {
    "slideshow": {
     "slide_type": "skip"
    }
   },
   "outputs": [],
   "source": [
    "def label_race (row):\n",
    "    if row['Meal Time'] == '07:00:00' :\n",
    "        return 'Breakfast'\n",
    "    if row['Meal Time'] == '08:00:00' :\n",
    "        return 'Breakfast'\n",
    "    if row['Meal Time'] == '09:00:00' :\n",
    "        return 'Breakfast'\n",
    "    if row['Meal Time'] == '12:00:00' :\n",
    "        return 'Lunch'\n",
    "    if row['Meal Time'] == '13:00:00' :\n",
    "        return 'Lunch'\n",
    "    if row['Meal Time'] == '14:00:00' :\n",
    "        return 'Lunch'\n",
    "    if row['Meal Time'] == '20:00:00' :\n",
    "        return 'Dinner'\n",
    "    if row['Meal Time'] == '21:00:00' :\n",
    "        return 'Dinner'\n",
    "    if row['Meal Time'] == '22:00:00' :\n",
    "        return 'Dinner'\n",
    "    if row['Meal Time'] == 'NaT' :\n",
    "        return 'Without Meal'"
   ]
  },
  {
   "cell_type": "markdown",
   "metadata": {
    "slideshow": {
     "slide_type": "skip"
    }
   },
   "source": [
    "Показать как проверял наличие/ отсутсвие конверсии"
   ]
  },
  {
   "cell_type": "code",
   "execution_count": 859,
   "metadata": {
    "slideshow": {
     "slide_type": "skip"
    }
   },
   "outputs": [],
   "source": [
    "orders_invoices['Meal Type'] = orders_invoices.apply (lambda row: label_race(row), axis=1)"
   ]
  },
  {
   "cell_type": "code",
   "execution_count": 860,
   "metadata": {
    "slideshow": {
     "slide_type": "skip"
    }
   },
   "outputs": [],
   "source": [
    "orders_invoices = orders_invoices.drop(['Meal Time'], axis = 1)"
   ]
  },
  {
   "cell_type": "markdown",
   "metadata": {
    "slideshow": {
     "slide_type": "skip"
    }
   },
   "source": [
    "#### Далее , добавим еще 1 параметр в датасет: доля стоимости обеда от стоимоти заказа"
   ]
  },
  {
   "cell_type": "code",
   "execution_count": 889,
   "metadata": {
    "slideshow": {
     "slide_type": "skip"
    }
   },
   "outputs": [],
   "source": [
    "orders_invoices['Share of value'] =(orders_invoices['Meal Price']/orders_invoices['Order Value'])"
   ]
  },
  {
   "cell_type": "code",
   "execution_count": 890,
   "metadata": {
    "slideshow": {
     "slide_type": "skip"
    }
   },
   "outputs": [],
   "source": [
    "orders_invoices['Share of value'] = round(orders_invoices['Share of value'].astype('float')*100,0) "
   ]
  },
  {
   "cell_type": "markdown",
   "metadata": {
    "slideshow": {
     "slide_type": "skip"
    }
   },
   "source": [
    "https://pandas.pydata.org/pandas-docs/stable/user_guide/style.html"
   ]
  },
  {
   "cell_type": "code",
   "execution_count": 891,
   "metadata": {
    "slideshow": {
     "slide_type": "skip"
    }
   },
   "outputs": [
    {
     "data": {
      "text/html": [
       "<div>\n",
       "<style scoped>\n",
       "    .dataframe tbody tr th:only-of-type {\n",
       "        vertical-align: middle;\n",
       "    }\n",
       "\n",
       "    .dataframe tbody tr th {\n",
       "        vertical-align: top;\n",
       "    }\n",
       "\n",
       "    .dataframe thead th {\n",
       "        text-align: right;\n",
       "    }\n",
       "</style>\n",
       "<table border=\"1\" class=\"dataframe\">\n",
       "  <thead>\n",
       "    <tr style=\"text-align: right;\">\n",
       "      <th></th>\n",
       "      <th>Order Id</th>\n",
       "      <th>Company Id</th>\n",
       "      <th>Meal Id</th>\n",
       "      <th>Date</th>\n",
       "      <th>Date of Meal</th>\n",
       "      <th>Response rate</th>\n",
       "      <th>Order Value</th>\n",
       "      <th>Share of value</th>\n",
       "      <th>Meal Price</th>\n",
       "      <th>Meal Cost per 1</th>\n",
       "      <th>Meal Type</th>\n",
       "      <th>Participants_num</th>\n",
       "      <th>Converted</th>\n",
       "    </tr>\n",
       "  </thead>\n",
       "  <tbody>\n",
       "    <tr>\n",
       "      <th>0</th>\n",
       "      <td>001WR17EJ3DM5718</td>\n",
       "      <td>7PKOF5CFWIDLZ2IQ</td>\n",
       "      <td>JFAVGRX6FER1FCHS</td>\n",
       "      <td>2014-03-18</td>\n",
       "      <td>2014-03-16 13:00:00</td>\n",
       "      <td>2 days</td>\n",
       "      <td>3284</td>\n",
       "      <td>8.0</td>\n",
       "      <td>259.0</td>\n",
       "      <td>259.000000</td>\n",
       "      <td>Lunch</td>\n",
       "      <td>1</td>\n",
       "      <td>0</td>\n",
       "    </tr>\n",
       "    <tr>\n",
       "      <th>1</th>\n",
       "      <td>002CUFNK5F5QTIZ7</td>\n",
       "      <td>S2QFKE57NAO9S6C1</td>\n",
       "      <td>NS6QKASRY9CXP6M2</td>\n",
       "      <td>2015-01-02</td>\n",
       "      <td>2015-01-05 22:00:00</td>\n",
       "      <td>-3 days</td>\n",
       "      <td>7383</td>\n",
       "      <td>8.0</td>\n",
       "      <td>620.0</td>\n",
       "      <td>206.666667</td>\n",
       "      <td>Dinner</td>\n",
       "      <td>3</td>\n",
       "      <td>0</td>\n",
       "    </tr>\n",
       "  </tbody>\n",
       "</table>\n",
       "</div>"
      ],
      "text/plain": [
       "           Order Id        Company Id           Meal Id        Date  \\\n",
       "0  001WR17EJ3DM5718  7PKOF5CFWIDLZ2IQ  JFAVGRX6FER1FCHS  2014-03-18   \n",
       "1  002CUFNK5F5QTIZ7  S2QFKE57NAO9S6C1  NS6QKASRY9CXP6M2  2015-01-02   \n",
       "\n",
       "          Date of Meal Response rate  Order Value  Share of value  Meal Price  \\\n",
       "0  2014-03-16 13:00:00        2 days         3284             8.0       259.0   \n",
       "1  2015-01-05 22:00:00       -3 days         7383             8.0       620.0   \n",
       "\n",
       "   Meal Cost per 1 Meal Type  Participants_num  Converted  \n",
       "0       259.000000     Lunch                 1          0  \n",
       "1       206.666667    Dinner                 3          0  "
      ]
     },
     "execution_count": 891,
     "metadata": {},
     "output_type": "execute_result"
    }
   ],
   "source": [
    "orders_invoices.head(2)"
   ]
  },
  {
   "cell_type": "code",
   "execution_count": 864,
   "metadata": {
    "slideshow": {
     "slide_type": "skip"
    }
   },
   "outputs": [],
   "source": [
    "orders_invoices = orders_invoices[['Order Id', 'Company Id','Meal Id','Date','Date of Meal','Response rate','Order Value','Share of value','Meal Price','Meal Cost per 1','Meal Type','Participants_num','Converted']]"
   ]
  },
  {
   "cell_type": "code",
   "execution_count": 865,
   "metadata": {
    "slideshow": {
     "slide_type": "skip"
    }
   },
   "outputs": [
    {
     "data": {
      "text/html": [
       "<div>\n",
       "<style scoped>\n",
       "    .dataframe tbody tr th:only-of-type {\n",
       "        vertical-align: middle;\n",
       "    }\n",
       "\n",
       "    .dataframe tbody tr th {\n",
       "        vertical-align: top;\n",
       "    }\n",
       "\n",
       "    .dataframe thead th {\n",
       "        text-align: right;\n",
       "    }\n",
       "</style>\n",
       "<table border=\"1\" class=\"dataframe\">\n",
       "  <thead>\n",
       "    <tr style=\"text-align: right;\">\n",
       "      <th></th>\n",
       "      <th>Order Id</th>\n",
       "      <th>Company Id</th>\n",
       "      <th>Meal Id</th>\n",
       "      <th>Date</th>\n",
       "      <th>Date of Meal</th>\n",
       "      <th>Response rate</th>\n",
       "      <th>Order Value</th>\n",
       "      <th>Share of value</th>\n",
       "      <th>Meal Price</th>\n",
       "      <th>Meal Cost per 1</th>\n",
       "      <th>Meal Type</th>\n",
       "      <th>Participants_num</th>\n",
       "      <th>Converted</th>\n",
       "    </tr>\n",
       "  </thead>\n",
       "  <tbody>\n",
       "    <tr>\n",
       "      <th>0</th>\n",
       "      <td>001WR17EJ3DM5718</td>\n",
       "      <td>7PKOF5CFWIDLZ2IQ</td>\n",
       "      <td>JFAVGRX6FER1FCHS</td>\n",
       "      <td>2014-03-18</td>\n",
       "      <td>2014-03-16 13:00:00</td>\n",
       "      <td>2 days</td>\n",
       "      <td>3284</td>\n",
       "      <td>7.89</td>\n",
       "      <td>259.0</td>\n",
       "      <td>259.000000</td>\n",
       "      <td>Lunch</td>\n",
       "      <td>1</td>\n",
       "      <td>0</td>\n",
       "    </tr>\n",
       "    <tr>\n",
       "      <th>1</th>\n",
       "      <td>002CUFNK5F5QTIZ7</td>\n",
       "      <td>S2QFKE57NAO9S6C1</td>\n",
       "      <td>NS6QKASRY9CXP6M2</td>\n",
       "      <td>2015-01-02</td>\n",
       "      <td>2015-01-05 22:00:00</td>\n",
       "      <td>-3 days</td>\n",
       "      <td>7383</td>\n",
       "      <td>8.40</td>\n",
       "      <td>620.0</td>\n",
       "      <td>206.666667</td>\n",
       "      <td>Dinner</td>\n",
       "      <td>3</td>\n",
       "      <td>0</td>\n",
       "    </tr>\n",
       "  </tbody>\n",
       "</table>\n",
       "</div>"
      ],
      "text/plain": [
       "           Order Id        Company Id           Meal Id        Date  \\\n",
       "0  001WR17EJ3DM5718  7PKOF5CFWIDLZ2IQ  JFAVGRX6FER1FCHS  2014-03-18   \n",
       "1  002CUFNK5F5QTIZ7  S2QFKE57NAO9S6C1  NS6QKASRY9CXP6M2  2015-01-02   \n",
       "\n",
       "          Date of Meal Response rate  Order Value  Share of value  Meal Price  \\\n",
       "0  2014-03-16 13:00:00        2 days         3284            7.89       259.0   \n",
       "1  2015-01-05 22:00:00       -3 days         7383            8.40       620.0   \n",
       "\n",
       "   Meal Cost per 1 Meal Type  Participants_num  Converted  \n",
       "0       259.000000     Lunch                 1          0  \n",
       "1       206.666667    Dinner                 3          0  "
      ]
     },
     "execution_count": 865,
     "metadata": {},
     "output_type": "execute_result"
    }
   ],
   "source": [
    "orders_invoices.head(2)"
   ]
  },
  {
   "cell_type": "code",
   "execution_count": 866,
   "metadata": {
    "slideshow": {
     "slide_type": "skip"
    }
   },
   "outputs": [
    {
     "data": {
      "text/plain": [
       "array(['Lunch', 'Dinner', 'Breakfast', 'Without Meal'], dtype=object)"
      ]
     },
     "execution_count": 866,
     "metadata": {},
     "output_type": "execute_result"
    }
   ],
   "source": [
    "pd.unique(orders_invoices['Meal Type'])"
   ]
  },
  {
   "cell_type": "code",
   "execution_count": 867,
   "metadata": {
    "slideshow": {
     "slide_type": "skip"
    }
   },
   "outputs": [
    {
     "data": {
      "text/plain": [
       "Index(['Order Id', 'Company Id', 'Meal Id', 'Date', 'Date of Meal',\n",
       "       'Response rate', 'Order Value', 'Share of value', 'Meal Price',\n",
       "       'Meal Cost per 1', 'Meal Type', 'Participants_num', 'Converted'],\n",
       "      dtype='object')"
      ]
     },
     "execution_count": 867,
     "metadata": {},
     "output_type": "execute_result"
    }
   ],
   "source": [
    "orders_invoices.columns"
   ]
  },
  {
   "cell_type": "code",
   "execution_count": 869,
   "metadata": {
    "slideshow": {
     "slide_type": "skip"
    }
   },
   "outputs": [],
   "source": [
    "df1 = orders_invoices.drop(['Order Id', 'Company Id', 'Meal Id', 'Date', 'Date of Meal'], axis = 1)"
   ]
  },
  {
   "cell_type": "code",
   "execution_count": 870,
   "metadata": {
    "slideshow": {
     "slide_type": "skip"
    }
   },
   "outputs": [
    {
     "data": {
      "text/html": [
       "<div>\n",
       "<style scoped>\n",
       "    .dataframe tbody tr th:only-of-type {\n",
       "        vertical-align: middle;\n",
       "    }\n",
       "\n",
       "    .dataframe tbody tr th {\n",
       "        vertical-align: top;\n",
       "    }\n",
       "\n",
       "    .dataframe thead th {\n",
       "        text-align: right;\n",
       "    }\n",
       "</style>\n",
       "<table border=\"1\" class=\"dataframe\">\n",
       "  <thead>\n",
       "    <tr style=\"text-align: right;\">\n",
       "      <th></th>\n",
       "      <th>Response rate</th>\n",
       "      <th>Order Value</th>\n",
       "      <th>Share of value</th>\n",
       "      <th>Meal Price</th>\n",
       "      <th>Meal Cost per 1</th>\n",
       "      <th>Meal Type</th>\n",
       "      <th>Participants_num</th>\n",
       "      <th>Converted</th>\n",
       "    </tr>\n",
       "  </thead>\n",
       "  <tbody>\n",
       "    <tr>\n",
       "      <th>0</th>\n",
       "      <td>2 days</td>\n",
       "      <td>3284</td>\n",
       "      <td>7.89</td>\n",
       "      <td>259.0</td>\n",
       "      <td>259.000000</td>\n",
       "      <td>Lunch</td>\n",
       "      <td>1</td>\n",
       "      <td>0</td>\n",
       "    </tr>\n",
       "    <tr>\n",
       "      <th>1</th>\n",
       "      <td>-3 days</td>\n",
       "      <td>7383</td>\n",
       "      <td>8.40</td>\n",
       "      <td>620.0</td>\n",
       "      <td>206.666667</td>\n",
       "      <td>Dinner</td>\n",
       "      <td>3</td>\n",
       "      <td>0</td>\n",
       "    </tr>\n",
       "    <tr>\n",
       "      <th>2</th>\n",
       "      <td>0 days</td>\n",
       "      <td>5556</td>\n",
       "      <td>8.10</td>\n",
       "      <td>450.0</td>\n",
       "      <td>150.000000</td>\n",
       "      <td>Breakfast</td>\n",
       "      <td>3</td>\n",
       "      <td>0</td>\n",
       "    </tr>\n",
       "    <tr>\n",
       "      <th>3</th>\n",
       "      <td>-2 days</td>\n",
       "      <td>5067</td>\n",
       "      <td>8.70</td>\n",
       "      <td>441.0</td>\n",
       "      <td>441.000000</td>\n",
       "      <td>Lunch</td>\n",
       "      <td>1</td>\n",
       "      <td>1</td>\n",
       "    </tr>\n",
       "    <tr>\n",
       "      <th>4</th>\n",
       "      <td>-1 days</td>\n",
       "      <td>7519</td>\n",
       "      <td>7.70</td>\n",
       "      <td>579.0</td>\n",
       "      <td>579.000000</td>\n",
       "      <td>Lunch</td>\n",
       "      <td>1</td>\n",
       "      <td>0</td>\n",
       "    </tr>\n",
       "  </tbody>\n",
       "</table>\n",
       "</div>"
      ],
      "text/plain": [
       "  Response rate  Order Value  Share of value  Meal Price  Meal Cost per 1  \\\n",
       "0        2 days         3284            7.89       259.0       259.000000   \n",
       "1       -3 days         7383            8.40       620.0       206.666667   \n",
       "2        0 days         5556            8.10       450.0       150.000000   \n",
       "3       -2 days         5067            8.70       441.0       441.000000   \n",
       "4       -1 days         7519            7.70       579.0       579.000000   \n",
       "\n",
       "   Meal Type  Participants_num  Converted  \n",
       "0      Lunch                 1          0  \n",
       "1     Dinner                 3          0  \n",
       "2  Breakfast                 3          0  \n",
       "3      Lunch                 1          1  \n",
       "4      Lunch                 1          0  "
      ]
     },
     "execution_count": 870,
     "metadata": {},
     "output_type": "execute_result"
    }
   ],
   "source": [
    "df1.head()"
   ]
  },
  {
   "cell_type": "code",
   "execution_count": 882,
   "metadata": {
    "slideshow": {
     "slide_type": "skip"
    }
   },
   "outputs": [
    {
     "data": {
      "text/plain": [
       "Meal Type\n",
       "Breakfast       0.241356\n",
       "Dinner          0.241196\n",
       "Lunch           0.229065\n",
       "Without Meal    0.089909\n",
       "Name: Converted, dtype: float64"
      ]
     },
     "execution_count": 882,
     "metadata": {},
     "output_type": "execute_result"
    }
   ],
   "source": [
    "orders_invoices.groupby(orders_invoices['Meal Type']).mean()['Converted']"
   ]
  },
  {
   "cell_type": "code",
   "execution_count": 883,
   "metadata": {
    "slideshow": {
     "slide_type": "skip"
    }
   },
   "outputs": [
    {
     "data": {
      "text/plain": [
       "Participants_num\n",
       "1    0.171577\n",
       "2    0.164042\n",
       "3    0.164386\n",
       "4    0.164574\n",
       "5    0.164959\n",
       "Name: Converted, dtype: float64"
      ]
     },
     "execution_count": 883,
     "metadata": {},
     "output_type": "execute_result"
    }
   ],
   "source": [
    "orders_invoices.groupby(orders_invoices['Participants_num']).mean()['Converted']"
   ]
  },
  {
   "cell_type": "code",
   "execution_count": 886,
   "metadata": {
    "slideshow": {
     "slide_type": "skip"
    }
   },
   "outputs": [
    {
     "data": {
      "text/plain": [
       "Response rate\n",
       "-6 days    0.108614\n",
       "-5 days    0.088353\n",
       "-4 days    0.215576\n",
       "-3 days    0.211787\n",
       "-2 days    0.226047\n",
       "-1 days    0.230514\n",
       "0 days     0.246222\n",
       "1 days     0.238670\n",
       "2 days     0.243934\n",
       "3 days     0.261628\n",
       "4 days     0.263811\n",
       "5 days     0.254010\n",
       "6 days     0.114983\n",
       "Name: Converted, dtype: float64"
      ]
     },
     "execution_count": 886,
     "metadata": {},
     "output_type": "execute_result"
    }
   ],
   "source": [
    "orders_invoices.groupby(orders_invoices['Response rate']).mean()['Converted']"
   ]
  },
  {
   "cell_type": "code",
   "execution_count": 902,
   "metadata": {
    "scrolled": true,
    "slideshow": {
     "slide_type": "skip"
    }
   },
   "outputs": [
    {
     "data": {
      "text/plain": [
       "Share of value\n",
       "0.0     0.149606\n",
       "1.0     0.147887\n",
       "2.0     0.147147\n",
       "3.0     0.164038\n",
       "4.0     0.162242\n",
       "5.0     0.146119\n",
       "6.0     0.216093\n",
       "7.0     0.230626\n",
       "8.0     0.241750\n",
       "9.0     0.266100\n",
       "10.0    0.266774\n",
       "11.0    0.224189\n",
       "12.0    0.121795\n",
       "13.0    0.120301\n",
       "14.0    0.172414\n",
       "15.0    0.095745\n",
       "16.0    0.083333\n",
       "17.0    0.181818\n",
       "18.0    0.106061\n",
       "19.0    0.142857\n",
       "Name: Converted, dtype: float64"
      ]
     },
     "execution_count": 902,
     "metadata": {},
     "output_type": "execute_result"
    }
   ],
   "source": [
    "orders_invoices.groupby(orders_invoices['Share of value']).mean()['Converted'].head(20)"
   ]
  },
  {
   "cell_type": "code",
   "execution_count": 6,
   "metadata": {
    "slideshow": {
     "slide_type": "skip"
    }
   },
   "outputs": [],
   "source": [
    "def label_race (row):\n",
    "    if row['Meal Cost per 1'] < 300 :\n",
    "        return 'low'\n",
    "    if row['Meal Cost per 1'] > 500 :\n",
    "        return 'high'\n",
    "    return 'middle'\n",
    "   "
   ]
  },
  {
   "cell_type": "code",
   "execution_count": 917,
   "metadata": {
    "slideshow": {
     "slide_type": "skip"
    }
   },
   "outputs": [],
   "source": [
    "orders_invoices['Meal_cost'] = orders_invoices.apply (lambda row: label_race(row), axis=1)"
   ]
  },
  {
   "cell_type": "code",
   "execution_count": 918,
   "metadata": {
    "slideshow": {
     "slide_type": "skip"
    }
   },
   "outputs": [
    {
     "data": {
      "text/html": [
       "<div>\n",
       "<style scoped>\n",
       "    .dataframe tbody tr th:only-of-type {\n",
       "        vertical-align: middle;\n",
       "    }\n",
       "\n",
       "    .dataframe tbody tr th {\n",
       "        vertical-align: top;\n",
       "    }\n",
       "\n",
       "    .dataframe thead th {\n",
       "        text-align: right;\n",
       "    }\n",
       "</style>\n",
       "<table border=\"1\" class=\"dataframe\">\n",
       "  <thead>\n",
       "    <tr style=\"text-align: right;\">\n",
       "      <th></th>\n",
       "      <th>Order Id</th>\n",
       "      <th>Company Id</th>\n",
       "      <th>Meal Id</th>\n",
       "      <th>Date</th>\n",
       "      <th>Date of Meal</th>\n",
       "      <th>Response rate</th>\n",
       "      <th>Order Value</th>\n",
       "      <th>Share of value</th>\n",
       "      <th>Meal Price</th>\n",
       "      <th>Meal Cost per 1</th>\n",
       "      <th>Meal Type</th>\n",
       "      <th>Participants_num</th>\n",
       "      <th>Converted</th>\n",
       "      <th>Meal_cost</th>\n",
       "    </tr>\n",
       "  </thead>\n",
       "  <tbody>\n",
       "    <tr>\n",
       "      <th>0</th>\n",
       "      <td>001WR17EJ3DM5718</td>\n",
       "      <td>7PKOF5CFWIDLZ2IQ</td>\n",
       "      <td>JFAVGRX6FER1FCHS</td>\n",
       "      <td>2014-03-18</td>\n",
       "      <td>2014-03-16 13:00:00</td>\n",
       "      <td>2 days</td>\n",
       "      <td>3284</td>\n",
       "      <td>8.0</td>\n",
       "      <td>259.0</td>\n",
       "      <td>259.000000</td>\n",
       "      <td>Lunch</td>\n",
       "      <td>1</td>\n",
       "      <td>0</td>\n",
       "      <td>middle</td>\n",
       "    </tr>\n",
       "    <tr>\n",
       "      <th>1</th>\n",
       "      <td>002CUFNK5F5QTIZ7</td>\n",
       "      <td>S2QFKE57NAO9S6C1</td>\n",
       "      <td>NS6QKASRY9CXP6M2</td>\n",
       "      <td>2015-01-02</td>\n",
       "      <td>2015-01-05 22:00:00</td>\n",
       "      <td>-3 days</td>\n",
       "      <td>7383</td>\n",
       "      <td>8.0</td>\n",
       "      <td>620.0</td>\n",
       "      <td>206.666667</td>\n",
       "      <td>Dinner</td>\n",
       "      <td>3</td>\n",
       "      <td>0</td>\n",
       "      <td>middle</td>\n",
       "    </tr>\n",
       "    <tr>\n",
       "      <th>2</th>\n",
       "      <td>0035LH7EJKG5L2M3</td>\n",
       "      <td>HFX7ZC32H98TD5Z2</td>\n",
       "      <td>VPJHKJS6W55LE7XP</td>\n",
       "      <td>2018-06-01</td>\n",
       "      <td>2018-06-01 07:00:00</td>\n",
       "      <td>0 days</td>\n",
       "      <td>5556</td>\n",
       "      <td>8.0</td>\n",
       "      <td>450.0</td>\n",
       "      <td>150.000000</td>\n",
       "      <td>Breakfast</td>\n",
       "      <td>3</td>\n",
       "      <td>0</td>\n",
       "      <td>middle</td>\n",
       "    </tr>\n",
       "    <tr>\n",
       "      <th>3</th>\n",
       "      <td>003XD0M3EP8JGLHZ</td>\n",
       "      <td>JOSMFTAQHC20XML4</td>\n",
       "      <td>LFXMAB707S1KNNIK</td>\n",
       "      <td>2017-04-01</td>\n",
       "      <td>2017-04-03 12:00:00</td>\n",
       "      <td>-2 days</td>\n",
       "      <td>5067</td>\n",
       "      <td>9.0</td>\n",
       "      <td>441.0</td>\n",
       "      <td>441.000000</td>\n",
       "      <td>Lunch</td>\n",
       "      <td>1</td>\n",
       "      <td>1</td>\n",
       "      <td>middle</td>\n",
       "    </tr>\n",
       "    <tr>\n",
       "      <th>4</th>\n",
       "      <td>007VXW9SGDMG38MT</td>\n",
       "      <td>3VTILRWIBZ8TY27K</td>\n",
       "      <td>WT4CUD22AK6WJSZO</td>\n",
       "      <td>2014-09-16</td>\n",
       "      <td>2014-09-17 14:00:00</td>\n",
       "      <td>-1 days</td>\n",
       "      <td>7519</td>\n",
       "      <td>8.0</td>\n",
       "      <td>579.0</td>\n",
       "      <td>579.000000</td>\n",
       "      <td>Lunch</td>\n",
       "      <td>1</td>\n",
       "      <td>0</td>\n",
       "      <td>middle</td>\n",
       "    </tr>\n",
       "  </tbody>\n",
       "</table>\n",
       "</div>"
      ],
      "text/plain": [
       "           Order Id        Company Id           Meal Id        Date  \\\n",
       "0  001WR17EJ3DM5718  7PKOF5CFWIDLZ2IQ  JFAVGRX6FER1FCHS  2014-03-18   \n",
       "1  002CUFNK5F5QTIZ7  S2QFKE57NAO9S6C1  NS6QKASRY9CXP6M2  2015-01-02   \n",
       "2  0035LH7EJKG5L2M3  HFX7ZC32H98TD5Z2  VPJHKJS6W55LE7XP  2018-06-01   \n",
       "3  003XD0M3EP8JGLHZ  JOSMFTAQHC20XML4  LFXMAB707S1KNNIK  2017-04-01   \n",
       "4  007VXW9SGDMG38MT  3VTILRWIBZ8TY27K  WT4CUD22AK6WJSZO  2014-09-16   \n",
       "\n",
       "          Date of Meal Response rate  Order Value  Share of value  Meal Price  \\\n",
       "0  2014-03-16 13:00:00        2 days         3284             8.0       259.0   \n",
       "1  2015-01-05 22:00:00       -3 days         7383             8.0       620.0   \n",
       "2  2018-06-01 07:00:00        0 days         5556             8.0       450.0   \n",
       "3  2017-04-03 12:00:00       -2 days         5067             9.0       441.0   \n",
       "4  2014-09-17 14:00:00       -1 days         7519             8.0       579.0   \n",
       "\n",
       "   Meal Cost per 1  Meal Type  Participants_num  Converted Meal_cost  \n",
       "0       259.000000      Lunch                 1          0    middle  \n",
       "1       206.666667     Dinner                 3          0    middle  \n",
       "2       150.000000  Breakfast                 3          0    middle  \n",
       "3       441.000000      Lunch                 1          1    middle  \n",
       "4       579.000000      Lunch                 1          0    middle  "
      ]
     },
     "execution_count": 918,
     "metadata": {},
     "output_type": "execute_result"
    }
   ],
   "source": [
    "orders_invoices.head()"
   ]
  },
  {
   "cell_type": "code",
   "execution_count": 919,
   "metadata": {
    "slideshow": {
     "slide_type": "skip"
    }
   },
   "outputs": [
    {
     "data": {
      "text/plain": [
       "Meal_cost\n",
       "high      0.247706\n",
       "low       0.239368\n",
       "middle    0.160612\n",
       "Name: Converted, dtype: float64"
      ]
     },
     "execution_count": 919,
     "metadata": {},
     "output_type": "execute_result"
    }
   ],
   "source": [
    "orders_invoices.groupby(orders_invoices['Meal_cost']).mean()['Converted']"
   ]
  },
  {
   "cell_type": "code",
   "execution_count": null,
   "metadata": {
    "slideshow": {
     "slide_type": "skip"
    }
   },
   "outputs": [],
   "source": []
  },
  {
   "cell_type": "code",
   "execution_count": null,
   "metadata": {
    "slideshow": {
     "slide_type": "skip"
    }
   },
   "outputs": [],
   "source": []
  },
  {
   "cell_type": "markdown",
   "metadata": {
    "slideshow": {
     "slide_type": "skip"
    }
   },
   "source": [
    "### ВЫВОДЫ"
   ]
  },
  {
   "cell_type": "markdown",
   "metadata": {
    "slideshow": {
     "slide_type": "skip"
    }
   },
   "source": [
    "посмотреть как кол-во человек влияет на конверсию и стоимость обеда"
   ]
  },
  {
   "cell_type": "markdown",
   "metadata": {
    "slideshow": {
     "slide_type": "skip"
    }
   },
   "source": [
    "посмотреть долю чека на еду в value заказа ( понять сколько должна составлять доля для наивысшей конверсии) - дорогой/дешевы заказ"
   ]
  },
  {
   "cell_type": "markdown",
   "metadata": {
    "slideshow": {
     "slide_type": "skip"
    }
   },
   "source": [
    "### Чтож, теперь попробуем собрать информацию вместе и проанализировать зависимость конверсии от других показателей"
   ]
  },
  {
   "cell_type": "code",
   "execution_count": 874,
   "metadata": {
    "slideshow": {
     "slide_type": "skip"
    }
   },
   "outputs": [],
   "source": [
    "team_orders = pd.merge(sales_team,order_leads,on=['Company Id','Company Name'])"
   ]
  },
  {
   "cell_type": "code",
   "execution_count": 875,
   "metadata": {
    "slideshow": {
     "slide_type": "skip"
    }
   },
   "outputs": [
    {
     "data": {
      "text/html": [
       "<div>\n",
       "<style scoped>\n",
       "    .dataframe tbody tr th:only-of-type {\n",
       "        vertical-align: middle;\n",
       "    }\n",
       "\n",
       "    .dataframe tbody tr th {\n",
       "        vertical-align: top;\n",
       "    }\n",
       "\n",
       "    .dataframe thead th {\n",
       "        text-align: right;\n",
       "    }\n",
       "</style>\n",
       "<table border=\"1\" class=\"dataframe\">\n",
       "  <thead>\n",
       "    <tr style=\"text-align: right;\">\n",
       "      <th></th>\n",
       "      <th>Sales Rep</th>\n",
       "      <th>Sales Rep Id</th>\n",
       "      <th>Company Name</th>\n",
       "      <th>Company Id</th>\n",
       "      <th>Order Id</th>\n",
       "      <th>Date</th>\n",
       "      <th>Order Value</th>\n",
       "      <th>Converted</th>\n",
       "    </tr>\n",
       "  </thead>\n",
       "  <tbody>\n",
       "    <tr>\n",
       "      <th>0</th>\n",
       "      <td>William Taylor</td>\n",
       "      <td>ZTZA0ZLYZR85PTUJ</td>\n",
       "      <td>Melancholy Social-Role</td>\n",
       "      <td>D0AUXPP07H6AVSGD</td>\n",
       "      <td>HZSXLI1IS9RGABZW</td>\n",
       "      <td>2017-10-13</td>\n",
       "      <td>6952</td>\n",
       "      <td>0</td>\n",
       "    </tr>\n",
       "    <tr>\n",
       "      <th>1</th>\n",
       "      <td>William Taylor</td>\n",
       "      <td>ZTZA0ZLYZR85PTUJ</td>\n",
       "      <td>Melancholy Social-Role</td>\n",
       "      <td>D0AUXPP07H6AVSGD</td>\n",
       "      <td>582WPS3OW8T6YT0R</td>\n",
       "      <td>2017-09-02</td>\n",
       "      <td>7930</td>\n",
       "      <td>0</td>\n",
       "    </tr>\n",
       "  </tbody>\n",
       "</table>\n",
       "</div>"
      ],
      "text/plain": [
       "        Sales Rep      Sales Rep Id            Company Name        Company Id  \\\n",
       "0  William Taylor  ZTZA0ZLYZR85PTUJ  Melancholy Social-Role  D0AUXPP07H6AVSGD   \n",
       "1  William Taylor  ZTZA0ZLYZR85PTUJ  Melancholy Social-Role  D0AUXPP07H6AVSGD   \n",
       "\n",
       "           Order Id       Date  Order Value  Converted  \n",
       "0  HZSXLI1IS9RGABZW 2017-10-13         6952          0  \n",
       "1  582WPS3OW8T6YT0R 2017-09-02         7930          0  "
      ]
     },
     "execution_count": 875,
     "metadata": {},
     "output_type": "execute_result"
    }
   ],
   "source": [
    "team_orders.head(2)"
   ]
  },
  {
   "cell_type": "markdown",
   "metadata": {
    "slideshow": {
     "slide_type": "skip"
    }
   },
   "source": [
    "Первое, что напрашивается, как влияет кол-во компаний, с которыми взаимодействует торговый представитель на конверсию лида"
   ]
  },
  {
   "cell_type": "code",
   "execution_count": 876,
   "metadata": {
    "slideshow": {
     "slide_type": "skip"
    }
   },
   "outputs": [],
   "source": [
    "Conversion_Rep = team_orders.groupby('Sales Rep').mean()['Converted'].reset_index()"
   ]
  },
  {
   "cell_type": "code",
   "execution_count": 877,
   "metadata": {
    "slideshow": {
     "slide_type": "skip"
    }
   },
   "outputs": [
    {
     "data": {
      "image/png": "[encoded data removed]",
      "text/plain": [
       "<Figure size 504x360 with 1 Axes>"
      ]
     },
     "metadata": {},
     "output_type": "display_data"
    }
   ],
   "source": [
    "Conversion_Rep.hist()\n",
    "plt.show()"
   ]
  },
  {
   "cell_type": "markdown",
   "metadata": {
    "slideshow": {
     "slide_type": "skip"
    }
   },
   "source": [
    "https://stackoverflow.com/questions/18554920/pandas-aggregate-count-distinct/46452259"
   ]
  },
  {
   "cell_type": "code",
   "execution_count": 878,
   "metadata": {
    "slideshow": {
     "slide_type": "skip"
    }
   },
   "outputs": [],
   "source": [
    "Conv_rate_by_company_num = team_orders.groupby(\"Sales Rep\").agg({\"Company Name\": pd.Series.nunique, \"Converted\": np.mean}).reset_index()"
   ]
  },
  {
   "cell_type": "code",
   "execution_count": 879,
   "metadata": {
    "slideshow": {
     "slide_type": "skip"
    }
   },
   "outputs": [
    {
     "data": {
      "text/html": [
       "<div>\n",
       "<style scoped>\n",
       "    .dataframe tbody tr th:only-of-type {\n",
       "        vertical-align: middle;\n",
       "    }\n",
       "\n",
       "    .dataframe tbody tr th {\n",
       "        vertical-align: top;\n",
       "    }\n",
       "\n",
       "    .dataframe thead th {\n",
       "        text-align: right;\n",
       "    }\n",
       "</style>\n",
       "<table border=\"1\" class=\"dataframe\">\n",
       "  <thead>\n",
       "    <tr style=\"text-align: right;\">\n",
       "      <th></th>\n",
       "      <th>Sales Rep</th>\n",
       "      <th>Company Name</th>\n",
       "      <th>Converted</th>\n",
       "    </tr>\n",
       "  </thead>\n",
       "  <tbody>\n",
       "    <tr>\n",
       "      <th>0</th>\n",
       "      <td>Aaron Hendrickson</td>\n",
       "      <td>13</td>\n",
       "      <td>0.157534</td>\n",
       "    </tr>\n",
       "    <tr>\n",
       "      <th>1</th>\n",
       "      <td>Adam Sawyer</td>\n",
       "      <td>16</td>\n",
       "      <td>0.148148</td>\n",
       "    </tr>\n",
       "    <tr>\n",
       "      <th>2</th>\n",
       "      <td>Adele Kimmel</td>\n",
       "      <td>5</td>\n",
       "      <td>0.173913</td>\n",
       "    </tr>\n",
       "    <tr>\n",
       "      <th>3</th>\n",
       "      <td>Adrian Daugherty</td>\n",
       "      <td>18</td>\n",
       "      <td>0.138211</td>\n",
       "    </tr>\n",
       "    <tr>\n",
       "      <th>4</th>\n",
       "      <td>Adrianna Shelton</td>\n",
       "      <td>2</td>\n",
       "      <td>0.216216</td>\n",
       "    </tr>\n",
       "  </tbody>\n",
       "</table>\n",
       "</div>"
      ],
      "text/plain": [
       "           Sales Rep  Company Name  Converted\n",
       "0  Aaron Hendrickson            13   0.157534\n",
       "1        Adam Sawyer            16   0.148148\n",
       "2       Adele Kimmel             5   0.173913\n",
       "3   Adrian Daugherty            18   0.138211\n",
       "4   Adrianna Shelton             2   0.216216"
      ]
     },
     "execution_count": 879,
     "metadata": {},
     "output_type": "execute_result"
    }
   ],
   "source": [
    "Conv_rate_by_company_num.head()"
   ]
  },
  {
   "cell_type": "code",
   "execution_count": 881,
   "metadata": {
    "slideshow": {
     "slide_type": "skip"
    }
   },
   "outputs": [
    {
     "data": {
      "image/png": "[encoded data removed]",
      "text/plain": [
       "<Figure size 504x360 with 1 Axes>"
      ]
     },
     "metadata": {},
     "output_type": "display_data"
    }
   ],
   "source": [
    "Com_num = Conv_rate_by_company_num['Company Name']\n",
    "Con_rate = Conv_rate_by_company_num['Converted']\n",
    "sns.regplot(x= Com_num, y=Con_rate,data=Conv_rate_by_company_num, fit_reg=True)\n",
    "plt.xlabel('Кол-во компаний')\n",
    "plt.ylabel('Конверсия')\n",
    "plt.title('Корреляционная зависимость конверсии от кол-ва компаний')\n",
    "plt.xticks(np.arange(0, 20, step=1))\n",
    "plt.grid(True)\n",
    "plt.show()"
   ]
  },
  {
   "cell_type": "markdown",
   "metadata": {
    "slideshow": {
     "slide_type": "skip"
    }
   },
   "source": [
    "https://nagornyy.me/courses/data-science/intro-to-seaborn/"
   ]
  },
  {
   "cell_type": "code",
   "execution_count": 8,
   "metadata": {
    "slideshow": {
     "slide_type": "skip"
    }
   },
   "outputs": [
    {
     "ename": "NameError",
     "evalue": "name 'sns' is not defined",
     "output_type": "error",
     "traceback": [
      "\u001b[1;31m---------------------------------------------------------------------------\u001b[0m",
      "\u001b[1;31mNameError\u001b[0m                                 Traceback (most recent call last)",
      "\u001b[1;32m<ipython-input-8-7b2fb0d8d2f7>\u001b[0m in \u001b[0;36m<module>\u001b[1;34m\u001b[0m\n\u001b[1;32m----> 1\u001b[1;33m \u001b[0msns\u001b[0m\u001b[1;33m.\u001b[0m\u001b[0mset\u001b[0m\u001b[1;33m(\u001b[0m\u001b[0mrc\u001b[0m \u001b[1;33m=\u001b[0m \u001b[1;33m{\u001b[0m\u001b[1;34m'figure.figsize'\u001b[0m\u001b[1;33m:\u001b[0m\u001b[1;33m(\u001b[0m\u001b[1;36m10\u001b[0m\u001b[1;33m,\u001b[0m\u001b[1;36m7\u001b[0m\u001b[1;33m)\u001b[0m\u001b[1;33m}\u001b[0m\u001b[1;33m)\u001b[0m\u001b[1;33m\u001b[0m\u001b[1;33m\u001b[0m\u001b[0m\n\u001b[0m",
      "\u001b[1;31mNameError\u001b[0m: name 'sns' is not defined"
     ]
    }
   ],
   "source": [
    "sns.set(rc = {'figure.figsize':(10,7)})"
   ]
  },
  {
   "cell_type": "code",
   "execution_count": null,
   "metadata": {
    "slideshow": {
     "slide_type": "skip"
    }
   },
   "outputs": [],
   "source": [
    "Отдельно две компании"
   ]
  },
  {
   "cell_type": "code",
   "execution_count": 9,
   "metadata": {
    "slideshow": {
     "slide_type": "skip"
    }
   },
   "outputs": [
    {
     "ename": "NameError",
     "evalue": "name 'sns' is not defined",
     "output_type": "error",
     "traceback": [
      "\u001b[1;31m---------------------------------------------------------------------------\u001b[0m",
      "\u001b[1;31mNameError\u001b[0m                                 Traceback (most recent call last)",
      "\u001b[1;32m<ipython-input-9-bbf64963d06c>\u001b[0m in \u001b[0;36m<module>\u001b[1;34m\u001b[0m\n\u001b[1;32m----> 1\u001b[1;33m \u001b[0mfig\u001b[0m \u001b[1;33m=\u001b[0m \u001b[0msns\u001b[0m\u001b[1;33m.\u001b[0m\u001b[0mFacetGrid\u001b[0m\u001b[1;33m(\u001b[0m\u001b[0mConv_rate_by_company_num\u001b[0m\u001b[1;33m,\u001b[0m \u001b[0mcol\u001b[0m\u001b[1;33m=\u001b[0m\u001b[1;34m\"Company Name\"\u001b[0m\u001b[1;33m,\u001b[0m\u001b[0mcol_wrap\u001b[0m\u001b[1;33m=\u001b[0m\u001b[1;36m5\u001b[0m\u001b[1;33m)\u001b[0m\u001b[1;33m\u001b[0m\u001b[1;33m\u001b[0m\u001b[0m\n\u001b[0m\u001b[0;32m      2\u001b[0m \u001b[0mfig\u001b[0m \u001b[1;33m=\u001b[0m \u001b[0mfig\u001b[0m\u001b[1;33m.\u001b[0m\u001b[0mmap\u001b[0m\u001b[1;33m(\u001b[0m\u001b[0msns\u001b[0m\u001b[1;33m.\u001b[0m\u001b[0mkdeplot\u001b[0m\u001b[1;33m,\u001b[0m \u001b[1;34m\"Converted\"\u001b[0m\u001b[1;33m,\u001b[0m\u001b[0mshade\u001b[0m\u001b[1;33m=\u001b[0m\u001b[1;32mTrue\u001b[0m\u001b[1;33m)\u001b[0m\u001b[1;33m\u001b[0m\u001b[1;33m\u001b[0m\u001b[0m\n\u001b[0;32m      3\u001b[0m \u001b[0mplt\u001b[0m\u001b[1;33m.\u001b[0m\u001b[0mshow\u001b[0m\u001b[1;33m(\u001b[0m\u001b[1;33m)\u001b[0m\u001b[1;33m\u001b[0m\u001b[1;33m\u001b[0m\u001b[0m\n",
      "\u001b[1;31mNameError\u001b[0m: name 'sns' is not defined"
     ]
    }
   ],
   "source": [
    "fig = sns.FacetGrid(Conv_rate_by_company_num, col=\"Company Name\",col_wrap=5)\n",
    "fig = fig.map(sns.kdeplot, \"Converted\",shade=True)\n",
    "plt.show()"
   ]
  },
  {
   "cell_type": "markdown",
   "metadata": {
    "slideshow": {
     "slide_type": "skip"
    }
   },
   "source": [
    "На основании двух графиков можно сделать вывод, что наиболее оптимально 8-9 компаний на 1 - го менеджера, т.к разброс ( отклонение ) минимально, а конверсия наибольщая"
   ]
  },
  {
   "cell_type": "markdown",
   "metadata": {
    "slideshow": {
     "slide_type": "skip"
    }
   },
   "source": [
    "https://stackoverflow.com/questions/22005911/convert-columns-to-string-in-pandas"
   ]
  },
  {
   "cell_type": "markdown",
   "metadata": {
    "slideshow": {
     "slide_type": "skip"
    }
   },
   "source": [
    "https://stackoverflow.com/questions/26886653/pandas-create-new-column-based-on-values-from-other-columns-apply-a-function-o"
   ]
  }
 ],
 "metadata": {
  "celltoolbar": "Slideshow",
  "kernelspec": {
   "display_name": "Python 3",
   "language": "python",
   "name": "python3"
  },
  "language_info": {
   "codemirror_mode": {
    "name": "ipython",
    "version": 3
   },
   "file_extension": ".py",
   "mimetype": "text/x-python",
   "name": "python",
   "nbconvert_exporter": "python",
   "pygments_lexer": "ipython3",
   "version": "3.7.3"
  }
 },
 "nbformat": 4,
 "nbformat_minor": 2
}
